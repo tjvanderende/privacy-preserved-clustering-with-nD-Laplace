{
 "cells": [
  {
   "cell_type": "code",
   "execution_count": 3,
   "metadata": {
    "collapsed": true,
    "ExecuteTime": {
     "end_time": "2023-07-28T13:00:53.904261Z",
     "start_time": "2023-07-28T13:00:53.434333Z"
    }
   },
   "outputs": [
    {
     "name": "stderr",
     "output_type": "stream",
     "text": [
      "/Users/tjibbevanderende/anaconda3/envs/notebook-thesis/lib/python3.8/site-packages/art/estimators/certification/__init__.py:14: UserWarning: PyTorch not found. Not importing DeepZ or Interval Bound Propagation functionality\n",
      "  warnings.warn(\"PyTorch not found. Not importing DeepZ or Interval Bound Propagation functionality\")\n"
     ]
    }
   ],
   "source": [
    "from Helpers import helpers\n",
    "import numpy as np\n",
    "import pandas as pd\n",
    "import matplotlib.pyplot as plt\n",
    "import seaborn as sns\n",
    "from sklearn.preprocessing import StandardScaler"
   ]
  },
  {
   "cell_type": "code",
   "execution_count": 4,
   "outputs": [
    {
     "data": {
      "text/plain": "       baseline value  accelerations  fetal_movement  uterine_contractions  \\\n14882      134.701799      -2.489474       -0.047867              0.017656   \n14883      156.153689       1.839922        1.277743              4.364227   \n14884      141.164462      -0.261983       -0.895195              4.983556   \n14885      155.977233       3.250912        0.076764              6.009119   \n14886      143.318773      14.383951       -1.054274              4.965365   \n\n       light_decelerations  histogram_width  histogram_min  histogram_max  \\\n14882             0.011263        64.002392      62.000254     126.000150   \n14883             2.040978       130.016510      67.998380     197.999144   \n14884             1.992754       129.996432      68.000071     198.000004   \n14885             1.998609       116.999654      52.999926     170.000030   \n14886            -0.003948       117.000221      53.000093     169.999978   \n\n       histogram_number_of_peaks  \n14882                   1.999982  \n14883                   6.000041  \n14884                   5.000003  \n14885                  10.999995  \n14886                   9.000002  ",
      "text/html": "<div>\n<style scoped>\n    .dataframe tbody tr th:only-of-type {\n        vertical-align: middle;\n    }\n\n    .dataframe tbody tr th {\n        vertical-align: top;\n    }\n\n    .dataframe thead th {\n        text-align: right;\n    }\n</style>\n<table border=\"1\" class=\"dataframe\">\n  <thead>\n    <tr style=\"text-align: right;\">\n      <th></th>\n      <th>baseline value</th>\n      <th>accelerations</th>\n      <th>fetal_movement</th>\n      <th>uterine_contractions</th>\n      <th>light_decelerations</th>\n      <th>histogram_width</th>\n      <th>histogram_min</th>\n      <th>histogram_max</th>\n      <th>histogram_number_of_peaks</th>\n    </tr>\n  </thead>\n  <tbody>\n    <tr>\n      <th>14882</th>\n      <td>134.701799</td>\n      <td>-2.489474</td>\n      <td>-0.047867</td>\n      <td>0.017656</td>\n      <td>0.011263</td>\n      <td>64.002392</td>\n      <td>62.000254</td>\n      <td>126.000150</td>\n      <td>1.999982</td>\n    </tr>\n    <tr>\n      <th>14883</th>\n      <td>156.153689</td>\n      <td>1.839922</td>\n      <td>1.277743</td>\n      <td>4.364227</td>\n      <td>2.040978</td>\n      <td>130.016510</td>\n      <td>67.998380</td>\n      <td>197.999144</td>\n      <td>6.000041</td>\n    </tr>\n    <tr>\n      <th>14884</th>\n      <td>141.164462</td>\n      <td>-0.261983</td>\n      <td>-0.895195</td>\n      <td>4.983556</td>\n      <td>1.992754</td>\n      <td>129.996432</td>\n      <td>68.000071</td>\n      <td>198.000004</td>\n      <td>5.000003</td>\n    </tr>\n    <tr>\n      <th>14885</th>\n      <td>155.977233</td>\n      <td>3.250912</td>\n      <td>0.076764</td>\n      <td>6.009119</td>\n      <td>1.998609</td>\n      <td>116.999654</td>\n      <td>52.999926</td>\n      <td>170.000030</td>\n      <td>10.999995</td>\n    </tr>\n    <tr>\n      <th>14886</th>\n      <td>143.318773</td>\n      <td>14.383951</td>\n      <td>-1.054274</td>\n      <td>4.965365</td>\n      <td>-0.003948</td>\n      <td>117.000221</td>\n      <td>53.000093</td>\n      <td>169.999978</td>\n      <td>9.000002</td>\n    </tr>\n  </tbody>\n</table>\n</div>"
     },
     "execution_count": 4,
     "metadata": {},
     "output_type": "execute_result"
    }
   ],
   "source": [
    "# Load data\n",
    "heart_dataset = helpers.load_dataset('./data/kd-laplace/kd-Laplace/heart-dataset/full_perturbation.csv')\n",
    "heart_dataset_9_dim = heart_dataset[heart_dataset['dimension'] == 9].drop(columns=['dimension', 'epsilon', 'mechanism', 'class'])\n",
    "heart_dataset_9_dim.head()"
   ],
   "metadata": {
    "collapsed": false,
    "ExecuteTime": {
     "end_time": "2023-07-28T13:00:54.158922Z",
     "start_time": "2023-07-28T13:00:53.907215Z"
    }
   }
  },
  {
   "cell_type": "code",
   "execution_count": 5,
   "outputs": [
    {
     "data": {
      "text/plain": "   baseline value  accelerations  fetal_movement  uterine_contractions  \\\n0       -0.361990      -1.202870       -0.196524             -1.275349   \n1        1.542345      -0.203130       -0.160819              0.246438   \n2        0.211716      -0.688500       -0.219347              0.463273   \n3        1.526681       0.122695       -0.193167              0.822335   \n4        0.402959       2.693525       -0.223631              0.456904   \n\n   light_decelerations  histogram_width  histogram_min  histogram_max  \\\n0            -0.623632        -0.165446      -1.068554      -2.119584   \n1             0.188487         1.529548      -0.865594       1.893747   \n2             0.169191         1.529032      -0.865536       1.893795   \n3             0.171534         1.195324      -1.373100       0.333035   \n4            -0.629718         1.195338      -1.373094       0.333032   \n\n   histogram_number_of_peaks  \n0                  -0.701403  \n1                   0.655151  \n2                   0.316004  \n3                   2.350802  \n4                   1.672537  ",
      "text/html": "<div>\n<style scoped>\n    .dataframe tbody tr th:only-of-type {\n        vertical-align: middle;\n    }\n\n    .dataframe tbody tr th {\n        vertical-align: top;\n    }\n\n    .dataframe thead th {\n        text-align: right;\n    }\n</style>\n<table border=\"1\" class=\"dataframe\">\n  <thead>\n    <tr style=\"text-align: right;\">\n      <th></th>\n      <th>baseline value</th>\n      <th>accelerations</th>\n      <th>fetal_movement</th>\n      <th>uterine_contractions</th>\n      <th>light_decelerations</th>\n      <th>histogram_width</th>\n      <th>histogram_min</th>\n      <th>histogram_max</th>\n      <th>histogram_number_of_peaks</th>\n    </tr>\n  </thead>\n  <tbody>\n    <tr>\n      <th>0</th>\n      <td>-0.361990</td>\n      <td>-1.202870</td>\n      <td>-0.196524</td>\n      <td>-1.275349</td>\n      <td>-0.623632</td>\n      <td>-0.165446</td>\n      <td>-1.068554</td>\n      <td>-2.119584</td>\n      <td>-0.701403</td>\n    </tr>\n    <tr>\n      <th>1</th>\n      <td>1.542345</td>\n      <td>-0.203130</td>\n      <td>-0.160819</td>\n      <td>0.246438</td>\n      <td>0.188487</td>\n      <td>1.529548</td>\n      <td>-0.865594</td>\n      <td>1.893747</td>\n      <td>0.655151</td>\n    </tr>\n    <tr>\n      <th>2</th>\n      <td>0.211716</td>\n      <td>-0.688500</td>\n      <td>-0.219347</td>\n      <td>0.463273</td>\n      <td>0.169191</td>\n      <td>1.529032</td>\n      <td>-0.865536</td>\n      <td>1.893795</td>\n      <td>0.316004</td>\n    </tr>\n    <tr>\n      <th>3</th>\n      <td>1.526681</td>\n      <td>0.122695</td>\n      <td>-0.193167</td>\n      <td>0.822335</td>\n      <td>0.171534</td>\n      <td>1.195324</td>\n      <td>-1.373100</td>\n      <td>0.333035</td>\n      <td>2.350802</td>\n    </tr>\n    <tr>\n      <th>4</th>\n      <td>0.402959</td>\n      <td>2.693525</td>\n      <td>-0.223631</td>\n      <td>0.456904</td>\n      <td>-0.629718</td>\n      <td>1.195338</td>\n      <td>-1.373094</td>\n      <td>0.333032</td>\n      <td>1.672537</td>\n    </tr>\n  </tbody>\n</table>\n</div>"
     },
     "execution_count": 5,
     "metadata": {},
     "output_type": "execute_result"
    }
   ],
   "source": [
    "heart_dataset_scaled = pd.DataFrame(StandardScaler().fit_transform(heart_dataset_9_dim), columns=heart_dataset_9_dim.columns)\n",
    "heart_dataset_scaled.head()"
   ],
   "metadata": {
    "collapsed": false,
    "ExecuteTime": {
     "end_time": "2023-07-28T13:00:54.179113Z",
     "start_time": "2023-07-28T13:00:54.159540Z"
    }
   }
  },
  {
   "cell_type": "code",
   "execution_count": 6,
   "outputs": [
    {
     "data": {
      "text/plain": "AgglomerativeClustering(n_clusters=4)",
      "text/html": "<style>#sk-container-id-1 {color: black;background-color: white;}#sk-container-id-1 pre{padding: 0;}#sk-container-id-1 div.sk-toggleable {background-color: white;}#sk-container-id-1 label.sk-toggleable__label {cursor: pointer;display: block;width: 100%;margin-bottom: 0;padding: 0.3em;box-sizing: border-box;text-align: center;}#sk-container-id-1 label.sk-toggleable__label-arrow:before {content: \"▸\";float: left;margin-right: 0.25em;color: #696969;}#sk-container-id-1 label.sk-toggleable__label-arrow:hover:before {color: black;}#sk-container-id-1 div.sk-estimator:hover label.sk-toggleable__label-arrow:before {color: black;}#sk-container-id-1 div.sk-toggleable__content {max-height: 0;max-width: 0;overflow: hidden;text-align: left;background-color: #f0f8ff;}#sk-container-id-1 div.sk-toggleable__content pre {margin: 0.2em;color: black;border-radius: 0.25em;background-color: #f0f8ff;}#sk-container-id-1 input.sk-toggleable__control:checked~div.sk-toggleable__content {max-height: 200px;max-width: 100%;overflow: auto;}#sk-container-id-1 input.sk-toggleable__control:checked~label.sk-toggleable__label-arrow:before {content: \"▾\";}#sk-container-id-1 div.sk-estimator input.sk-toggleable__control:checked~label.sk-toggleable__label {background-color: #d4ebff;}#sk-container-id-1 div.sk-label input.sk-toggleable__control:checked~label.sk-toggleable__label {background-color: #d4ebff;}#sk-container-id-1 input.sk-hidden--visually {border: 0;clip: rect(1px 1px 1px 1px);clip: rect(1px, 1px, 1px, 1px);height: 1px;margin: -1px;overflow: hidden;padding: 0;position: absolute;width: 1px;}#sk-container-id-1 div.sk-estimator {font-family: monospace;background-color: #f0f8ff;border: 1px dotted black;border-radius: 0.25em;box-sizing: border-box;margin-bottom: 0.5em;}#sk-container-id-1 div.sk-estimator:hover {background-color: #d4ebff;}#sk-container-id-1 div.sk-parallel-item::after {content: \"\";width: 100%;border-bottom: 1px solid gray;flex-grow: 1;}#sk-container-id-1 div.sk-label:hover label.sk-toggleable__label {background-color: #d4ebff;}#sk-container-id-1 div.sk-serial::before {content: \"\";position: absolute;border-left: 1px solid gray;box-sizing: border-box;top: 0;bottom: 0;left: 50%;z-index: 0;}#sk-container-id-1 div.sk-serial {display: flex;flex-direction: column;align-items: center;background-color: white;padding-right: 0.2em;padding-left: 0.2em;position: relative;}#sk-container-id-1 div.sk-item {position: relative;z-index: 1;}#sk-container-id-1 div.sk-parallel {display: flex;align-items: stretch;justify-content: center;background-color: white;position: relative;}#sk-container-id-1 div.sk-item::before, #sk-container-id-1 div.sk-parallel-item::before {content: \"\";position: absolute;border-left: 1px solid gray;box-sizing: border-box;top: 0;bottom: 0;left: 50%;z-index: -1;}#sk-container-id-1 div.sk-parallel-item {display: flex;flex-direction: column;z-index: 1;position: relative;background-color: white;}#sk-container-id-1 div.sk-parallel-item:first-child::after {align-self: flex-end;width: 50%;}#sk-container-id-1 div.sk-parallel-item:last-child::after {align-self: flex-start;width: 50%;}#sk-container-id-1 div.sk-parallel-item:only-child::after {width: 0;}#sk-container-id-1 div.sk-dashed-wrapped {border: 1px dashed gray;margin: 0 0.4em 0.5em 0.4em;box-sizing: border-box;padding-bottom: 0.4em;background-color: white;}#sk-container-id-1 div.sk-label label {font-family: monospace;font-weight: bold;display: inline-block;line-height: 1.2em;}#sk-container-id-1 div.sk-label-container {text-align: center;}#sk-container-id-1 div.sk-container {/* jupyter's `normalize.less` sets `[hidden] { display: none; }` but bootstrap.min.css set `[hidden] { display: none !important; }` so we also need the `!important` here to be able to override the default hidden behavior on the sphinx rendered scikit-learn.org. See: https://github.com/scikit-learn/scikit-learn/issues/21755 */display: inline-block !important;position: relative;}#sk-container-id-1 div.sk-text-repr-fallback {display: none;}</style><div id=\"sk-container-id-1\" class=\"sk-top-container\"><div class=\"sk-text-repr-fallback\"><pre>AgglomerativeClustering(n_clusters=4)</pre><b>In a Jupyter environment, please rerun this cell to show the HTML representation or trust the notebook. <br />On GitHub, the HTML representation is unable to render, please try loading this page with nbviewer.org.</b></div><div class=\"sk-container\" hidden><div class=\"sk-item\"><div class=\"sk-estimator sk-toggleable\"><input class=\"sk-toggleable__control sk-hidden--visually\" id=\"sk-estimator-id-1\" type=\"checkbox\" checked><label for=\"sk-estimator-id-1\" class=\"sk-toggleable__label sk-toggleable__label-arrow\">AgglomerativeClustering</label><div class=\"sk-toggleable__content\"><pre>AgglomerativeClustering(n_clusters=4)</pre></div></div></div></div></div>"
     },
     "execution_count": 6,
     "metadata": {},
     "output_type": "execute_result"
    }
   ],
   "source": [
    "from sklearn.cluster import AgglomerativeClustering, AffinityPropagation\n",
    "hierachichal_model = AgglomerativeClustering(n_clusters=4)\n",
    "hierachichal_model.fit(heart_dataset_scaled)"
   ],
   "metadata": {
    "collapsed": false,
    "ExecuteTime": {
     "end_time": "2023-07-28T13:01:10.106263Z",
     "start_time": "2023-07-28T13:00:54.189004Z"
    }
   }
  },
  {
   "cell_type": "code",
   "execution_count": 14,
   "outputs": [
    {
     "data": {
      "text/plain": "   baseline value  accelerations  fetal_movement  uterine_contractions  \\\n0           120.0            0.0             0.0                   0.0   \n1           132.0            4.0             0.0                   4.0   \n2           133.0            2.0             0.0                   5.0   \n3           134.0            2.0             0.0                   6.0   \n4           132.0            4.0             0.0                   5.0   \n\n   light_decelerations  histogram_width  histogram_min  histogram_max  \\\n0                  0.0             64.0           62.0          126.0   \n1                  2.0            130.0           68.0          198.0   \n2                  2.0            130.0           68.0          198.0   \n3                  2.0            117.0           53.0          170.0   \n4                  0.0            117.0           53.0          170.0   \n\n   histogram_number_of_peaks  class  \n0                        2.0    1.0  \n1                        6.0    0.0  \n2                        5.0    0.0  \n3                       11.0    0.0  \n4                        9.0    0.0  ",
      "text/html": "<div>\n<style scoped>\n    .dataframe tbody tr th:only-of-type {\n        vertical-align: middle;\n    }\n\n    .dataframe tbody tr th {\n        vertical-align: top;\n    }\n\n    .dataframe thead th {\n        text-align: right;\n    }\n</style>\n<table border=\"1\" class=\"dataframe\">\n  <thead>\n    <tr style=\"text-align: right;\">\n      <th></th>\n      <th>baseline value</th>\n      <th>accelerations</th>\n      <th>fetal_movement</th>\n      <th>uterine_contractions</th>\n      <th>light_decelerations</th>\n      <th>histogram_width</th>\n      <th>histogram_min</th>\n      <th>histogram_max</th>\n      <th>histogram_number_of_peaks</th>\n      <th>class</th>\n    </tr>\n  </thead>\n  <tbody>\n    <tr>\n      <th>0</th>\n      <td>120.0</td>\n      <td>0.0</td>\n      <td>0.0</td>\n      <td>0.0</td>\n      <td>0.0</td>\n      <td>64.0</td>\n      <td>62.0</td>\n      <td>126.0</td>\n      <td>2.0</td>\n      <td>1.0</td>\n    </tr>\n    <tr>\n      <th>1</th>\n      <td>132.0</td>\n      <td>4.0</td>\n      <td>0.0</td>\n      <td>4.0</td>\n      <td>2.0</td>\n      <td>130.0</td>\n      <td>68.0</td>\n      <td>198.0</td>\n      <td>6.0</td>\n      <td>0.0</td>\n    </tr>\n    <tr>\n      <th>2</th>\n      <td>133.0</td>\n      <td>2.0</td>\n      <td>0.0</td>\n      <td>5.0</td>\n      <td>2.0</td>\n      <td>130.0</td>\n      <td>68.0</td>\n      <td>198.0</td>\n      <td>5.0</td>\n      <td>0.0</td>\n    </tr>\n    <tr>\n      <th>3</th>\n      <td>134.0</td>\n      <td>2.0</td>\n      <td>0.0</td>\n      <td>6.0</td>\n      <td>2.0</td>\n      <td>117.0</td>\n      <td>53.0</td>\n      <td>170.0</td>\n      <td>11.0</td>\n      <td>0.0</td>\n    </tr>\n    <tr>\n      <th>4</th>\n      <td>132.0</td>\n      <td>4.0</td>\n      <td>0.0</td>\n      <td>5.0</td>\n      <td>0.0</td>\n      <td>117.0</td>\n      <td>53.0</td>\n      <td>170.0</td>\n      <td>9.0</td>\n      <td>0.0</td>\n    </tr>\n  </tbody>\n</table>\n</div>"
     },
     "execution_count": 14,
     "metadata": {},
     "output_type": "execute_result"
    }
   ],
   "source": [
    "plain_data = helpers.load_dataset('../data/heart-dataset/heart_numerical.csv')\n",
    "plain_data.head()"
   ],
   "metadata": {
    "collapsed": false,
    "ExecuteTime": {
     "end_time": "2023-07-28T13:44:20.449862Z",
     "start_time": "2023-07-28T13:44:20.438132Z"
    }
   }
  },
  {
   "cell_type": "code",
   "execution_count": 38,
   "outputs": [],
   "source": [
    "from sklearn.metrics import silhouette_score\n",
    "\n",
    "\n",
    "def determine_best_cluster_number_based_on_sc(dataset, dataset_name, columns):\n",
    "    amount_of_columns = len(columns)\n",
    "    range_n_clusters = list(range(2,8))\n",
    "\n",
    "    # Store silhouette scores and corresponding cluster numbers\n",
    "    silhouette_scores = []\n",
    "    cluster_numbers = []\n",
    "\n",
    "    for n_clusters in range_n_clusters:\n",
    "        # Initialize the clusterer with n_clusters value and a random generator\n",
    "        # seed of 10 for reproducibility.\n",
    "        clusterer = AgglomerativeClustering(n_clusters=n_clusters)\n",
    "        cluster_labels = clusterer.fit_predict(dataset)\n",
    "\n",
    "        # The silhouette_score gives the average value for all the samples.\n",
    "        # This gives a perspective into the density and separation of the formed clusters\n",
    "        silhouette_avg = silhouette_score(dataset, cluster_labels)\n",
    "        print(\"For n_clusters =\", n_clusters,\n",
    "              \"The average silhouette_score is :\", silhouette_avg)\n",
    "\n",
    "        silhouette_scores.append(silhouette_avg)\n",
    "        cluster_numbers.append(n_clusters)\n",
    "\n",
    "    # Plot silhouette scores against number of clusters\n",
    "    plt.plot(cluster_numbers, silhouette_scores, 'bx-')\n",
    "    plt.xlabel('Number of Clusters (k)')\n",
    "    plt.ylabel('Silhouette Score (SC)')\n",
    "    plt.title(f'Silhouette Score vs Number of Clusters for {dataset_name}')\n",
    "\n",
    "    # Determine optimal number of clusters\n",
    "    optimal_clusters = cluster_numbers[np.argmax(silhouette_scores)]\n",
    "    save_loc = f'./results/params/{dataset_name}_agglomerative_optimal_cluster_{amount_of_columns}.png'\n",
    "    plt.savefig(save_loc, dpi=300)\n",
    "    plt.clf()\n",
    "    print(\"Optimal number of clusters : \", optimal_clusters)\n",
    "    return optimal_clusters"
   ],
   "metadata": {
    "collapsed": false,
    "ExecuteTime": {
     "end_time": "2023-07-28T14:05:19.341303Z",
     "start_time": "2023-07-28T14:05:19.338787Z"
    }
   }
  },
  {
   "cell_type": "code",
   "execution_count": 39,
   "outputs": [],
   "source": [
    "datasets = {\n",
    "    'heart-dataset': '../data/heart-dataset/heart_numerical.csv',\n",
    "    'seeds-dataset': '../data/seeds-dataset/rq2-nd.csv',\n",
    "    'circle-dataset': '../RQ3/data/circle_1000_3d.csv',\n",
    "    'line-dataset': '../RQ3/data/line_1000_3d.csv',\n",
    "    'skewed-dataset': '../RQ3/data/skewed_1000_3d_.csv'\n",
    "}"
   ],
   "metadata": {
    "collapsed": false,
    "ExecuteTime": {
     "end_time": "2023-07-28T14:05:19.983142Z",
     "start_time": "2023-07-28T14:05:19.980249Z"
    }
   }
  },
  {
   "cell_type": "markdown",
   "source": [],
   "metadata": {
    "collapsed": false
   }
  },
  {
   "cell_type": "code",
   "execution_count": 45,
   "outputs": [
    {
     "name": "stdout",
     "output_type": "stream",
     "text": [
      "Running heart-dataset\n",
      "loc ../data/heart-dataset/heart_numerical.csv\n",
      "For n_clusters = 2 The average silhouette_score is : 0.44796477101288795\n",
      "For n_clusters = 3 The average silhouette_score is : 0.4005555113023231\n",
      "For n_clusters = 4 The average silhouette_score is : 0.36328012843937796\n",
      "For n_clusters = 5 The average silhouette_score is : 0.34241483561453595\n",
      "For n_clusters = 6 The average silhouette_score is : 0.354018087996381\n",
      "For n_clusters = 7 The average silhouette_score is : 0.358353340818107\n",
      "Optimal number of clusters :  2\n",
      "For n_clusters = 2 The average silhouette_score is : 0.9318303546396622\n",
      "For n_clusters = 3 The average silhouette_score is : 0.9214291084413213\n",
      "For n_clusters = 4 The average silhouette_score is : 0.7539862090407552\n",
      "For n_clusters = 5 The average silhouette_score is : 0.4116414211244658\n",
      "For n_clusters = 6 The average silhouette_score is : 0.4141808371644872\n",
      "For n_clusters = 7 The average silhouette_score is : 0.3560560500540613\n",
      "Optimal number of clusters :  2\n",
      "For n_clusters = 2 The average silhouette_score is : 0.46776919660055577\n",
      "For n_clusters = 3 The average silhouette_score is : 0.4914767415438267\n",
      "For n_clusters = 4 The average silhouette_score is : 0.3953966294252747\n",
      "For n_clusters = 5 The average silhouette_score is : 0.39725027263840995\n",
      "For n_clusters = 6 The average silhouette_score is : 0.27704561536897143\n",
      "For n_clusters = 7 The average silhouette_score is : 0.29197338339429335\n",
      "Optimal number of clusters :  3\n",
      "Running seeds-dataset\n",
      "loc ../data/seeds-dataset/rq2-nd.csv\n",
      "For n_clusters = 2 The average silhouette_score is : 0.5527545402394115\n",
      "For n_clusters = 3 The average silhouette_score is : 0.6184575605554891\n",
      "For n_clusters = 4 The average silhouette_score is : 0.5697402215189427\n",
      "For n_clusters = 5 The average silhouette_score is : 0.5618014778885325\n",
      "For n_clusters = 6 The average silhouette_score is : 0.5481103451345368\n",
      "For n_clusters = 7 The average silhouette_score is : 0.547387255001944\n",
      "Optimal number of clusters :  3\n",
      "For n_clusters = 2 The average silhouette_score is : 0.5527003217992971\n",
      "For n_clusters = 3 The average silhouette_score is : 0.6183478251763173\n",
      "For n_clusters = 4 The average silhouette_score is : 0.5695566591506428\n",
      "For n_clusters = 5 The average silhouette_score is : 0.5614955361493817\n",
      "For n_clusters = 6 The average silhouette_score is : 0.5477758892240375\n",
      "For n_clusters = 7 The average silhouette_score is : 0.5470111105975514\n",
      "Optimal number of clusters :  3\n",
      "For n_clusters = 2 The average silhouette_score is : 0.5164895928435846\n",
      "For n_clusters = 3 The average silhouette_score is : 0.44936086230322897\n",
      "For n_clusters = 4 The average silhouette_score is : 0.39223366903908385\n",
      "For n_clusters = 5 The average silhouette_score is : 0.3269608597667026\n",
      "For n_clusters = 6 The average silhouette_score is : 0.3520035194678413\n",
      "For n_clusters = 7 The average silhouette_score is : 0.3403394040108503\n",
      "Optimal number of clusters :  2\n",
      "Running circle-dataset\n",
      "loc ../RQ3/data/circle_1000_3d.csv\n",
      "For n_clusters = 2 The average silhouette_score is : 0.2941571678617359\n",
      "For n_clusters = 3 The average silhouette_score is : 0.2881434016382024\n",
      "For n_clusters = 4 The average silhouette_score is : 0.3273451594972748\n",
      "For n_clusters = 5 The average silhouette_score is : 0.35201705956828383\n",
      "For n_clusters = 6 The average silhouette_score is : 0.27489946196174514\n",
      "For n_clusters = 7 The average silhouette_score is : 0.27659024460781195\n",
      "Optimal number of clusters :  5\n",
      "For n_clusters = 2 The average silhouette_score is : 0.27108293241104975\n",
      "For n_clusters = 3 The average silhouette_score is : 0.23166567649402903\n",
      "For n_clusters = 4 The average silhouette_score is : 0.2049747040103091\n",
      "For n_clusters = 5 The average silhouette_score is : 0.21367583287755293\n",
      "For n_clusters = 6 The average silhouette_score is : 0.22810421929840377\n",
      "For n_clusters = 7 The average silhouette_score is : 0.22637549225778303\n",
      "Optimal number of clusters :  2\n",
      "For n_clusters = 2 The average silhouette_score is : 0.27108293241104975\n",
      "For n_clusters = 3 The average silhouette_score is : 0.23166567649402903\n",
      "For n_clusters = 4 The average silhouette_score is : 0.2049747040103091\n",
      "For n_clusters = 5 The average silhouette_score is : 0.21367583287755293\n",
      "For n_clusters = 6 The average silhouette_score is : 0.22810421929840377\n",
      "For n_clusters = 7 The average silhouette_score is : 0.22637549225778303\n",
      "Optimal number of clusters :  2\n",
      "Running line-dataset\n",
      "loc ../RQ3/data/line_1000_3d.csv\n",
      "For n_clusters = 2 The average silhouette_score is : 0.6117197821738314\n",
      "For n_clusters = 3 The average silhouette_score is : 0.5377235987203568\n",
      "For n_clusters = 4 The average silhouette_score is : 0.5028405363809545\n",
      "For n_clusters = 5 The average silhouette_score is : 0.5085894916813352\n",
      "For n_clusters = 6 The average silhouette_score is : 0.4800044582080351\n",
      "For n_clusters = 7 The average silhouette_score is : 0.4490682534567514\n",
      "Optimal number of clusters :  2\n",
      "For n_clusters = 2 The average silhouette_score is : 0.40010757163796273\n",
      "For n_clusters = 3 The average silhouette_score is : 0.44262509764018426\n",
      "For n_clusters = 4 The average silhouette_score is : 0.4583296312056547\n",
      "For n_clusters = 5 The average silhouette_score is : 0.49667775676880854\n",
      "For n_clusters = 6 The average silhouette_score is : 0.4798919028158926\n",
      "For n_clusters = 7 The average silhouette_score is : 0.4479465476841853\n",
      "Optimal number of clusters :  5\n",
      "For n_clusters = 2 The average silhouette_score is : 0.40010757163796273\n",
      "For n_clusters = 3 The average silhouette_score is : 0.44262509764018426\n",
      "For n_clusters = 4 The average silhouette_score is : 0.4583296312056547\n",
      "For n_clusters = 5 The average silhouette_score is : 0.49667775676880854\n",
      "For n_clusters = 6 The average silhouette_score is : 0.4798919028158926\n",
      "For n_clusters = 7 The average silhouette_score is : 0.4479465476841853\n",
      "Optimal number of clusters :  5\n",
      "Running skewed-dataset\n",
      "loc ../RQ3/data/skewed_1000_3d_.csv\n",
      "For n_clusters = 2 The average silhouette_score is : 0.3346135271820405\n",
      "For n_clusters = 3 The average silhouette_score is : 0.383725374842134\n",
      "For n_clusters = 4 The average silhouette_score is : 0.3279985141877745\n",
      "For n_clusters = 5 The average silhouette_score is : 0.3239772375444063\n",
      "For n_clusters = 6 The average silhouette_score is : 0.3051482137112158\n",
      "For n_clusters = 7 The average silhouette_score is : 0.29601351108907115\n",
      "Optimal number of clusters :  3\n",
      "For n_clusters = 2 The average silhouette_score is : 0.17295823035423194\n",
      "For n_clusters = 3 The average silhouette_score is : 0.21646720166682845\n",
      "For n_clusters = 4 The average silhouette_score is : 0.23907032560783506\n",
      "For n_clusters = 5 The average silhouette_score is : 0.21584423042914647\n",
      "For n_clusters = 6 The average silhouette_score is : 0.18364542911914633\n",
      "For n_clusters = 7 The average silhouette_score is : 0.19643648860974833\n",
      "Optimal number of clusters :  4\n",
      "For n_clusters = 2 The average silhouette_score is : 0.17295823035423194\n",
      "For n_clusters = 3 The average silhouette_score is : 0.21646720166682845\n",
      "For n_clusters = 4 The average silhouette_score is : 0.23907032560783506\n",
      "For n_clusters = 5 The average silhouette_score is : 0.21584423042914647\n",
      "For n_clusters = 6 The average silhouette_score is : 0.18364542911914633\n",
      "For n_clusters = 7 The average silhouette_score is : 0.19643648860974833\n",
      "Optimal number of clusters :  4\n"
     ]
    },
    {
     "data": {
      "text/plain": "<Figure size 640x480 with 0 Axes>"
     },
     "metadata": {},
     "output_type": "display_data"
    }
   ],
   "source": [
    "optimal_clusters = { 'dataset': [], 'optimal_clusters': [], 'dimensions': [] }\n",
    "\n",
    "for dataset_name, dataset_loc in datasets.items():\n",
    "    print(f'Running {dataset_name}')\n",
    "    print('loc', dataset_loc)\n",
    "    dataset = helpers.load_dataset(dataset_loc).drop(columns=['class'])\n",
    "    for dimensions in [2, 3, len(dataset.columns)]:\n",
    "        data_for_dim = dataset.iloc[:, :dimensions]\n",
    "        optimal = determine_best_cluster_number_based_on_sc(data_for_dim, dataset_name, dataset.columns)\n",
    "        optimal_clusters['dataset'].append(dataset_name)\n",
    "        optimal_clusters['optimal_clusters'].append(optimal)\n",
    "        optimal_clusters['dimensions'].append(dimensions)"
   ],
   "metadata": {
    "collapsed": false,
    "ExecuteTime": {
     "end_time": "2023-07-28T14:09:38.959824Z",
     "start_time": "2023-07-28T14:09:22.496179Z"
    }
   }
  },
  {
   "cell_type": "code",
   "execution_count": 46,
   "outputs": [
    {
     "data": {
      "text/plain": "           dataset  optimal_clusters  dimensions\n0    heart-dataset                 2           2\n1    heart-dataset                 2           3\n2    heart-dataset                 3           9\n3    seeds-dataset                 3           2\n4    seeds-dataset                 3           3\n5    seeds-dataset                 2           7\n6   circle-dataset                 5           2\n7   circle-dataset                 2           3\n8   circle-dataset                 2           3\n9     line-dataset                 2           2\n10    line-dataset                 5           3\n11    line-dataset                 5           3\n12  skewed-dataset                 3           2\n13  skewed-dataset                 4           3\n14  skewed-dataset                 4           3",
      "text/html": "<div>\n<style scoped>\n    .dataframe tbody tr th:only-of-type {\n        vertical-align: middle;\n    }\n\n    .dataframe tbody tr th {\n        vertical-align: top;\n    }\n\n    .dataframe thead th {\n        text-align: right;\n    }\n</style>\n<table border=\"1\" class=\"dataframe\">\n  <thead>\n    <tr style=\"text-align: right;\">\n      <th></th>\n      <th>dataset</th>\n      <th>optimal_clusters</th>\n      <th>dimensions</th>\n    </tr>\n  </thead>\n  <tbody>\n    <tr>\n      <th>0</th>\n      <td>heart-dataset</td>\n      <td>2</td>\n      <td>2</td>\n    </tr>\n    <tr>\n      <th>1</th>\n      <td>heart-dataset</td>\n      <td>2</td>\n      <td>3</td>\n    </tr>\n    <tr>\n      <th>2</th>\n      <td>heart-dataset</td>\n      <td>3</td>\n      <td>9</td>\n    </tr>\n    <tr>\n      <th>3</th>\n      <td>seeds-dataset</td>\n      <td>3</td>\n      <td>2</td>\n    </tr>\n    <tr>\n      <th>4</th>\n      <td>seeds-dataset</td>\n      <td>3</td>\n      <td>3</td>\n    </tr>\n    <tr>\n      <th>5</th>\n      <td>seeds-dataset</td>\n      <td>2</td>\n      <td>7</td>\n    </tr>\n    <tr>\n      <th>6</th>\n      <td>circle-dataset</td>\n      <td>5</td>\n      <td>2</td>\n    </tr>\n    <tr>\n      <th>7</th>\n      <td>circle-dataset</td>\n      <td>2</td>\n      <td>3</td>\n    </tr>\n    <tr>\n      <th>8</th>\n      <td>circle-dataset</td>\n      <td>2</td>\n      <td>3</td>\n    </tr>\n    <tr>\n      <th>9</th>\n      <td>line-dataset</td>\n      <td>2</td>\n      <td>2</td>\n    </tr>\n    <tr>\n      <th>10</th>\n      <td>line-dataset</td>\n      <td>5</td>\n      <td>3</td>\n    </tr>\n    <tr>\n      <th>11</th>\n      <td>line-dataset</td>\n      <td>5</td>\n      <td>3</td>\n    </tr>\n    <tr>\n      <th>12</th>\n      <td>skewed-dataset</td>\n      <td>3</td>\n      <td>2</td>\n    </tr>\n    <tr>\n      <th>13</th>\n      <td>skewed-dataset</td>\n      <td>4</td>\n      <td>3</td>\n    </tr>\n    <tr>\n      <th>14</th>\n      <td>skewed-dataset</td>\n      <td>4</td>\n      <td>3</td>\n    </tr>\n  </tbody>\n</table>\n</div>"
     },
     "execution_count": 46,
     "metadata": {},
     "output_type": "execute_result"
    }
   ],
   "source": [
    "pd.DataFrame(optimal_clusters)"
   ],
   "metadata": {
    "collapsed": false,
    "ExecuteTime": {
     "end_time": "2023-07-28T14:09:38.970172Z",
     "start_time": "2023-07-28T14:09:38.962235Z"
    }
   }
  },
  {
   "cell_type": "code",
   "execution_count": null,
   "outputs": [],
   "source": [],
   "metadata": {
    "collapsed": false
   }
  }
 ],
 "metadata": {
  "kernelspec": {
   "display_name": "Python 3",
   "language": "python",
   "name": "python3"
  },
  "language_info": {
   "codemirror_mode": {
    "name": "ipython",
    "version": 2
   },
   "file_extension": ".py",
   "mimetype": "text/x-python",
   "name": "python",
   "nbconvert_exporter": "python",
   "pygments_lexer": "ipython2",
   "version": "2.7.6"
  }
 },
 "nbformat": 4,
 "nbformat_minor": 0
}
