{
 "cells": [
  {
   "cell_type": "code",
   "execution_count": 8,
   "id": "initial_id",
   "metadata": {
    "collapsed": true,
    "ExecuteTime": {
     "end_time": "2023-09-24T15:59:44.657420Z",
     "start_time": "2023-09-24T15:59:44.654594Z"
    }
   },
   "outputs": [
    {
     "name": "stdout",
     "output_type": "stream",
     "text": [
      "Random r: 1.961495755584805\n"
     ]
    }
   ],
   "source": [
    "import numpy as np\n",
    "\n",
    "# Define the range of radial distances\n",
    "r_min = 1.0  # Minimum radial distance\n",
    "r_max = 3.0  # Maximum radial distance\n",
    "\n",
    "# Generate a random radial distance within the specified range\n",
    "def generate_random_r():\n",
    "    return np.random.uniform(r_min, r_max)\n",
    "\n",
    "# Example: Generate a random radial distance\n",
    "random_r = generate_random_r()\n",
    "print(f\"Random r: {random_r}\")\n"
   ]
  },
  {
   "cell_type": "code",
   "execution_count": 7,
   "outputs": [],
   "source": [],
   "metadata": {
    "collapsed": false,
    "ExecuteTime": {
     "end_time": "2023-09-24T15:59:43.263240Z",
     "start_time": "2023-09-24T15:59:43.258217Z"
    }
   },
   "id": "665befaa2e744a7b"
  },
  {
   "cell_type": "code",
   "execution_count": null,
   "outputs": [],
   "source": [],
   "metadata": {
    "collapsed": false
   },
   "id": "fe05e9a7582f5a89"
  }
 ],
 "metadata": {
  "kernelspec": {
   "display_name": "Python 3",
   "language": "python",
   "name": "python3"
  },
  "language_info": {
   "codemirror_mode": {
    "name": "ipython",
    "version": 2
   },
   "file_extension": ".py",
   "mimetype": "text/x-python",
   "name": "python",
   "nbconvert_exporter": "python",
   "pygments_lexer": "ipython2",
   "version": "2.7.6"
  }
 },
 "nbformat": 4,
 "nbformat_minor": 5
}
