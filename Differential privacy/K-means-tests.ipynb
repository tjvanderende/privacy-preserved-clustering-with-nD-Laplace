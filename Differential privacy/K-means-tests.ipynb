{
 "cells": [
  {
   "cell_type": "code",
   "execution_count": 2,
   "id": "1760c9e3-2422-4c35-8ce8-813ccc455b88",
   "metadata": {},
   "outputs": [],
   "source": [
    "import numpy as np\n",
    "from time import time\n",
    "from sklearn import metrics\n",
    "from sklearn.cluster import KMeans\n",
    "from sklearn.datasets import load_digits\n",
    "from sklearn.preprocessing import scale\n",
    "\n"
   ]
  },
  {
   "cell_type": "code",
   "execution_count": 4,
   "id": "4add580b-a362-4fcd-a554-000ae66be5de",
   "metadata": {},
   "outputs": [
    {
     "name": "stdout",
     "output_type": "stream",
     "text": [
      "n_digits: 10, \t n_samples 1797, \t n_features 64\n"
     ]
    }
   ],
   "source": [
    "X_digits, y_digits = load_digits(return_X_y=True)\n",
    "data = scale(X_digits)\n",
    " \n",
    "n_samples, n_features = data.shape\n",
    "n_digits = len(np.unique(y_digits))\n",
    "labels = y_digits\n",
    " \n",
    "sample_size = 1000\n",
    " \n",
    "print(\"n_digits: %d, \\t n_samples %d, \\t n_features %d\"\n",
    "      % (n_digits, n_samples, n_features))\n",
    "\n",
    " \n"
   ]
  },
  {
   "cell_type": "code",
   "execution_count": 5,
   "id": "4ea45588-7132-4405-99f7-9e0b14431766",
   "metadata": {},
   "outputs": [
    {
     "name": "stdout",
     "output_type": "stream",
     "text": [
      "init\t\ttime\tinertia\thomo\tcompl\tv-meas\tARI\tAMI\tsilhouette\n"
     ]
    }
   ],
   "source": [
    "print('init\\t\\ttime\\tinertia\\thomo\\tcompl\\tv-meas\\tARI\\tAMI\\tsilhouette')"
   ]
  },
  {
   "cell_type": "code",
   "execution_count": 6,
   "id": "c81893d4-3136-4bd3-a521-1992b3777b93",
   "metadata": {},
   "outputs": [],
   "source": [
    " \n",
    "def bench_k_means(estimator, name, data):\n",
    "    t0 = time()\n",
    "    estimator.fit(data)\n",
    "    print('%-9s\\t%.2fs\\t%i\\t%.3f\\t%.3f\\t%.3f\\t%.3f\\t%.3f\\t%.3f'\n",
    "          % (name, (time() - t0), estimator.inertia_,\n",
    "             metrics.homogeneity_score(labels, estimator.labels_),\n",
    "             metrics.completeness_score(labels, estimator.labels_),\n",
    "             metrics.v_measure_score(labels, estimator.labels_),\n",
    "             metrics.adjusted_rand_score(labels, estimator.labels_),\n",
    "             metrics.adjusted_mutual_info_score(labels,  estimator.labels_),\n",
    "             metrics.silhouette_score(data, estimator.labels_,\n",
    "                                      metric='euclidean',\n",
    "                                      sample_size=sample_size)))"
   ]
  },
  {
   "cell_type": "code",
   "execution_count": 7,
   "id": "125bf557-68fa-4528-b4c9-63f386a821ed",
   "metadata": {},
   "outputs": [
    {
     "name": "stdout",
     "output_type": "stream",
     "text": [
      "k-means++\t1.34s\t69405\t0.603\t0.651\t0.626\t0.467\t0.622\t0.149\n",
      "random   \t0.81s\t69409\t0.605\t0.653\t0.628\t0.468\t0.625\t0.152\n"
     ]
    }
   ],
   "source": [
    "bench_k_means(KMeans(init='k-means++', n_clusters=n_digits, n_init=100),\n",
    "              name=\"k-means++\", data=data)\n",
    " \n",
    "bench_k_means(KMeans(init='random', n_clusters=n_digits, n_init=100),\n",
    "              name=\"random\", data=data)"
   ]
  },
  {
   "cell_type": "code",
   "execution_count": 10,
   "id": "831c640e-0138-4697-b0b5-74b731b810f7",
   "metadata": {},
   "outputs": [
    {
     "name": "stdout",
     "output_type": "stream",
     "text": [
      "Requirement already satisfied: diffprivlib in c:\\python39\\lib\\site-packages (0.6.2)\n",
      "Requirement already satisfied: joblib>=0.16.0 in c:\\python39\\lib\\site-packages (from diffprivlib) (1.2.0)\n",
      "Requirement already satisfied: scikit-learn>=0.24.2 in c:\\python39\\lib\\site-packages (from diffprivlib) (1.2.0)\n",
      "Requirement already satisfied: numpy>=1.21.6 in c:\\python39\\lib\\site-packages (from diffprivlib) (1.23.5)\n",
      "Requirement already satisfied: setuptools>=49.0.0 in c:\\python39\\lib\\site-packages (from diffprivlib) (49.2.1)\n",
      "Requirement already satisfied: scipy>=1.7.3 in c:\\python39\\lib\\site-packages (from diffprivlib) (1.9.3)\n",
      "Requirement already satisfied: threadpoolctl>=2.0.0 in c:\\python39\\lib\\site-packages (from scikit-learn>=0.24.2->diffprivlib) (3.1.0)\n"
     ]
    }
   ],
   "source": [
    "!pip install diffprivlib \n",
    "from diffprivlib.models import KMeans\n",
    " \n"
   ]
  },
  {
   "cell_type": "code",
   "execution_count": 11,
   "id": "4a4cf11a-78a8-4ef2-a4e4-191cd6f886d9",
   "metadata": {},
   "outputs": [
    {
     "name": "stderr",
     "output_type": "stream",
     "text": [
      "c:\\python39\\lib\\site-packages\\diffprivlib\\utils.py:71: DiffprivlibCompatibilityWarning: Parameter 'init' is not functional in diffprivlib.  Remove this parameter to suppress this warning.\n",
      "  warnings.warn(f\"Parameter '{arg}' is not functional in diffprivlib.  Remove this parameter to suppress this \"\n",
      "c:\\python39\\lib\\site-packages\\diffprivlib\\utils.py:71: DiffprivlibCompatibilityWarning: Parameter 'n_init' is not functional in diffprivlib.  Remove this parameter to suppress this warning.\n",
      "  warnings.warn(f\"Parameter '{arg}' is not functional in diffprivlib.  Remove this parameter to suppress this \"\n",
      "c:\\python39\\lib\\site-packages\\diffprivlib\\models\\k_means.py:138: PrivacyLeakWarning: Bounds have not been specified and will be calculated on the data provided.  This will result in additional privacy leakage. To ensure differential privacy and no additional privacy leakage, specify `bounds` for each dimension.\n",
      "  warnings.warn(\"Bounds have not been specified and will be calculated on the data provided.  This will \"\n"
     ]
    },
    {
     "name": "stdout",
     "output_type": "stream",
     "text": [
      "dp_k-means\t0.41s\t311778\t0.001\t0.271\t0.001\t-0.000\t-0.000\t0.788\n"
     ]
    }
   ],
   "source": [
    "bench_k_means(KMeans(epsilon=1.0, bounds=None, n_clusters=n_digits, init='k-means++', n_init=100), name=\"dp_k-means\", data=data)"
   ]
  }
 ],
 "metadata": {
  "kernelspec": {
   "display_name": "Python 3",
   "language": "python",
   "name": "python3"
  },
  "language_info": {
   "codemirror_mode": {
    "name": "ipython",
    "version": 3
   },
   "file_extension": ".py",
   "mimetype": "text/x-python",
   "name": "python",
   "nbconvert_exporter": "python",
   "pygments_lexer": "ipython3",
   "version": "3.9.2 (tags/v3.9.2:1a79785, Feb 19 2021, 13:44:55) [MSC v.1928 64 bit (AMD64)]"
  },
  "vscode": {
   "interpreter": {
    "hash": "81794d4967e6c3204c66dcd87b604927b115b27c00565d3d43f05ba2f3a2cb0d"
   }
  }
 },
 "nbformat": 4,
 "nbformat_minor": 5
}
