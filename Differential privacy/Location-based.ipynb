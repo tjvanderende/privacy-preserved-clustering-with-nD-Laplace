{
 "cells": [
  {
   "cell_type": "code",
   "execution_count": 1,
   "id": "7d1342ef-9fea-4dd5-b98a-f606810d38a2",
   "metadata": {},
   "outputs": [],
   "source": [
    "import numpy as np\n",
    "from scipy.stats import gamma, uniform"
   ]
  },
  {
   "cell_type": "code",
   "execution_count": 2,
   "id": "e380e8c7-2d5d-4924-a057-4adbe0c292de",
   "metadata": {},
   "outputs": [],
   "source": [
    "earth_radius = 6378137"
   ]
  },
  {
   "cell_type": "code",
   "execution_count": 3,
   "id": "9f075241-a5bd-472e-9c97-d3e9fb5981ac",
   "metadata": {},
   "outputs": [],
   "source": [
    "from math import e, log, pi, sin, cos, asin, atan2, exp\n",
    "import random"
   ]
  },
  {
   "cell_type": "markdown",
   "id": "83839a02-2418-4ffa-b5d2-d65fce98d215",
   "metadata": {},
   "source": [
    "random variable in [0,1)"
   ]
  },
  {
   "cell_type": "code",
   "execution_count": 4,
   "id": "e5003e03-9ecc-4183-8799-9f87cc4dc005",
   "metadata": {},
   "outputs": [],
   "source": [
    "def rad_of_deg (ang): \n",
    "    return ang * pi / 180\n",
    "def deg_of_rad (ang): return ang * 180 / pi\n"
   ]
  },
  {
   "cell_type": "code",
   "execution_count": 5,
   "id": "2783ff09-5487-48ae-ac97-da79acce3542",
   "metadata": {},
   "outputs": [],
   "source": [
    "def lambertW(x):\n",
    "    min_diff = 1e-10\n",
    "    if x == -1 / e:\n",
    "        return -1\n",
    "    elif x < 0 and x > -1 / e:\n",
    "        q = log(-x)\n",
    "        p = 1\n",
    "        while abs(p - q) > min_diff:\n",
    "            p = (q * q + x / exp(q)) / (q + 1)\n",
    "            q = (p * p + x / exp(p)) / (p + 1)\n",
    "        return round(1000000 * q) / 1000000\n",
    "    elif x == 0:\n",
    "        return 0\n",
    "    else:\n",
    "        return 0\n"
   ]
  },
  {
   "cell_type": "code",
   "execution_count": 6,
   "id": "c91a7c2c-330f-4855-a8f6-2069de830454",
   "metadata": {},
   "outputs": [],
   "source": [
    "def inverseCumulativeGamma (epsilon, z): \n",
    "    x = (z-1) / e; \n",
    "    return - (lambertW(x) + 1) / epsilon"
   ]
  },
  {
   "cell_type": "code",
   "execution_count": 7,
   "id": "72dfc6c9-75ab-4a7e-842d-202863eee99d",
   "metadata": {},
   "outputs": [],
   "source": [
    "def addVectorToPos(pos, distance, angle): \n",
    "    ang_distance = distance / earth_radius\n",
    "    lat1 = rad_of_deg(pos['latitude'])\n",
    "    lon1 = rad_of_deg(pos['longitude'])\n",
    "    \n",
    "    lat2 =\tasin(sin(lat1) * cos(ang_distance) + cos(lat1) * sin(ang_distance) * cos(angle))\n",
    "    lon2 =\tlon1 +atan2(sin(angle) * sin(ang_distance) * cos(lat1), cos(ang_distance) - sin(lat1) * sin(lat2))\n",
    "    lon2 = (lon2 + 3 * pi) % (2 * pi) - pi\n",
    "    return { \n",
    "        \"latitude\": deg_of_rad(lat2),\n",
    "        \"longitude\": deg_of_rad(lon2)\n",
    "\t};"
   ]
  },
  {
   "cell_type": "code",
   "execution_count": 8,
   "id": "442f5d1a-e136-4070-ad21-3646dbfbccd5",
   "metadata": {},
   "outputs": [],
   "source": [
    "def addNoiseToLocation(epsilon, pos): \n",
    "    theta = random.randint(0, 1) * pi * 2;\n",
    "    z = random.randint(0, 1);\n",
    "    dist = inverseCumulativeGamma(epsilon, z);\n",
    "    return addVectorToPos(position, dist, theta);"
   ]
  },
  {
   "cell_type": "code",
   "execution_count": 9,
   "id": "57134b0e-e148-4e3e-81c1-481b530d1015",
   "metadata": {},
   "outputs": [],
   "source": [
    "def alphaDeltaAccuracy (epsilon, delta):\n",
    "\treturn inverseCumulativeGamma(epsilon, delta);"
   ]
  },
  {
   "cell_type": "code",
   "execution_count": 10,
   "id": "0d8893b3-c8ba-40d5-a215-cd8a4ce30625",
   "metadata": {},
   "outputs": [],
   "source": [
    "def expectedError(epsilon): \n",
    "    return 2 / epsilon"
   ]
  },
  {
   "cell_type": "code",
   "execution_count": 11,
   "id": "4ef04caa-fca4-452e-b743-361d9c2ab99d",
   "metadata": {},
   "outputs": [],
   "source": [
    "position = {\n",
    "    \"latitude\": 52.0511841,\n",
    "    \"longitude\": 4.9551738,\n",
    "    \"accuracy\": 5\n",
    "}"
   ]
  },
  {
   "cell_type": "code",
   "execution_count": 12,
   "id": "ef0c2b6f-979d-4da5-9a10-b6298411e6fc",
   "metadata": {},
   "outputs": [],
   "source": [
    "base_epsilon = float(0.05)\n",
    "radius = 20\n",
    "epsilon = base_epsilon / radius\n",
    "noisyLocation = addNoiseToLocation(epsilon, position)"
   ]
  },
  {
   "cell_type": "code",
   "execution_count": 13,
   "id": "5caec63c-7a93-40ba-9e02-782e8fbe5436",
   "metadata": {},
   "outputs": [
    {
     "data": {
      "text/plain": [
       "{'latitude': 52.047590838863535, 'longitude': 4.9551738000000025}"
      ]
     },
     "execution_count": 13,
     "metadata": {},
     "output_type": "execute_result"
    }
   ],
   "source": [
    "noisyLocation"
   ]
  },
  {
   "cell_type": "code",
   "execution_count": 14,
   "id": "a25e25fe-89c9-4d18-8cd8-bb7529cfb222",
   "metadata": {},
   "outputs": [
    {
     "data": {
      "text/plain": [
       "800.0"
      ]
     },
     "execution_count": 14,
     "metadata": {},
     "output_type": "execute_result"
    }
   ],
   "source": [
    "expectedError(epsilon)"
   ]
  },
  {
   "cell_type": "code",
   "execution_count": 15,
   "id": "085c172f-98db-4cb6-bff1-19cd9415dd64",
   "metadata": {},
   "outputs": [
    {
     "data": {
      "text/plain": [
       "1555.888"
      ]
     },
     "execution_count": 15,
     "metadata": {},
     "output_type": "execute_result"
    }
   ],
   "source": [
    "alphaDeltaAccuracy(epsilon, .9)"
   ]
  },
  {
   "cell_type": "code",
   "execution_count": null,
   "id": "51fb0162-9994-4cd0-b903-ed3731796ad5",
   "metadata": {},
   "outputs": [],
   "source": []
  }
 ],
 "metadata": {
  "kernelspec": {
   "display_name": "Python 3",
   "language": "python",
   "name": "python3"
  },
  "language_info": {
   "codemirror_mode": {
    "name": "ipython",
    "version": 3
   },
   "file_extension": ".py",
   "mimetype": "text/x-python",
   "name": "python",
   "nbconvert_exporter": "python",
   "pygments_lexer": "ipython3",
   "version": "3.9.2"
  },
  "vscode": {
   "interpreter": {
    "hash": "81794d4967e6c3204c66dcd87b604927b115b27c00565d3d43f05ba2f3a2cb0d"
   }
  }
 },
 "nbformat": 4,
 "nbformat_minor": 5
}
