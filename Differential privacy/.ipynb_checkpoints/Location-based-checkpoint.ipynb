{
 "cells": [
  {
   "cell_type": "code",
   "execution_count": 2,
   "id": "7d1342ef-9fea-4dd5-b98a-f606810d38a2",
   "metadata": {},
   "outputs": [],
   "source": [
    "import numpy as np\n",
    "from scipy.stats import gamma, uniform"
   ]
  },
  {
   "cell_type": "code",
   "execution_count": 78,
   "id": "e380e8c7-2d5d-4924-a057-4adbe0c292de",
   "metadata": {},
   "outputs": [],
   "source": [
    "earth_radius = 6378137"
   ]
  },
  {
   "cell_type": "code",
   "execution_count": 77,
   "id": "9f075241-a5bd-472e-9c97-d3e9fb5981ac",
   "metadata": {},
   "outputs": [],
   "source": [
    "from math import e, log, pi, sin, cos, asin, atan2\n",
    "import random"
   ]
  },
  {
   "cell_type": "markdown",
   "id": "83839a02-2418-4ffa-b5d2-d65fce98d215",
   "metadata": {},
   "source": [
    "random variable in [0,1)"
   ]
  },
  {
   "cell_type": "code",
   "execution_count": 115,
   "id": "e5003e03-9ecc-4183-8799-9f87cc4dc005",
   "metadata": {},
   "outputs": [],
   "source": [
    "def rad_of_deg (ang): \n",
    "    return ang * pi / 180\n",
    "def deg_of_rad (ang): return ang * 180 / pi\n"
   ]
  },
  {
   "cell_type": "code",
   "execution_count": 53,
   "id": "2783ff09-5487-48ae-ac97-da79acce3542",
   "metadata": {},
   "outputs": [],
   "source": [
    "def lambertW(x):\n",
    "    min_diff = 1e-10\n",
    "    if x == -1 / e:\n",
    "        return -1\n",
    "    elif x < 0 and x > -1 / e:\n",
    "        q = log(-x)\n",
    "        p = 1\n",
    "        while abs(p - q) > min_diff:\n",
    "            p = (q * q + x / exp(q)) / (q + 1)\n",
    "            q = (p * p + x / exp(p)) / (p + 1)\n",
    "        return round(1000000 * q) / 1000000\n",
    "    elif x == 0:\n",
    "        return 0\n",
    "    else:\n",
    "        return 0\n"
   ]
  },
  {
   "cell_type": "code",
   "execution_count": 63,
   "id": "c91a7c2c-330f-4855-a8f6-2069de830454",
   "metadata": {},
   "outputs": [],
   "source": [
    "def inverseCumulativeGamma (epsilon, z): \n",
    "    x = (z-1) / e; \n",
    "    return - (lambertW(x) + 1) / epsilon"
   ]
  },
  {
   "cell_type": "code",
   "execution_count": 120,
   "id": "72dfc6c9-75ab-4a7e-842d-202863eee99d",
   "metadata": {},
   "outputs": [],
   "source": [
    "def addVectorToPos(pos, distance, angle): \n",
    "    ang_distance = distance / earth_radius\n",
    "    lat1 = rad_of_deg(pos['latitude'])\n",
    "    lon1 = rad_of_deg(pos['longitude'])\n",
    "    \n",
    "    lat2 =\tasin(sin(lat1) * cos(ang_distance) + cos(lat1) * sin(ang_distance) * cos(angle))\n",
    "    lon2 =\tlon1 +atan2(sin(angle) * sin(ang_distance) * cos(lat1), cos(ang_distance) - sin(lat1) * sin(lat2))\n",
    "    lon2 = (lon2 + 3 * pi) % (2 * pi) - pi\n",
    "    return { \n",
    "        \"latitude\": deg_of_rad(lat2),\n",
    "        \"longitude\": deg_of_rad(lon2)\n",
    "\t};"
   ]
  },
  {
   "cell_type": "code",
   "execution_count": 130,
   "id": "442f5d1a-e136-4070-ad21-3646dbfbccd5",
   "metadata": {},
   "outputs": [],
   "source": [
    "def addNoiseToLocation(epsilon, pos): \n",
    "    theta = random.randint(0, 1) * pi * 2;\n",
    "    z = random.randint(0, 1);\n",
    "    dist = inverseCumulativeGamma(epsilon, z);\n",
    "    return addVectorToPos(position, dist, theta);"
   ]
  },
  {
   "cell_type": "code",
   "execution_count": 131,
   "id": "4ef04caa-fca4-452e-b743-361d9c2ab99d",
   "metadata": {},
   "outputs": [],
   "source": [
    "position = {\n",
    "    \"latitude\": 52.0511841,\n",
    "    \"longitude\": 4.9551738,\n",
    "    \"accuracy\": 5\n",
    "}"
   ]
  },
  {
   "cell_type": "code",
   "execution_count": 137,
   "id": "ef0c2b6f-979d-4da5-9a10-b6298411e6fc",
   "metadata": {},
   "outputs": [],
   "source": [
    "base_epsilon = float(1)\n",
    "radius = 10\n",
    "epsilon = base_epsilon / radius\n",
    "noisyLocation = addNoiseToLocation(epsilon, position)"
   ]
  },
  {
   "cell_type": "code",
   "execution_count": 138,
   "id": "5caec63c-7a93-40ba-9e02-782e8fbe5436",
   "metadata": {},
   "outputs": [
    {
     "data": {
      "text/plain": [
       "{'latitude': 52.050285784715875, 'longitude': 4.9551738000000025}"
      ]
     },
     "execution_count": 138,
     "metadata": {},
     "output_type": "execute_result"
    }
   ],
   "source": [
    "noisyLocation"
   ]
  }
 ],
 "metadata": {
  "kernelspec": {
   "display_name": "Python 3 (ipykernel)",
   "language": "python",
   "name": "python3"
  },
  "language_info": {
   "codemirror_mode": {
    "name": "ipython",
    "version": 3
   },
   "file_extension": ".py",
   "mimetype": "text/x-python",
   "name": "python",
   "nbconvert_exporter": "python",
   "pygments_lexer": "ipython3",
   "version": "3.9.2"
  }
 },
 "nbformat": 4,
 "nbformat_minor": 5
}
