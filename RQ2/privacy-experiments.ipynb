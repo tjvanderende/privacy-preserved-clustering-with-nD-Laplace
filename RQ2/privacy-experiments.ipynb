{
 "cells": [
  {
   "cell_type": "code",
   "execution_count": 1,
   "metadata": {},
   "outputs": [
    {
     "name": "stderr",
     "output_type": "stream",
     "text": [
      "/opt/conda/lib/python3.9/site-packages/art/estimators/certification/__init__.py:14: UserWarning: PyTorch not found. Not importing DeepZ or Interval Bound Propagation functionality\n",
      "  warnings.warn(\"PyTorch not found. Not importing DeepZ or Interval Bound Propagation functionality\")\n"
     ]
    }
   ],
   "source": [
    "from Helpers import helpers"
   ]
  },
  {
   "cell_type": "code",
   "execution_count": 2,
   "metadata": {},
   "outputs": [],
   "source": [
    "from sklearn.datasets import make_blobs\n",
    "\n",
    "#n_samples = 2000\n",
    "#X, y_true = make_blobs(n_samples=n_samples, centers=4, n_features=3,\n",
    "#                       cluster_std=0.60, random_state=0)\n",
    "#X.shape"
   ]
  },
  {
   "cell_type": "code",
   "execution_count": 3,
   "metadata": {},
   "outputs": [],
   "source": [
    "#_, perturbed_df = helpers.load_plain_and_perturbed_dataset(3, import_path='./export/plain.csv', perturbed_path='./export/truncated/')\n",
    "seeds_dataset = helpers.load_dataset('../data/heart-dataset/heart_numerical.csv')\n",
    "seeds_dataset.dropna(inplace=True)\n",
    "X = seeds_dataset.drop('class', axis=1)\n",
    "y_true = seeds_dataset['class']\n"
   ]
  },
  {
   "cell_type": "code",
   "execution_count": 4,
   "metadata": {},
   "outputs": [
    {
     "data": {
      "text/plain": [
       "baseline value               0\n",
       "accelerations                0\n",
       "fetal_movement               0\n",
       "uterine_contractions         0\n",
       "light_decelerations          0\n",
       "histogram_width              0\n",
       "histogram_min                0\n",
       "histogram_max                0\n",
       "histogram_number_of_peaks    0\n",
       "dtype: int64"
      ]
     },
     "execution_count": 4,
     "metadata": {},
     "output_type": "execute_result"
    }
   ],
   "source": [
    "import numpy as np\n",
    "\n",
    "\n",
    "X[X.isna()].count()\n"
   ]
  },
  {
   "cell_type": "code",
   "execution_count": 5,
   "metadata": {},
   "outputs": [
    {
     "data": {
      "text/plain": [
       "(2126,)"
      ]
     },
     "execution_count": 5,
     "metadata": {},
     "output_type": "execute_result"
    }
   ],
   "source": [
    "y_true.shape"
   ]
  },
  {
   "cell_type": "code",
   "execution_count": 6,
   "metadata": {},
   "outputs": [],
   "source": [
    "from Helpers import threed_laplace\n",
    "X.columns\n",
    "X_3d = X[['baseline value', 'accelerations', 'histogram_min']]"
   ]
  },
  {
   "cell_type": "code",
   "execution_count": 7,
   "metadata": {},
   "outputs": [
    {
     "name": "stdout",
     "output_type": "stream",
     "text": [
      "0.6308851224105462 0.5319548872180451\n",
      "0.608286252354049 0.5112781954887218\n",
      "0.6064030131826742 0.5545112781954887\n",
      "0.6760828625235404 0.5883458646616542\n",
      "0.6101694915254238 0.5225563909774437\n",
      "0.6271186440677966 0.6052631578947368\n",
      "0.7005649717514124 0.6578947368421053\n",
      "0.5856873822975518 0.4868421052631579\n",
      "0.632768361581921 0.5977443609022557\n",
      "0.7099811676082862 0.6203007518796992\n",
      "0.6930320150659134 0.6635338345864662\n",
      "0.5668549905838042 0.5469924812030075\n",
      "0.7702448210922788 0.706766917293233\n",
      "0.8041431261770244 0.7236842105263158\n",
      "0.6440677966101694 0.575187969924812\n",
      "0.743879472693032 0.6823308270676691\n",
      "0.6930320150659134 0.631578947368421\n",
      "0.7212806026365348 0.6672932330827067\n",
      "0.7231638418079096 0.6259398496240601\n",
      "0.7777777777777778 0.6672932330827067\n",
      "0.6704331450094162 0.6541353383458647\n",
      "0.7740112994350282 0.7537593984962406\n",
      "0.7231638418079096 0.6541353383458647\n",
      "0.5894538606403014 0.5770676691729323\n",
      "0.711864406779661 0.6071428571428571\n",
      "0.7702448210922788 0.7236842105263158\n",
      "0.6177024482109228 0.5281954887218046\n",
      "0.7419962335216572 0.693609022556391\n",
      "0.6741996233521658 0.6597744360902256\n",
      "0.7344632768361582 0.6691729323308271\n",
      "0.6440677966101694 0.6560150375939849\n",
      "0.6817325800376648 0.6522556390977443\n",
      "0.807909604519774 0.7462406015037594\n",
      "0.6308851224105462 0.5958646616541353\n",
      "0.67984934086629 0.6296992481203008\n",
      "0.664783427495292 0.5789473684210527\n",
      "0.8587570621468926 0.768796992481203\n",
      "0.6949152542372882 0.6616541353383458\n",
      "0.7457627118644068 0.7011278195488722\n",
      "0.7815442561205274 0.6917293233082706\n",
      "0.711864406779661 0.6165413533834586\n",
      "0.6949152542372882 0.6522556390977443\n",
      "0.7740112994350282 0.6691729323308271\n",
      "0.9020715630885122 0.8402255639097744\n",
      "0.7024482109227872 0.7255639097744361\n",
      "0.6308851224105462 0.6541353383458647\n",
      "0.8286252354048964 0.8007518796992481\n",
      "0.743879472693032 0.7142857142857143\n",
      "0.6346516007532956 0.5902255639097744\n",
      "0.7815442561205274 0.7161654135338346\n",
      "0.71939736346516 0.7011278195488722\n",
      "0.807909604519774 0.7612781954887218\n",
      "0.7740112994350282 0.7086466165413534\n",
      "0.6741996233521658 0.6597744360902256\n",
      "0.7532956685499058 0.674812030075188\n",
      "0.775894538606403 0.7349624060150376\n",
      "0.7966101694915254 0.6992481203007519\n",
      "0.7589453860640302 0.7255639097744361\n",
      "0.7532956685499058 0.6221804511278195\n",
      "0.7721280602636534 0.7161654135338346\n",
      "0.8229755178907722 0.793233082706767\n",
      "0.7796610169491526 0.7218045112781954\n",
      "0.7419962335216572 0.6390977443609023\n",
      "0.6421845574387948 0.5864661654135338\n",
      "0.711864406779661 0.6691729323308271\n",
      "0.7966101694915254 0.7575187969924813\n",
      "0.6610169491525424 0.6203007518796992\n",
      "0.64030131826742 0.5676691729323309\n",
      "0.8568738229755178 0.8082706766917294\n",
      "0.672316384180791 0.6278195488721805\n",
      "0.6986817325800376 0.6804511278195489\n",
      "0.6892655367231638 0.6109022556390977\n",
      "0.6346516007532956 0.6240601503759399\n",
      "0.7645951035781544 0.6879699248120301\n",
      "0.832391713747646 0.7612781954887218\n",
      "0.6534839924670434 0.5657894736842105\n",
      "0.7589453860640302 0.7368421052631579\n",
      "0.800376647834275 0.7406015037593985\n",
      "0.7608286252354048 0.7124060150375939\n",
      "0.8568738229755178 0.8120300751879699\n"
     ]
    }
   ],
   "source": [
    "test_df = helpers.run_mi_experiments(X_3d.values, y_true.values, helpers.get_experiment_epsilons(), targets=3, n_times=10, columns=['A', 'P', 'WK'], algorithm=threed_laplace.generate_truncated_perturbed_dataset)"
   ]
  },
  {
   "cell_type": "code",
   "execution_count": 8,
   "metadata": {},
   "outputs": [
    {
     "data": {
      "text/html": [
       "<div>\n",
       "<style scoped>\n",
       "    .dataframe tbody tr th:only-of-type {\n",
       "        vertical-align: middle;\n",
       "    }\n",
       "\n",
       "    .dataframe tbody tr th {\n",
       "        vertical-align: top;\n",
       "    }\n",
       "\n",
       "    .dataframe thead th {\n",
       "        text-align: right;\n",
       "    }\n",
       "</style>\n",
       "<table border=\"1\" class=\"dataframe\">\n",
       "  <thead>\n",
       "    <tr style=\"text-align: right;\">\n",
       "      <th></th>\n",
       "      <th>shokri_mi_adv</th>\n",
       "      <th>attack_adv</th>\n",
       "      <th>tpr</th>\n",
       "      <th>fpr</th>\n",
       "      <th>run</th>\n",
       "    </tr>\n",
       "    <tr>\n",
       "      <th>epsilon</th>\n",
       "      <th></th>\n",
       "      <th></th>\n",
       "      <th></th>\n",
       "      <th></th>\n",
       "      <th></th>\n",
       "    </tr>\n",
       "  </thead>\n",
       "  <tbody>\n",
       "    <tr>\n",
       "      <th>0.1</th>\n",
       "      <td>0.071126</td>\n",
       "      <td>0.530017</td>\n",
       "      <td>0.638795</td>\n",
       "      <td>0.567669</td>\n",
       "      <td>4.5</td>\n",
       "    </tr>\n",
       "    <tr>\n",
       "      <th>0.5</th>\n",
       "      <td>0.064687</td>\n",
       "      <td>0.523433</td>\n",
       "      <td>0.713748</td>\n",
       "      <td>0.649060</td>\n",
       "      <td>4.5</td>\n",
       "    </tr>\n",
       "    <tr>\n",
       "      <th>1.0</th>\n",
       "      <td>0.048686</td>\n",
       "      <td>0.518300</td>\n",
       "      <td>0.700753</td>\n",
       "      <td>0.652068</td>\n",
       "      <td>4.5</td>\n",
       "    </tr>\n",
       "    <tr>\n",
       "      <th>2.0</th>\n",
       "      <td>0.050788</td>\n",
       "      <td>0.518002</td>\n",
       "      <td>0.719021</td>\n",
       "      <td>0.668233</td>\n",
       "      <td>4.5</td>\n",
       "    </tr>\n",
       "    <tr>\n",
       "      <th>3.0</th>\n",
       "      <td>0.042557</td>\n",
       "      <td>0.514730</td>\n",
       "      <td>0.740490</td>\n",
       "      <td>0.697932</td>\n",
       "      <td>4.5</td>\n",
       "    </tr>\n",
       "    <tr>\n",
       "      <th>5.0</th>\n",
       "      <td>0.058193</td>\n",
       "      <td>0.520001</td>\n",
       "      <td>0.758569</td>\n",
       "      <td>0.700376</td>\n",
       "      <td>4.5</td>\n",
       "    </tr>\n",
       "    <tr>\n",
       "      <th>7.0</th>\n",
       "      <td>0.053445</td>\n",
       "      <td>0.519409</td>\n",
       "      <td>0.732580</td>\n",
       "      <td>0.679135</td>\n",
       "      <td>4.5</td>\n",
       "    </tr>\n",
       "    <tr>\n",
       "      <th>9.0</th>\n",
       "      <td>0.051776</td>\n",
       "      <td>0.518225</td>\n",
       "      <td>0.745009</td>\n",
       "      <td>0.693233</td>\n",
       "      <td>4.5</td>\n",
       "    </tr>\n",
       "  </tbody>\n",
       "</table>\n",
       "</div>"
      ],
      "text/plain": [
       "         shokri_mi_adv  attack_adv       tpr       fpr  run\n",
       "epsilon                                                    \n",
       "0.1           0.071126    0.530017  0.638795  0.567669  4.5\n",
       "0.5           0.064687    0.523433  0.713748  0.649060  4.5\n",
       "1.0           0.048686    0.518300  0.700753  0.652068  4.5\n",
       "2.0           0.050788    0.518002  0.719021  0.668233  4.5\n",
       "3.0           0.042557    0.514730  0.740490  0.697932  4.5\n",
       "5.0           0.058193    0.520001  0.758569  0.700376  4.5\n",
       "7.0           0.053445    0.519409  0.732580  0.679135  4.5\n",
       "9.0           0.051776    0.518225  0.745009  0.693233  4.5"
      ]
     },
     "execution_count": 8,
     "metadata": {},
     "output_type": "execute_result"
    }
   ],
   "source": [
    "test_df.groupby('epsilon').mean()"
   ]
  },
  {
   "cell_type": "code",
   "execution_count": 14,
   "metadata": {},
   "outputs": [
    {
     "ename": "NameError",
     "evalue": "name 'n_samples' is not defined",
     "output_type": "error",
     "traceback": [
      "\u001b[0;31m---------------------------------------------------------------------------\u001b[0m",
      "\u001b[0;31mNameError\u001b[0m                                 Traceback (most recent call last)",
      "\u001b[0;32m/tmp/ipykernel_26659/2362301477.py\u001b[0m in \u001b[0;36m<module>\u001b[0;34m\u001b[0m\n\u001b[0;32m----> 1\u001b[0;31m \u001b[0mtest_df\u001b[0m\u001b[0;34m.\u001b[0m\u001b[0mto_csv\u001b[0m\u001b[0;34m(\u001b[0m\u001b[0;34m'./export/privacy/report-advantages-'\u001b[0m \u001b[0;34m+\u001b[0m \u001b[0mstr\u001b[0m\u001b[0;34m(\u001b[0m\u001b[0mn_samples\u001b[0m\u001b[0;34m)\u001b[0m \u001b[0;34m+\u001b[0m \u001b[0;34m'.csv'\u001b[0m\u001b[0;34m)\u001b[0m\u001b[0;34m\u001b[0m\u001b[0;34m\u001b[0m\u001b[0m\n\u001b[0m",
      "\u001b[0;31mNameError\u001b[0m: name 'n_samples' is not defined"
     ]
    }
   ],
   "source": [
    "test_df.to_csv('./export/privacy/report-advantages-' + str(n_samples) + '.csv')"
   ]
  },
  {
   "cell_type": "code",
   "execution_count": null,
   "metadata": {},
   "outputs": [
    {
     "ename": "NameError",
     "evalue": "name 'generate_truncated_perturbed_dataset' is not defined",
     "output_type": "error",
     "traceback": [
      "\u001b[0;31m---------------------------------------------------------------------------\u001b[0m",
      "\u001b[0;31mNameError\u001b[0m                                 Traceback (most recent call last)",
      "\u001b[0;32m/tmp/ipykernel_18172/4119065503.py\u001b[0m in \u001b[0;36m<module>\u001b[0;34m\u001b[0m\n\u001b[0;32m----> 1\u001b[0;31m \u001b[0mtruncated\u001b[0m \u001b[0;34m=\u001b[0m \u001b[0mhelpers\u001b[0m\u001b[0;34m.\u001b[0m\u001b[0mrun_mi_experiments\u001b[0m\u001b[0;34m(\u001b[0m\u001b[0mX\u001b[0m\u001b[0;34m,\u001b[0m \u001b[0my_true\u001b[0m\u001b[0;34m,\u001b[0m \u001b[0mhelpers\u001b[0m\u001b[0;34m.\u001b[0m\u001b[0mget_experiment_epsilons\u001b[0m\u001b[0;34m(\u001b[0m\u001b[0;34m)\u001b[0m\u001b[0;34m,\u001b[0m \u001b[0mn_times\u001b[0m\u001b[0;34m=\u001b[0m\u001b[0;36m20\u001b[0m\u001b[0;34m,\u001b[0m \u001b[0malgorithm\u001b[0m\u001b[0;34m=\u001b[0m\u001b[0mgenerate_truncated_perturbed_dataset\u001b[0m\u001b[0;34m)\u001b[0m\u001b[0;34m\u001b[0m\u001b[0;34m\u001b[0m\u001b[0m\n\u001b[0m",
      "\u001b[0;31mNameError\u001b[0m: name 'generate_truncated_perturbed_dataset' is not defined"
     ]
    }
   ],
   "source": [
    "truncated = helpers.run_mi_experiments(X, y_true, helpers.get_experiment_epsilons(), n_times=20, algorithm=generate_truncated_perturbed_dataset)"
   ]
  },
  {
   "cell_type": "code",
   "execution_count": null,
   "metadata": {},
   "outputs": [],
   "source": [
    "truncated.to_csv('./export/privacy/truncated-report-advantages-' + str(n_samples) + '.csv')"
   ]
  }
 ],
 "metadata": {
  "kernelspec": {
   "display_name": "base",
   "language": "python",
   "name": "python3"
  },
  "language_info": {
   "codemirror_mode": {
    "name": "ipython",
    "version": 3
   },
   "file_extension": ".py",
   "mimetype": "text/x-python",
   "name": "python",
   "nbconvert_exporter": "python",
   "pygments_lexer": "ipython3",
   "version": "3.9.13"
  },
  "orig_nbformat": 4
 },
 "nbformat": 4,
 "nbformat_minor": 2
}
