{
 "cells": [
  {
   "cell_type": "code",
   "execution_count": 21,
   "metadata": {},
   "outputs": [],
   "source": [
    "import numpy as np\n",
    "from scipy.stats import gamma, uniform\n",
    "from math import e, log, pi, sin, cos, asin, atan2, exp\n",
    "import random"
   ]
  },
  {
   "attachments": {},
   "cell_type": "markdown",
   "metadata": {},
   "source": [
    "## Setup data\n",
    "1. We use 300 random samples with a set random state to ensure we always get the same repro data.\n",
    "2. We standard scale to ensure the same distance between different stats"
   ]
  },
  {
   "cell_type": "code",
   "execution_count": 22,
   "metadata": {},
   "outputs": [],
   "source": [
    "from sklearn.datasets._samples_generator import make_blobs\n",
    "X, y_true = make_blobs(n_samples=300, centers=4, n_features=2,\n",
    "                       cluster_std=0.60, random_state=0)"
   ]
  },
  {
   "cell_type": "code",
   "execution_count": 23,
   "metadata": {},
   "outputs": [],
   "source": [
    "from sklearn.preprocessing import StandardScaler\n",
    "X = StandardScaler().fit_transform(X, y_true)"
   ]
  },
  {
   "cell_type": "code",
   "execution_count": 24,
   "metadata": {},
   "outputs": [
    {
     "data": {
      "text/html": [
       "<div>\n",
       "<style scoped>\n",
       "    .dataframe tbody tr th:only-of-type {\n",
       "        vertical-align: middle;\n",
       "    }\n",
       "\n",
       "    .dataframe tbody tr th {\n",
       "        vertical-align: top;\n",
       "    }\n",
       "\n",
       "    .dataframe thead th {\n",
       "        text-align: right;\n",
       "    }\n",
       "</style>\n",
       "<table border=\"1\" class=\"dataframe\">\n",
       "  <thead>\n",
       "    <tr style=\"text-align: right;\">\n",
       "      <th></th>\n",
       "      <th>0</th>\n",
       "      <th>1</th>\n",
       "    </tr>\n",
       "  </thead>\n",
       "  <tbody>\n",
       "    <tr>\n",
       "      <th>0</th>\n",
       "      <td>0.516255</td>\n",
       "      <td>-0.707227</td>\n",
       "    </tr>\n",
       "    <tr>\n",
       "      <th>1</th>\n",
       "      <td>-0.861664</td>\n",
       "      <td>1.329068</td>\n",
       "    </tr>\n",
       "    <tr>\n",
       "      <th>2</th>\n",
       "      <td>0.711174</td>\n",
       "      <td>0.437049</td>\n",
       "    </tr>\n",
       "    <tr>\n",
       "      <th>3</th>\n",
       "      <td>-0.619792</td>\n",
       "      <td>1.485573</td>\n",
       "    </tr>\n",
       "    <tr>\n",
       "      <th>4</th>\n",
       "      <td>0.782282</td>\n",
       "      <td>-0.801378</td>\n",
       "    </tr>\n",
       "  </tbody>\n",
       "</table>\n",
       "</div>"
      ],
      "text/plain": [
       "          0         1\n",
       "0  0.516255 -0.707227\n",
       "1 -0.861664  1.329068\n",
       "2  0.711174  0.437049\n",
       "3 -0.619792  1.485573\n",
       "4  0.782282 -0.801378"
      ]
     },
     "execution_count": 24,
     "metadata": {},
     "output_type": "execute_result"
    }
   ],
   "source": [
    "import pandas as pd \n",
    "\n",
    "df = pd.DataFrame(X)\n",
    "df.head()"
   ]
  },
  {
   "cell_type": "code",
   "execution_count": 25,
   "metadata": {},
   "outputs": [
    {
     "data": {
      "text/plain": [
       "2.1086182776480533"
      ]
     },
     "execution_count": 25,
     "metadata": {},
     "output_type": "execute_result"
    }
   ],
   "source": [
    "max_value = np.max(X)\n",
    "max_value"
   ]
  },
  {
   "cell_type": "code",
   "execution_count": 26,
   "metadata": {},
   "outputs": [],
   "source": [
    "def rad_of_deg (ang): \n",
    "    return ang * pi / 180\n",
    "\n",
    "def deg_of_rad (ang): \n",
    "    return ang * 180 / pi\n",
    "\n",
    "def theta(): \n",
    "    return random.randint(0, 1) * pi * 2\n",
    "\n"
   ]
  },
  {
   "cell_type": "code",
   "execution_count": 53,
   "metadata": {},
   "outputs": [],
   "source": [
    "def addVectorToPos(x, y, distance): \n",
    "    ang_distance = distance / max_value\n",
    "    lat1 = rad_of_deg(y)\n",
    "    lon1 = rad_of_deg(x)\n",
    "    print(lon1)\n",
    "    angle = theta()\n",
    "\n",
    "    lat2 =\tasin(sin(lat1) * cos(ang_distance) + cos(lat1) * sin(ang_distance) * cos(angle))\n",
    "    lon2 =\tlon1 +atan2(sin(angle) * sin(ang_distance) * cos(lat1), cos(ang_distance) - sin(lat1) * sin(lat2))\n",
    "    lon2 = (lon2 + 3 * pi) % (2 * pi) - pi\n",
    "    print(lon2)\n",
    "    return { \n",
    "        'y': deg_of_rad(lat2),\n",
    "        'x': deg_of_rad(lon2)\n",
    "\t}"
   ]
  },
  {
   "cell_type": "code",
   "execution_count": 59,
   "metadata": {},
   "outputs": [
    {
     "name": "stdout",
     "output_type": "stream",
     "text": [
      "0.516255078471987 -0.7072272278864006\n"
     ]
    }
   ],
   "source": [
    "print(df.iloc[0, 0], df.iloc[0, 1])"
   ]
  },
  {
   "cell_type": "code",
   "execution_count": 60,
   "metadata": {},
   "outputs": [
    {
     "name": "stdout",
     "output_type": "stream",
     "text": [
      "0.009010350899477871\n",
      "0.009010350899478325\n"
     ]
    },
    {
     "data": {
      "text/plain": [
       "{'y': 26.464964211613907, 'x': 0.5162550784720131}"
      ]
     },
     "execution_count": 60,
     "metadata": {},
     "output_type": "execute_result"
    }
   ],
   "source": [
    "testVector = addVectorToPos(df.iloc[0, 0], df.iloc[0, 1], 1)\n",
    "testVector"
   ]
  },
  {
   "attachments": {},
   "cell_type": "markdown",
   "metadata": {},
   "source": [
    "## Visualize"
   ]
  },
  {
   "cell_type": "code",
   "execution_count": 81,
   "metadata": {},
   "outputs": [
    {
     "data": {
      "image/png": "[encoded data removed]",
      "text/plain": [
       "<Figure size 640x480 with 1 Axes>"
      ]
     },
     "metadata": {},
     "output_type": "display_data"
    }
   ],
   "source": [
    "import matplotlib.pyplot as plt\n",
    "import numpy as np\n",
    "import seaborn as sns \n",
    "\n",
    "\n",
    "# Plot the data as a scatter plot\n",
    "fig, ax = plt.subplots()\n",
    "sns.scatterplot(x=df.iloc[:, 0], y=df.iloc[:, 1])\n",
    "\n",
    "# Choose a point and a radius\n",
    "center = (0, testVector['x'])\n",
    "radius = 0.5\n",
    "\n",
    "# Draw a circle around the chosen point\n",
    "circle = plt.Circle(center, radius, color='r', fill=False)\n",
    "plt.gca().add_artist(circle)\n",
    "\n",
    "plt.show()"
   ]
  }
 ],
 "metadata": {
  "kernelspec": {
   "display_name": "Python 3",
   "language": "python",
   "name": "python3"
  },
  "language_info": {
   "codemirror_mode": {
    "name": "ipython",
    "version": 3
   },
   "file_extension": ".py",
   "mimetype": "text/x-python",
   "name": "python",
   "nbconvert_exporter": "python",
   "pygments_lexer": "ipython3",
   "version": "3.9.13"
  },
  "orig_nbformat": 4,
  "vscode": {
   "interpreter": {
    "hash": "d4d1e4263499bec80672ea0156c357c1ee493ec2b1c70f0acce89fc37c4a6abe"
   }
  }
 },
 "nbformat": 4,
 "nbformat_minor": 2
}
