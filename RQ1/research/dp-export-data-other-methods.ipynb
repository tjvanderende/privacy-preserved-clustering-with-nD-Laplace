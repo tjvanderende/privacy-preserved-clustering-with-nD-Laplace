{
 "cells": [
  {
   "cell_type": "code",
   "execution_count": 1,
   "metadata": {},
   "outputs": [],
   "source": [
    "import sys \n",
    "sys.path.append('../../')"
   ]
  },
  {
   "cell_type": "code",
   "execution_count": 2,
   "metadata": {},
   "outputs": [
    {
     "name": "stderr",
     "output_type": "stream",
     "text": [
      "/opt/conda/lib/python3.9/site-packages/art/estimators/certification/__init__.py:14: UserWarning: PyTorch not found. Not importing DeepZ or Interval Bound Propagation functionality\n",
      "  warnings.warn(\"PyTorch not found. Not importing DeepZ or Interval Bound Propagation functionality\")\n"
     ]
    },
    {
     "data": {
      "text/html": [
       "<div>\n",
       "<style scoped>\n",
       "    .dataframe tbody tr th:only-of-type {\n",
       "        vertical-align: middle;\n",
       "    }\n",
       "\n",
       "    .dataframe tbody tr th {\n",
       "        vertical-align: top;\n",
       "    }\n",
       "\n",
       "    .dataframe thead th {\n",
       "        text-align: right;\n",
       "    }\n",
       "</style>\n",
       "<table border=\"1\" class=\"dataframe\">\n",
       "  <thead>\n",
       "    <tr style=\"text-align: right;\">\n",
       "      <th></th>\n",
       "      <th>X</th>\n",
       "      <th>Y</th>\n",
       "    </tr>\n",
       "  </thead>\n",
       "  <tbody>\n",
       "    <tr>\n",
       "      <th>0</th>\n",
       "      <td>0.914339</td>\n",
       "      <td>4.550146</td>\n",
       "    </tr>\n",
       "    <tr>\n",
       "      <th>1</th>\n",
       "      <td>-1.930380</td>\n",
       "      <td>2.702150</td>\n",
       "    </tr>\n",
       "    <tr>\n",
       "      <th>2</th>\n",
       "      <td>1.872718</td>\n",
       "      <td>4.180692</td>\n",
       "    </tr>\n",
       "    <tr>\n",
       "      <th>3</th>\n",
       "      <td>-0.555524</td>\n",
       "      <td>4.695958</td>\n",
       "    </tr>\n",
       "    <tr>\n",
       "      <th>4</th>\n",
       "      <td>-1.034436</td>\n",
       "      <td>8.259404</td>\n",
       "    </tr>\n",
       "  </tbody>\n",
       "</table>\n",
       "</div>"
      ],
      "text/plain": [
       "          X         Y\n",
       "0  0.914339  4.550146\n",
       "1 -1.930380  2.702150\n",
       "2  1.872718  4.180692\n",
       "3 -0.555524  4.695958\n",
       "4 -1.034436  8.259404"
      ]
     },
     "execution_count": 2,
     "metadata": {},
     "output_type": "execute_result"
    }
   ],
   "source": [
    "import Helpers.helpers as helpers\n",
    "\n",
    "plain_df = helpers.load_dataset('../export/plain.csv')\n",
    "plain_df.head()"
   ]
  },
  {
   "cell_type": "code",
   "execution_count": 3,
   "metadata": {},
   "outputs": [
    {
     "data": {
      "text/plain": [
       "1.9897276739994454"
      ]
     },
     "execution_count": 3,
     "metadata": {},
     "output_type": "execute_result"
    }
   ],
   "source": [
    "from diffprivlib.mechanisms import laplace, gaussian\n",
    "\n",
    "lp = laplace.Laplace(epsilon=3, sensitivity=1)\n",
    "lp.randomise(2)"
   ]
  },
  {
   "cell_type": "code",
   "execution_count": 4,
   "metadata": {},
   "outputs": [
    {
     "data": {
      "text/plain": [
       "-0.11910286418154015"
      ]
     },
     "execution_count": 4,
     "metadata": {},
     "output_type": "execute_result"
    }
   ],
   "source": [
    "gs = gaussian.GaussianAnalytic(epsilon=3, sensitivity=1, delta=0.1)\n",
    "gs.randomise(1)"
   ]
  },
  {
   "cell_type": "code",
   "execution_count": 5,
   "metadata": {},
   "outputs": [],
   "source": [
    "from matplotlib import pyplot as plt\n",
    "import numpy as np\n",
    "\n",
    "\n",
    "def ls_at_distance(df, u, k):\n",
    "    print(f'Computing local sensitivity for k = {k}')\n",
    "    print(len(df) - k + 1)\n",
    "    val = len(df) - k + 1\n",
    "    return np.abs(u/val if val > 0 else 1)\n",
    "\n",
    "#Smooth sensitivity and sampling in private data analysis.\n",
    "def calc_smooth_sensitivity(X, u): \n",
    "    epsilon = 1           # set epsilon = 1\n",
    "    delta = 1/len(X)**2  # set delta = 1/n^2\n",
    "\n",
    "    # Step 1: set beta\n",
    "    beta = epsilon / (2*np.log(2/delta))\n",
    "\n",
    "    # Step 2: compute smoothed-out sensitivity for various values of k\n",
    "    r = [np.exp(- beta * k) * ls_at_distance(X, u, k) for k in range(0,50)]\n",
    "    plt.plot(r);\n",
    "    plt.xlabel('Value of k')\n",
    "    plt.ylabel('Smoothed-out Local Sensitivity');\n",
    "\n",
    "    S = np.max(r)\n",
    "    sensitivity = 2*S\n",
    "    print(f'Final sensitivity: {sensitivity}')"
   ]
  },
  {
   "cell_type": "code",
   "execution_count": 6,
   "metadata": {},
   "outputs": [
    {
     "name": "stdout",
     "output_type": "stream",
     "text": [
      "Computing local sensitivity for k = 0\n",
      "51\n",
      "Computing local sensitivity for k = 1\n",
      "50\n",
      "Computing local sensitivity for k = 2\n",
      "49\n",
      "Computing local sensitivity for k = 3\n",
      "48\n",
      "Computing local sensitivity for k = 4\n",
      "47\n",
      "Computing local sensitivity for k = 5\n",
      "46\n",
      "Computing local sensitivity for k = 6\n",
      "45\n",
      "Computing local sensitivity for k = 7\n",
      "44\n",
      "Computing local sensitivity for k = 8\n",
      "43\n",
      "Computing local sensitivity for k = 9\n",
      "42\n",
      "Computing local sensitivity for k = 10\n",
      "41\n",
      "Computing local sensitivity for k = 11\n",
      "40\n",
      "Computing local sensitivity for k = 12\n",
      "39\n",
      "Computing local sensitivity for k = 13\n",
      "38\n",
      "Computing local sensitivity for k = 14\n",
      "37\n",
      "Computing local sensitivity for k = 15\n",
      "36\n",
      "Computing local sensitivity for k = 16\n",
      "35\n",
      "Computing local sensitivity for k = 17\n",
      "34\n",
      "Computing local sensitivity for k = 18\n",
      "33\n",
      "Computing local sensitivity for k = 19\n",
      "32\n",
      "Computing local sensitivity for k = 20\n",
      "31\n",
      "Computing local sensitivity for k = 21\n",
      "30\n",
      "Computing local sensitivity for k = 22\n",
      "29\n",
      "Computing local sensitivity for k = 23\n",
      "28\n",
      "Computing local sensitivity for k = 24\n",
      "27\n",
      "Computing local sensitivity for k = 25\n",
      "26\n",
      "Computing local sensitivity for k = 26\n",
      "25\n",
      "Computing local sensitivity for k = 27\n",
      "24\n",
      "Computing local sensitivity for k = 28\n",
      "23\n",
      "Computing local sensitivity for k = 29\n",
      "22\n",
      "Computing local sensitivity for k = 30\n",
      "21\n",
      "Computing local sensitivity for k = 31\n",
      "20\n",
      "Computing local sensitivity for k = 32\n",
      "19\n",
      "Computing local sensitivity for k = 33\n",
      "18\n",
      "Computing local sensitivity for k = 34\n",
      "17\n",
      "Computing local sensitivity for k = 35\n",
      "16\n",
      "Computing local sensitivity for k = 36\n",
      "15\n",
      "Computing local sensitivity for k = 37\n",
      "14\n",
      "Computing local sensitivity for k = 38\n",
      "13\n",
      "Computing local sensitivity for k = 39\n",
      "12\n",
      "Computing local sensitivity for k = 40\n",
      "11\n",
      "Computing local sensitivity for k = 41\n",
      "10\n",
      "Computing local sensitivity for k = 42\n",
      "9\n",
      "Computing local sensitivity for k = 43\n",
      "8\n",
      "Computing local sensitivity for k = 44\n",
      "7\n",
      "Computing local sensitivity for k = 45\n",
      "6\n",
      "Computing local sensitivity for k = 46\n",
      "5\n",
      "Computing local sensitivity for k = 47\n",
      "4\n",
      "Computing local sensitivity for k = 48\n",
      "3\n",
      "Computing local sensitivity for k = 49\n",
      "2\n",
      "Final sensitivity: 0.5070586923126311\n"
     ]
    },
    {
     "name": "stderr",
     "output_type": "stream",
     "text": [
      "/opt/conda/lib/python3.9/site-packages/numpy/core/fromnumeric.py:84: FutureWarning: In a future version, DataFrame.max(axis=None) will return a scalar max over the entire DataFrame. To retain the old behavior, use 'frame.max(axis=0)' or just 'frame.max()'\n",
      "  return reduction(axis=axis, out=out, **passkwargs)\n"
     ]
    },
    {
     "data": {
      "image/png": "[encoded data removed]",
      "text/plain": [
       "<Figure size 640x480 with 1 Axes>"
      ]
     },
     "metadata": {},
     "output_type": "display_data"
    }
   ],
   "source": [
    "u = np.max(plain_df).max()\n",
    "calc_smooth_sensitivity(plain_df, u)\n",
    "sensitivity = 0.507"
   ]
  },
  {
   "cell_type": "code",
   "execution_count": 7,
   "metadata": {},
   "outputs": [],
   "source": [
    "import numpy as np\n",
    "\n",
    "# [https://github.com/forestneo/sunPytools/blob/master/dplib/ldp_mechanisms/piecewise_mechanism.py](https://github.com/forestneo/sunPytools/blob/master/dplib/ldp_mechanisms/piecewise_mechanism.py)\n",
    "# Collecting and Analyzing Multidimensional Data with Local Differential Privacy\n",
    "def randomize_piece_wise(epsilon, value):\n",
    "    z = np.e ** (epsilon / 2)\n",
    "    C = (z + 1) / (z - 1)\n",
    "    P1 = (value + 1) / (2 + 2 * z)\n",
    "    P2 = z / (z + 1)\n",
    "    P3 = (1 - value) / (2 + 2 * z)\n",
    "\n",
    "    g1 = (C + 1) * value / 2 - (C - 1) / 2\n",
    "    g2 = (C + 1) * value / 2 + (C - 1) / 2\n",
    "\n",
    "    rnd = np.random.random()\n",
    "    if rnd < P1:\n",
    "        result = -C + np.random.random() * (g1 - (-C))\n",
    "    elif rnd < P1 + P2:\n",
    "        result = (g2 - g1) * np.random.random() + g1\n",
    "    else:\n",
    "        result = (C - g2) * np.random.random() + g2\n",
    "    return result\n"
   ]
  },
  {
   "cell_type": "code",
   "execution_count": 8,
   "metadata": {},
   "outputs": [
    {
     "data": {
      "text/plain": [
       "1.00472693720978"
      ]
     },
     "execution_count": 8,
     "metadata": {},
     "output_type": "execute_result"
    }
   ],
   "source": [
    "from Helpers.pairwise import PMBase, PiecewiseMechanism\n",
    "pm_encoder = PMBase(epsilon=10)\n",
    "pm_encoder.randomise(1)"
   ]
  },
  {
   "attachments": {},
   "cell_type": "markdown",
   "metadata": {},
   "source": [
    "## Generate data"
   ]
  },
  {
   "cell_type": "code",
   "execution_count": 9,
   "metadata": {},
   "outputs": [],
   "source": [
    "def generate_pairwise_perturbation(plain_df, epsilon):\n",
    "    max = plain_df.max().max()\n",
    "    min = plain_df.min().min()\n",
    "    pm_encoder = PiecewiseMechanism(epsilon=epsilon,domain=(min, max))\n",
    "    perturbed_df = plain_df.copy()\n",
    "    for col in plain_df.columns:\n",
    "        perturbed_df[col] = plain_df[col].apply(pm_encoder.randomise)\n",
    "    return perturbed_df\n",
    "\n",
    "def generate_laplace_perturbation(plain_df, epsilon):\n",
    "    max = plain_df.max().max()\n",
    "    min = plain_df.min().min()\n",
    "    lp = laplace.Laplace(epsilon=epsilon, sensitivity=sensitivity)\n",
    "    perturbed_df = plain_df.copy()\n",
    "    for col in plain_df.columns:\n",
    "        perturbed_df[col] = plain_df[col].apply(lambda x: lp.randomise(x))\n",
    "    return perturbed_df\n",
    "\n",
    "def generate_gaussian_perturbation(plain_df, epsilon):\n",
    "    max = plain_df.max().max()\n",
    "    min = plain_df.min().min()\n",
    "    gs = gaussian.GaussianAnalytic(epsilon=epsilon, sensitivity=sensitivity, delta=0.1)\n",
    "    perturbed_df = plain_df.copy()\n",
    "    for col in plain_df.columns:\n",
    "        perturbed_df[col] = plain_df[col].apply(lambda x: gs.randomise(x))\n",
    "    return perturbed_df"
   ]
  },
  {
   "cell_type": "code",
   "execution_count": 10,
   "metadata": {},
   "outputs": [
    {
     "data": {
      "text/html": [
       "<div>\n",
       "<style scoped>\n",
       "    .dataframe tbody tr th:only-of-type {\n",
       "        vertical-align: middle;\n",
       "    }\n",
       "\n",
       "    .dataframe tbody tr th {\n",
       "        vertical-align: top;\n",
       "    }\n",
       "\n",
       "    .dataframe thead th {\n",
       "        text-align: right;\n",
       "    }\n",
       "</style>\n",
       "<table border=\"1\" class=\"dataframe\">\n",
       "  <thead>\n",
       "    <tr style=\"text-align: right;\">\n",
       "      <th></th>\n",
       "      <th>X</th>\n",
       "      <th>Y</th>\n",
       "    </tr>\n",
       "  </thead>\n",
       "  <tbody>\n",
       "    <tr>\n",
       "      <th>0</th>\n",
       "      <td>0.914339</td>\n",
       "      <td>4.550146</td>\n",
       "    </tr>\n",
       "    <tr>\n",
       "      <th>1</th>\n",
       "      <td>-1.930380</td>\n",
       "      <td>2.702150</td>\n",
       "    </tr>\n",
       "    <tr>\n",
       "      <th>2</th>\n",
       "      <td>1.872718</td>\n",
       "      <td>4.180692</td>\n",
       "    </tr>\n",
       "    <tr>\n",
       "      <th>3</th>\n",
       "      <td>-0.555524</td>\n",
       "      <td>4.695958</td>\n",
       "    </tr>\n",
       "    <tr>\n",
       "      <th>4</th>\n",
       "      <td>-1.034436</td>\n",
       "      <td>8.259404</td>\n",
       "    </tr>\n",
       "  </tbody>\n",
       "</table>\n",
       "</div>"
      ],
      "text/plain": [
       "          X         Y\n",
       "0  0.914339  4.550146\n",
       "1 -1.930380  2.702150\n",
       "2  1.872718  4.180692\n",
       "3 -0.555524  4.695958\n",
       "4 -1.034436  8.259404"
      ]
     },
     "execution_count": 10,
     "metadata": {},
     "output_type": "execute_result"
    }
   ],
   "source": [
    "plain_df.head()"
   ]
  },
  {
   "cell_type": "code",
   "execution_count": 11,
   "metadata": {},
   "outputs": [
    {
     "data": {
      "text/html": [
       "<div>\n",
       "<style scoped>\n",
       "    .dataframe tbody tr th:only-of-type {\n",
       "        vertical-align: middle;\n",
       "    }\n",
       "\n",
       "    .dataframe tbody tr th {\n",
       "        vertical-align: top;\n",
       "    }\n",
       "\n",
       "    .dataframe thead th {\n",
       "        text-align: right;\n",
       "    }\n",
       "</style>\n",
       "<table border=\"1\" class=\"dataframe\">\n",
       "  <thead>\n",
       "    <tr style=\"text-align: right;\">\n",
       "      <th></th>\n",
       "      <th>X</th>\n",
       "      <th>Y</th>\n",
       "    </tr>\n",
       "  </thead>\n",
       "  <tbody>\n",
       "    <tr>\n",
       "      <th>0</th>\n",
       "      <td>0.754818</td>\n",
       "      <td>4.613863</td>\n",
       "    </tr>\n",
       "    <tr>\n",
       "      <th>1</th>\n",
       "      <td>-2.052065</td>\n",
       "      <td>2.509454</td>\n",
       "    </tr>\n",
       "    <tr>\n",
       "      <th>2</th>\n",
       "      <td>6.584763</td>\n",
       "      <td>4.286893</td>\n",
       "    </tr>\n",
       "    <tr>\n",
       "      <th>3</th>\n",
       "      <td>-0.824884</td>\n",
       "      <td>4.675932</td>\n",
       "    </tr>\n",
       "    <tr>\n",
       "      <th>4</th>\n",
       "      <td>-1.140190</td>\n",
       "      <td>8.498269</td>\n",
       "    </tr>\n",
       "  </tbody>\n",
       "</table>\n",
       "</div>"
      ],
      "text/plain": [
       "          X         Y\n",
       "0  0.754818  4.613863\n",
       "1 -2.052065  2.509454\n",
       "2  6.584763  4.286893\n",
       "3 -0.824884  4.675932\n",
       "4 -1.140190  8.498269"
      ]
     },
     "execution_count": 11,
     "metadata": {},
     "output_type": "execute_result"
    }
   ],
   "source": [
    "generate_pairwise_perturbation(plain_df, epsilon=7).head()"
   ]
  },
  {
   "cell_type": "code",
   "execution_count": 12,
   "metadata": {},
   "outputs": [
    {
     "data": {
      "text/html": [
       "<div>\n",
       "<style scoped>\n",
       "    .dataframe tbody tr th:only-of-type {\n",
       "        vertical-align: middle;\n",
       "    }\n",
       "\n",
       "    .dataframe tbody tr th {\n",
       "        vertical-align: top;\n",
       "    }\n",
       "\n",
       "    .dataframe thead th {\n",
       "        text-align: right;\n",
       "    }\n",
       "</style>\n",
       "<table border=\"1\" class=\"dataframe\">\n",
       "  <thead>\n",
       "    <tr style=\"text-align: right;\">\n",
       "      <th></th>\n",
       "      <th>X</th>\n",
       "      <th>Y</th>\n",
       "    </tr>\n",
       "  </thead>\n",
       "  <tbody>\n",
       "    <tr>\n",
       "      <th>0</th>\n",
       "      <td>0.807474</td>\n",
       "      <td>4.799720</td>\n",
       "    </tr>\n",
       "    <tr>\n",
       "      <th>1</th>\n",
       "      <td>-3.002227</td>\n",
       "      <td>2.662753</td>\n",
       "    </tr>\n",
       "    <tr>\n",
       "      <th>2</th>\n",
       "      <td>1.342178</td>\n",
       "      <td>4.355880</td>\n",
       "    </tr>\n",
       "    <tr>\n",
       "      <th>3</th>\n",
       "      <td>-0.424121</td>\n",
       "      <td>4.718544</td>\n",
       "    </tr>\n",
       "    <tr>\n",
       "      <th>4</th>\n",
       "      <td>-2.566268</td>\n",
       "      <td>8.543272</td>\n",
       "    </tr>\n",
       "  </tbody>\n",
       "</table>\n",
       "</div>"
      ],
      "text/plain": [
       "          X         Y\n",
       "0  0.807474  4.799720\n",
       "1 -3.002227  2.662753\n",
       "2  1.342178  4.355880\n",
       "3 -0.424121  4.718544\n",
       "4 -2.566268  8.543272"
      ]
     },
     "execution_count": 12,
     "metadata": {},
     "output_type": "execute_result"
    }
   ],
   "source": [
    "generate_laplace_perturbation(plain_df=plain_df, epsilon=0.5).head()"
   ]
  },
  {
   "cell_type": "code",
   "execution_count": 13,
   "metadata": {},
   "outputs": [
    {
     "data": {
      "text/html": [
       "<div>\n",
       "<style scoped>\n",
       "    .dataframe tbody tr th:only-of-type {\n",
       "        vertical-align: middle;\n",
       "    }\n",
       "\n",
       "    .dataframe tbody tr th {\n",
       "        vertical-align: top;\n",
       "    }\n",
       "\n",
       "    .dataframe thead th {\n",
       "        text-align: right;\n",
       "    }\n",
       "</style>\n",
       "<table border=\"1\" class=\"dataframe\">\n",
       "  <thead>\n",
       "    <tr style=\"text-align: right;\">\n",
       "      <th></th>\n",
       "      <th>X</th>\n",
       "      <th>Y</th>\n",
       "    </tr>\n",
       "  </thead>\n",
       "  <tbody>\n",
       "    <tr>\n",
       "      <th>0</th>\n",
       "      <td>1.149777</td>\n",
       "      <td>5.644006</td>\n",
       "    </tr>\n",
       "    <tr>\n",
       "      <th>1</th>\n",
       "      <td>-1.636743</td>\n",
       "      <td>3.153447</td>\n",
       "    </tr>\n",
       "    <tr>\n",
       "      <th>2</th>\n",
       "      <td>1.287182</td>\n",
       "      <td>4.028151</td>\n",
       "    </tr>\n",
       "    <tr>\n",
       "      <th>3</th>\n",
       "      <td>-1.273200</td>\n",
       "      <td>4.344106</td>\n",
       "    </tr>\n",
       "    <tr>\n",
       "      <th>4</th>\n",
       "      <td>-0.581559</td>\n",
       "      <td>9.356728</td>\n",
       "    </tr>\n",
       "  </tbody>\n",
       "</table>\n",
       "</div>"
      ],
      "text/plain": [
       "          X         Y\n",
       "0  1.149777  5.644006\n",
       "1 -1.636743  3.153447\n",
       "2  1.287182  4.028151\n",
       "3 -1.273200  4.344106\n",
       "4 -0.581559  9.356728"
      ]
     },
     "execution_count": 13,
     "metadata": {},
     "output_type": "execute_result"
    }
   ],
   "source": [
    "generate_gaussian_perturbation(plain_df=plain_df, epsilon=0.5).head()"
   ]
  },
  {
   "cell_type": "code",
   "execution_count": 14,
   "metadata": {},
   "outputs": [],
   "source": [
    "import pandas as pd\n",
    "\n",
    "epsilons = [0.05, 0.1 , 0.5 , 1, 2, 3, 5, 7, 9]\n",
    "for epsilon in epsilons:\n",
    "    Z = generate_pairwise_perturbation(plain_df, epsilon)\n",
    "    Z_gaussian = generate_gaussian_perturbation(plain_df, epsilon)\n",
    "    Z_laplace = generate_laplace_perturbation(plain_df, epsilon)\n",
    "    Z_pd = pd.DataFrame(Z, columns=['X', 'Y'])\n",
    "    Z_gaussian_pd = pd.DataFrame(Z_gaussian, columns=['X', 'Y'])\n",
    "    Z_laplace_pd = pd.DataFrame(Z_laplace, columns=['X', 'Y'])\n",
    "    Z_pd.to_csv('../export/pairwise/perturbed_'+str(epsilon)+'.csv')\n",
    "    Z_gaussian_pd.to_csv('../export/gaussian/perturbed_'+str(epsilon)+'.csv')\n",
    "    Z_laplace_pd.to_csv('../export/laplace/perturbed_'+str(epsilon)+'.csv')"
   ]
  }
 ],
 "metadata": {
  "kernelspec": {
   "display_name": "base",
   "language": "python",
   "name": "python3"
  },
  "language_info": {
   "codemirror_mode": {
    "name": "ipython",
    "version": 3
   },
   "file_extension": ".py",
   "mimetype": "text/x-python",
   "name": "python",
   "nbconvert_exporter": "python",
   "pygments_lexer": "ipython3",
   "version": "3.9.13"
  },
  "orig_nbformat": 4
 },
 "nbformat": 4,
 "nbformat_minor": 2
}
