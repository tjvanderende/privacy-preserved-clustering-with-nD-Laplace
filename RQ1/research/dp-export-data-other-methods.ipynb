{
 "cells": [
  {
   "cell_type": "code",
   "execution_count": 1,
   "metadata": {},
   "outputs": [],
   "source": [
    "import sys \n",
    "sys.path.append('../../')"
   ]
  },
  {
   "cell_type": "code",
   "execution_count": 2,
   "metadata": {},
   "outputs": [
    {
     "name": "stderr",
     "output_type": "stream",
     "text": [
      "/opt/conda/lib/python3.9/site-packages/art/estimators/certification/__init__.py:14: UserWarning: PyTorch not found. Not importing DeepZ or Interval Bound Propagation functionality\n",
      "  warnings.warn(\"PyTorch not found. Not importing DeepZ or Interval Bound Propagation functionality\")\n"
     ]
    },
    {
     "data": {
      "text/html": [
       "<div>\n",
       "<style scoped>\n",
       "    .dataframe tbody tr th:only-of-type {\n",
       "        vertical-align: middle;\n",
       "    }\n",
       "\n",
       "    .dataframe tbody tr th {\n",
       "        vertical-align: top;\n",
       "    }\n",
       "\n",
       "    .dataframe thead th {\n",
       "        text-align: right;\n",
       "    }\n",
       "</style>\n",
       "<table border=\"1\" class=\"dataframe\">\n",
       "  <thead>\n",
       "    <tr style=\"text-align: right;\">\n",
       "      <th></th>\n",
       "      <th>X</th>\n",
       "      <th>Y</th>\n",
       "    </tr>\n",
       "  </thead>\n",
       "  <tbody>\n",
       "    <tr>\n",
       "      <th>0</th>\n",
       "      <td>0.290699</td>\n",
       "      <td>0.005919</td>\n",
       "    </tr>\n",
       "    <tr>\n",
       "      <th>1</th>\n",
       "      <td>-0.783091</td>\n",
       "      <td>-0.406766</td>\n",
       "    </tr>\n",
       "    <tr>\n",
       "      <th>2</th>\n",
       "      <td>0.652456</td>\n",
       "      <td>-0.076586</td>\n",
       "    </tr>\n",
       "    <tr>\n",
       "      <th>3</th>\n",
       "      <td>-0.264127</td>\n",
       "      <td>0.038481</td>\n",
       "    </tr>\n",
       "    <tr>\n",
       "      <th>4</th>\n",
       "      <td>-0.444901</td>\n",
       "      <td>0.834250</td>\n",
       "    </tr>\n",
       "  </tbody>\n",
       "</table>\n",
       "</div>"
      ],
      "text/plain": [
       "          X         Y\n",
       "0  0.290699  0.005919\n",
       "1 -0.783091 -0.406766\n",
       "2  0.652456 -0.076586\n",
       "3 -0.264127  0.038481\n",
       "4 -0.444901  0.834250"
      ]
     },
     "execution_count": 2,
     "metadata": {},
     "output_type": "execute_result"
    }
   ],
   "source": [
    "import Helpers.helpers as helpers\n",
    "\n",
    "plain_df = helpers.load_dataset('../export/plain.csv')\n",
    "plain_df.head()"
   ]
  },
  {
   "cell_type": "code",
   "execution_count": 3,
   "metadata": {},
   "outputs": [
    {
     "data": {
      "text/plain": [
       "1.9430261541175275"
      ]
     },
     "execution_count": 3,
     "metadata": {},
     "output_type": "execute_result"
    }
   ],
   "source": [
    "from diffprivlib.mechanisms import laplace, gaussian\n",
    "\n",
    "lp = laplace.Laplace(epsilon=3, sensitivity=1)\n",
    "lp.randomise(2)"
   ]
  },
  {
   "cell_type": "code",
   "execution_count": 4,
   "metadata": {},
   "outputs": [
    {
     "data": {
      "text/plain": [
       "2.35283660959042"
      ]
     },
     "execution_count": 4,
     "metadata": {},
     "output_type": "execute_result"
    }
   ],
   "source": [
    "gs = gaussian.GaussianAnalytic(epsilon=3, sensitivity=1, delta=0.1)\n",
    "gs.randomise(1)"
   ]
  },
  {
   "cell_type": "code",
   "execution_count": 5,
   "metadata": {},
   "outputs": [],
   "source": [
    "from matplotlib import pyplot as plt\n",
    "import numpy as np\n",
    "\n",
    "\n",
    "def ls_at_distance(df, u, k):\n",
    "    print(f'Computing local sensitivity for k = {k}')\n",
    "    print(len(df) - k + 1)\n",
    "    val = len(df) - k + 1\n",
    "    return np.abs(u/val if val > 0 else 1)\n",
    "\n",
    "#Smooth sensitivity and sampling in private data analysis.\n",
    "def calc_smooth_sensitivity(X, u): \n",
    "    epsilon = 1           # set epsilon = 1\n",
    "    delta = 1/len(X)**2  # set delta = 1/n^2\n",
    "\n",
    "    # Step 1: set beta\n",
    "    beta = epsilon / (2*np.log(2/delta))\n",
    "\n",
    "    # Step 2: compute smoothed-out sensitivity for various values of k\n",
    "    r = [np.exp(- beta * k) * ls_at_distance(X, u, k) for k in range(0,50)]\n",
    "    plt.plot(r);\n",
    "    plt.xlabel('Value of k')\n",
    "    plt.ylabel('Smoothed-out Local Sensitivity');\n",
    "\n",
    "    S = np.max(r)\n",
    "    sensitivity = 2*S\n",
    "    print(f'Final sensitivity: {sensitivity}')"
   ]
  },
  {
   "cell_type": "code",
   "execution_count": 6,
   "metadata": {},
   "outputs": [
    {
     "name": "stdout",
     "output_type": "stream",
     "text": [
      "Computing local sensitivity for k = 0\n",
      "51\n",
      "Computing local sensitivity for k = 1\n",
      "50\n",
      "Computing local sensitivity for k = 2\n",
      "49\n",
      "Computing local sensitivity for k = 3\n",
      "48\n",
      "Computing local sensitivity for k = 4\n",
      "47\n",
      "Computing local sensitivity for k = 5\n",
      "46\n",
      "Computing local sensitivity for k = 6\n",
      "45\n",
      "Computing local sensitivity for k = 7\n",
      "44\n",
      "Computing local sensitivity for k = 8\n",
      "43\n",
      "Computing local sensitivity for k = 9\n",
      "42\n",
      "Computing local sensitivity for k = 10\n",
      "41\n",
      "Computing local sensitivity for k = 11\n",
      "40\n",
      "Computing local sensitivity for k = 12\n",
      "39\n",
      "Computing local sensitivity for k = 13\n",
      "38\n",
      "Computing local sensitivity for k = 14\n",
      "37\n",
      "Computing local sensitivity for k = 15\n",
      "36\n",
      "Computing local sensitivity for k = 16\n",
      "35\n",
      "Computing local sensitivity for k = 17\n",
      "34\n",
      "Computing local sensitivity for k = 18\n",
      "33\n",
      "Computing local sensitivity for k = 19\n",
      "32\n",
      "Computing local sensitivity for k = 20\n",
      "31\n",
      "Computing local sensitivity for k = 21\n",
      "30\n",
      "Computing local sensitivity for k = 22\n",
      "29\n",
      "Computing local sensitivity for k = 23\n",
      "28\n",
      "Computing local sensitivity for k = 24\n",
      "27\n",
      "Computing local sensitivity for k = 25\n",
      "26\n",
      "Computing local sensitivity for k = 26\n",
      "25\n",
      "Computing local sensitivity for k = 27\n",
      "24\n",
      "Computing local sensitivity for k = 28\n",
      "23\n",
      "Computing local sensitivity for k = 29\n",
      "22\n",
      "Computing local sensitivity for k = 30\n",
      "21\n",
      "Computing local sensitivity for k = 31\n",
      "20\n",
      "Computing local sensitivity for k = 32\n",
      "19\n",
      "Computing local sensitivity for k = 33\n",
      "18\n",
      "Computing local sensitivity for k = 34\n",
      "17\n",
      "Computing local sensitivity for k = 35\n",
      "16\n",
      "Computing local sensitivity for k = 36\n",
      "15\n",
      "Computing local sensitivity for k = 37\n",
      "14\n",
      "Computing local sensitivity for k = 38\n",
      "13\n",
      "Computing local sensitivity for k = 39\n",
      "12\n",
      "Computing local sensitivity for k = 40\n",
      "11\n",
      "Computing local sensitivity for k = 41\n",
      "10\n",
      "Computing local sensitivity for k = 42\n",
      "9\n",
      "Computing local sensitivity for k = 43\n",
      "8\n",
      "Computing local sensitivity for k = 44\n",
      "7\n",
      "Computing local sensitivity for k = 45\n",
      "6\n",
      "Computing local sensitivity for k = 46\n",
      "5\n",
      "Computing local sensitivity for k = 47\n",
      "4\n",
      "Computing local sensitivity for k = 48\n",
      "3\n",
      "Computing local sensitivity for k = 49\n",
      "2\n",
      "Final sensitivity: 0.05632963571041675\n"
     ]
    },
    {
     "name": "stderr",
     "output_type": "stream",
     "text": [
      "/opt/conda/lib/python3.9/site-packages/numpy/core/fromnumeric.py:84: FutureWarning: In a future version, DataFrame.max(axis=None) will return a scalar max over the entire DataFrame. To retain the old behavior, use 'frame.max(axis=0)' or just 'frame.max()'\n",
      "  return reduction(axis=axis, out=out, **passkwargs)\n"
     ]
    },
    {
     "data": {
      "image/png": "[encoded data removed]",
      "text/plain": [
       "<Figure size 640x480 with 1 Axes>"
      ]
     },
     "metadata": {},
     "output_type": "display_data"
    }
   ],
   "source": [
    "u = np.max(plain_df).max()\n",
    "calc_smooth_sensitivity(plain_df, u)\n",
    "sensitivity = 0.507"
   ]
  },
  {
   "cell_type": "code",
   "execution_count": 7,
   "metadata": {},
   "outputs": [],
   "source": [
    "import numpy as np\n",
    "\n",
    "# [https://github.com/forestneo/sunPytools/blob/master/dplib/ldp_mechanisms/piecewise_mechanism.py](https://github.com/forestneo/sunPytools/blob/master/dplib/ldp_mechanisms/piecewise_mechanism.py)\n",
    "# Collecting and Analyzing Multidimensional Data with Local Differential Privacy\n",
    "def randomize_piece_wise(epsilon, value):\n",
    "    z = np.e ** (epsilon / 2)\n",
    "    C = (z + 1) / (z - 1)\n",
    "    P1 = (value + 1) / (2 + 2 * z)\n",
    "    P2 = z / (z + 1)\n",
    "    P3 = (1 - value) / (2 + 2 * z)\n",
    "\n",
    "    g1 = (C + 1) * value / 2 - (C - 1) / 2\n",
    "    g2 = (C + 1) * value / 2 + (C - 1) / 2\n",
    "\n",
    "    rnd = np.random.random()\n",
    "    if rnd < P1:\n",
    "        result = -C + np.random.random() * (g1 - (-C))\n",
    "    elif rnd < P1 + P2:\n",
    "        result = (g2 - g1) * np.random.random() + g1\n",
    "    else:\n",
    "        result = (C - g2) * np.random.random() + g2\n",
    "    return result\n"
   ]
  },
  {
   "cell_type": "code",
   "execution_count": 8,
   "metadata": {},
   "outputs": [
    {
     "data": {
      "text/plain": [
       "1.0042220995980224"
      ]
     },
     "execution_count": 8,
     "metadata": {},
     "output_type": "execute_result"
    }
   ],
   "source": [
    "from Helpers.pairwise import PMBase, PiecewiseMechanism\n",
    "pm_encoder = PMBase(epsilon=10)\n",
    "pm_encoder.randomise(1)"
   ]
  },
  {
   "attachments": {},
   "cell_type": "markdown",
   "metadata": {},
   "source": [
    "## Generate data"
   ]
  },
  {
   "cell_type": "code",
   "execution_count": 9,
   "metadata": {},
   "outputs": [],
   "source": [
    "def generate_pairwise_perturbation(plain_df, epsilon):\n",
    "    max = plain_df.max().max()\n",
    "    min = plain_df.min().min()\n",
    "    pm_encoder = PiecewiseMechanism(epsilon=epsilon,domain=(min, max))\n",
    "    perturbed_df = plain_df.copy()\n",
    "    for col in plain_df.columns:\n",
    "        perturbed_df[col] = plain_df[col].apply(pm_encoder.randomise)\n",
    "    return perturbed_df\n",
    "\n",
    "def generate_laplace_perturbation(plain_df, epsilon):\n",
    "    max = plain_df.max().max()\n",
    "    min = plain_df.min().min()\n",
    "    lp = laplace.Laplace(epsilon=epsilon, sensitivity=sensitivity)\n",
    "    perturbed_df = plain_df.copy()\n",
    "    for col in plain_df.columns:\n",
    "        perturbed_df[col] = plain_df[col].apply(lambda x: lp.randomise(x))\n",
    "    return perturbed_df\n",
    "\n",
    "def generate_gaussian_perturbation(plain_df, epsilon):\n",
    "    max = plain_df.max().max()\n",
    "    min = plain_df.min().min()\n",
    "    gs = gaussian.GaussianAnalytic(epsilon=epsilon, sensitivity=sensitivity, delta=0.1)\n",
    "    perturbed_df = plain_df.copy()\n",
    "    for col in plain_df.columns:\n",
    "        perturbed_df[col] = plain_df[col].apply(lambda x: gs.randomise(x))\n",
    "    return perturbed_df"
   ]
  },
  {
   "cell_type": "code",
   "execution_count": 10,
   "metadata": {},
   "outputs": [
    {
     "data": {
      "text/html": [
       "<div>\n",
       "<style scoped>\n",
       "    .dataframe tbody tr th:only-of-type {\n",
       "        vertical-align: middle;\n",
       "    }\n",
       "\n",
       "    .dataframe tbody tr th {\n",
       "        vertical-align: top;\n",
       "    }\n",
       "\n",
       "    .dataframe thead th {\n",
       "        text-align: right;\n",
       "    }\n",
       "</style>\n",
       "<table border=\"1\" class=\"dataframe\">\n",
       "  <thead>\n",
       "    <tr style=\"text-align: right;\">\n",
       "      <th></th>\n",
       "      <th>X</th>\n",
       "      <th>Y</th>\n",
       "    </tr>\n",
       "  </thead>\n",
       "  <tbody>\n",
       "    <tr>\n",
       "      <th>0</th>\n",
       "      <td>0.290699</td>\n",
       "      <td>0.005919</td>\n",
       "    </tr>\n",
       "    <tr>\n",
       "      <th>1</th>\n",
       "      <td>-0.783091</td>\n",
       "      <td>-0.406766</td>\n",
       "    </tr>\n",
       "    <tr>\n",
       "      <th>2</th>\n",
       "      <td>0.652456</td>\n",
       "      <td>-0.076586</td>\n",
       "    </tr>\n",
       "    <tr>\n",
       "      <th>3</th>\n",
       "      <td>-0.264127</td>\n",
       "      <td>0.038481</td>\n",
       "    </tr>\n",
       "    <tr>\n",
       "      <th>4</th>\n",
       "      <td>-0.444901</td>\n",
       "      <td>0.834250</td>\n",
       "    </tr>\n",
       "  </tbody>\n",
       "</table>\n",
       "</div>"
      ],
      "text/plain": [
       "          X         Y\n",
       "0  0.290699  0.005919\n",
       "1 -0.783091 -0.406766\n",
       "2  0.652456 -0.076586\n",
       "3 -0.264127  0.038481\n",
       "4 -0.444901  0.834250"
      ]
     },
     "execution_count": 10,
     "metadata": {},
     "output_type": "execute_result"
    }
   ],
   "source": [
    "plain_df.head()"
   ]
  },
  {
   "cell_type": "code",
   "execution_count": 11,
   "metadata": {},
   "outputs": [
    {
     "data": {
      "text/html": [
       "<div>\n",
       "<style scoped>\n",
       "    .dataframe tbody tr th:only-of-type {\n",
       "        vertical-align: middle;\n",
       "    }\n",
       "\n",
       "    .dataframe tbody tr th {\n",
       "        vertical-align: top;\n",
       "    }\n",
       "\n",
       "    .dataframe thead th {\n",
       "        text-align: right;\n",
       "    }\n",
       "</style>\n",
       "<table border=\"1\" class=\"dataframe\">\n",
       "  <thead>\n",
       "    <tr style=\"text-align: right;\">\n",
       "      <th></th>\n",
       "      <th>X</th>\n",
       "      <th>Y</th>\n",
       "    </tr>\n",
       "  </thead>\n",
       "  <tbody>\n",
       "    <tr>\n",
       "      <th>0</th>\n",
       "      <td>0.296877</td>\n",
       "      <td>0.032504</td>\n",
       "    </tr>\n",
       "    <tr>\n",
       "      <th>1</th>\n",
       "      <td>-0.806907</td>\n",
       "      <td>-0.391073</td>\n",
       "    </tr>\n",
       "    <tr>\n",
       "      <th>2</th>\n",
       "      <td>0.702249</td>\n",
       "      <td>-0.105936</td>\n",
       "    </tr>\n",
       "    <tr>\n",
       "      <th>3</th>\n",
       "      <td>-0.264682</td>\n",
       "      <td>0.035551</td>\n",
       "    </tr>\n",
       "    <tr>\n",
       "      <th>4</th>\n",
       "      <td>-0.459755</td>\n",
       "      <td>0.864845</td>\n",
       "    </tr>\n",
       "  </tbody>\n",
       "</table>\n",
       "</div>"
      ],
      "text/plain": [
       "          X         Y\n",
       "0  0.296877  0.032504\n",
       "1 -0.806907 -0.391073\n",
       "2  0.702249 -0.105936\n",
       "3 -0.264682  0.035551\n",
       "4 -0.459755  0.864845"
      ]
     },
     "execution_count": 11,
     "metadata": {},
     "output_type": "execute_result"
    }
   ],
   "source": [
    "generate_pairwise_perturbation(plain_df, epsilon=7).head()"
   ]
  },
  {
   "cell_type": "code",
   "execution_count": 12,
   "metadata": {},
   "outputs": [
    {
     "data": {
      "text/html": [
       "<div>\n",
       "<style scoped>\n",
       "    .dataframe tbody tr th:only-of-type {\n",
       "        vertical-align: middle;\n",
       "    }\n",
       "\n",
       "    .dataframe tbody tr th {\n",
       "        vertical-align: top;\n",
       "    }\n",
       "\n",
       "    .dataframe thead th {\n",
       "        text-align: right;\n",
       "    }\n",
       "</style>\n",
       "<table border=\"1\" class=\"dataframe\">\n",
       "  <thead>\n",
       "    <tr style=\"text-align: right;\">\n",
       "      <th></th>\n",
       "      <th>X</th>\n",
       "      <th>Y</th>\n",
       "    </tr>\n",
       "  </thead>\n",
       "  <tbody>\n",
       "    <tr>\n",
       "      <th>0</th>\n",
       "      <td>1.351916</td>\n",
       "      <td>0.529284</td>\n",
       "    </tr>\n",
       "    <tr>\n",
       "      <th>1</th>\n",
       "      <td>-1.536214</td>\n",
       "      <td>0.973563</td>\n",
       "    </tr>\n",
       "    <tr>\n",
       "      <th>2</th>\n",
       "      <td>0.176625</td>\n",
       "      <td>-0.919433</td>\n",
       "    </tr>\n",
       "    <tr>\n",
       "      <th>3</th>\n",
       "      <td>0.500949</td>\n",
       "      <td>1.385271</td>\n",
       "    </tr>\n",
       "    <tr>\n",
       "      <th>4</th>\n",
       "      <td>0.181589</td>\n",
       "      <td>0.693648</td>\n",
       "    </tr>\n",
       "  </tbody>\n",
       "</table>\n",
       "</div>"
      ],
      "text/plain": [
       "          X         Y\n",
       "0  1.351916  0.529284\n",
       "1 -1.536214  0.973563\n",
       "2  0.176625 -0.919433\n",
       "3  0.500949  1.385271\n",
       "4  0.181589  0.693648"
      ]
     },
     "execution_count": 12,
     "metadata": {},
     "output_type": "execute_result"
    }
   ],
   "source": [
    "generate_laplace_perturbation(plain_df=plain_df, epsilon=0.5).head()"
   ]
  },
  {
   "cell_type": "code",
   "execution_count": 13,
   "metadata": {},
   "outputs": [
    {
     "data": {
      "text/html": [
       "<div>\n",
       "<style scoped>\n",
       "    .dataframe tbody tr th:only-of-type {\n",
       "        vertical-align: middle;\n",
       "    }\n",
       "\n",
       "    .dataframe tbody tr th {\n",
       "        vertical-align: top;\n",
       "    }\n",
       "\n",
       "    .dataframe thead th {\n",
       "        text-align: right;\n",
       "    }\n",
       "</style>\n",
       "<table border=\"1\" class=\"dataframe\">\n",
       "  <thead>\n",
       "    <tr style=\"text-align: right;\">\n",
       "      <th></th>\n",
       "      <th>X</th>\n",
       "      <th>Y</th>\n",
       "    </tr>\n",
       "  </thead>\n",
       "  <tbody>\n",
       "    <tr>\n",
       "      <th>0</th>\n",
       "      <td>-0.680914</td>\n",
       "      <td>-0.653060</td>\n",
       "    </tr>\n",
       "    <tr>\n",
       "      <th>1</th>\n",
       "      <td>-1.198289</td>\n",
       "      <td>-0.133285</td>\n",
       "    </tr>\n",
       "    <tr>\n",
       "      <th>2</th>\n",
       "      <td>1.097776</td>\n",
       "      <td>-1.339362</td>\n",
       "    </tr>\n",
       "    <tr>\n",
       "      <th>3</th>\n",
       "      <td>0.987549</td>\n",
       "      <td>-1.448622</td>\n",
       "    </tr>\n",
       "    <tr>\n",
       "      <th>4</th>\n",
       "      <td>-1.391130</td>\n",
       "      <td>0.368152</td>\n",
       "    </tr>\n",
       "  </tbody>\n",
       "</table>\n",
       "</div>"
      ],
      "text/plain": [
       "          X         Y\n",
       "0 -0.680914 -0.653060\n",
       "1 -1.198289 -0.133285\n",
       "2  1.097776 -1.339362\n",
       "3  0.987549 -1.448622\n",
       "4 -1.391130  0.368152"
      ]
     },
     "execution_count": 13,
     "metadata": {},
     "output_type": "execute_result"
    }
   ],
   "source": [
    "generate_gaussian_perturbation(plain_df=plain_df, epsilon=0.5).head()"
   ]
  },
  {
   "cell_type": "code",
   "execution_count": 14,
   "metadata": {},
   "outputs": [],
   "source": [
    "import pandas as pd\n",
    "\n",
    "epsilons = [0.05, 0.1 , 0.5 , 1, 2, 3, 5, 7, 9]\n",
    "for epsilon in epsilons:\n",
    "    Z = generate_pairwise_perturbation(plain_df, epsilon)\n",
    "    Z_gaussian = generate_gaussian_perturbation(plain_df, epsilon)\n",
    "    Z_laplace = generate_laplace_perturbation(plain_df, epsilon)\n",
    "    Z_pd = pd.DataFrame(Z, columns=['X', 'Y'])\n",
    "    Z_gaussian_pd = pd.DataFrame(Z_gaussian, columns=['X', 'Y'])\n",
    "    Z_laplace_pd = pd.DataFrame(Z_laplace, columns=['X', 'Y'])\n",
    "    Z_pd.to_csv('../export/pairwise/perturbed_'+str(epsilon)+'.csv')\n",
    "    Z_gaussian_pd.to_csv('../export/gaussian/perturbed_'+str(epsilon)+'.csv')\n",
    "    Z_laplace_pd.to_csv('../export/laplace/perturbed_'+str(epsilon)+'.csv')"
   ]
  }
 ],
 "metadata": {
  "kernelspec": {
   "display_name": "base",
   "language": "python",
   "name": "python3"
  },
  "language_info": {
   "codemirror_mode": {
    "name": "ipython",
    "version": 3
   },
   "file_extension": ".py",
   "mimetype": "text/x-python",
   "name": "python",
   "nbconvert_exporter": "python",
   "pygments_lexer": "ipython3",
   "version": "3.9.13"
  },
  "orig_nbformat": 4
 },
 "nbformat": 4,
 "nbformat_minor": 2
}
