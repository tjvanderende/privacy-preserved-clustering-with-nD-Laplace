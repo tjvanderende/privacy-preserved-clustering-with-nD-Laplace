{
 "cells": [
  {
   "cell_type": "code",
   "execution_count": 1,
   "metadata": {},
   "outputs": [],
   "source": [
    "import sys \n",
    "sys.path.append('../../')"
   ]
  },
  {
   "cell_type": "code",
   "execution_count": 1,
   "metadata": {},
   "outputs": [
    {
     "name": "stderr",
     "output_type": "stream",
     "text": [
      "/opt/conda/lib/python3.9/site-packages/art/estimators/certification/__init__.py:14: UserWarning: PyTorch not found. Not importing DeepZ or Interval Bound Propagation functionality\n",
      "  warnings.warn(\"PyTorch not found. Not importing DeepZ or Interval Bound Propagation functionality\")\n"
     ]
    },
    {
     "data": {
      "text/html": [
       "<div>\n",
       "<style scoped>\n",
       "    .dataframe tbody tr th:only-of-type {\n",
       "        vertical-align: middle;\n",
       "    }\n",
       "\n",
       "    .dataframe tbody tr th {\n",
       "        vertical-align: top;\n",
       "    }\n",
       "\n",
       "    .dataframe thead th {\n",
       "        text-align: right;\n",
       "    }\n",
       "</style>\n",
       "<table border=\"1\" class=\"dataframe\">\n",
       "  <thead>\n",
       "    <tr style=\"text-align: right;\">\n",
       "      <th></th>\n",
       "      <th>area</th>\n",
       "      <th>perimeter</th>\n",
       "      <th>class</th>\n",
       "    </tr>\n",
       "  </thead>\n",
       "  <tbody>\n",
       "    <tr>\n",
       "      <th>0</th>\n",
       "      <td>15.26</td>\n",
       "      <td>14.84</td>\n",
       "      <td>0</td>\n",
       "    </tr>\n",
       "    <tr>\n",
       "      <th>1</th>\n",
       "      <td>14.88</td>\n",
       "      <td>14.57</td>\n",
       "      <td>0</td>\n",
       "    </tr>\n",
       "    <tr>\n",
       "      <th>2</th>\n",
       "      <td>14.29</td>\n",
       "      <td>14.09</td>\n",
       "      <td>0</td>\n",
       "    </tr>\n",
       "    <tr>\n",
       "      <th>3</th>\n",
       "      <td>13.84</td>\n",
       "      <td>13.94</td>\n",
       "      <td>0</td>\n",
       "    </tr>\n",
       "    <tr>\n",
       "      <th>4</th>\n",
       "      <td>16.14</td>\n",
       "      <td>14.99</td>\n",
       "      <td>0</td>\n",
       "    </tr>\n",
       "  </tbody>\n",
       "</table>\n",
       "</div>"
      ],
      "text/plain": [
       "    area  perimeter  class\n",
       "0  15.26      14.84      0\n",
       "1  14.88      14.57      0\n",
       "2  14.29      14.09      0\n",
       "3  13.84      13.94      0\n",
       "4  16.14      14.99      0"
      ]
     },
     "execution_count": 1,
     "metadata": {},
     "output_type": "execute_result"
    }
   ],
   "source": [
    "import Helpers.helpers as helpers\n",
    "\n",
    "plain_df = helpers.load_dataset('../../data/seeds-dataset/rq1.csv')\n",
    "plain_df.head()"
   ]
  },
  {
   "cell_type": "code",
   "execution_count": 2,
   "metadata": {},
   "outputs": [],
   "source": [
    "from diffprivlib.mechanisms import laplace, gaussian\n",
    "\n",
    "#lp = laplace.Laplace(epsilon=3, sensitivity=1)\n",
    "#lp.randomise(2)"
   ]
  },
  {
   "cell_type": "code",
   "execution_count": 3,
   "metadata": {},
   "outputs": [],
   "source": [
    "#gs = gaussian.GaussianAnalytic(epsilon=3, sensitivity=1, delta=0.1)\n",
    "#gs.randomise(1)"
   ]
  },
  {
   "cell_type": "code",
   "execution_count": 4,
   "metadata": {},
   "outputs": [],
   "source": [
    "from matplotlib import pyplot as plt\n",
    "import numpy as np\n",
    "\n",
    "\n",
    "def ls_at_distance(df, u, k):\n",
    "    print(f'Computing local sensitivity for k = {k}')\n",
    "    print(len(df) - k + 1)\n",
    "    val = len(df) - k + 1\n",
    "    return np.abs(u/val if val > 0 else 1)\n",
    "\n",
    "#Smooth sensitivity and sampling in private data analysis.\n",
    "def calc_smooth_sensitivity(X, u): \n",
    "    epsilon = 1           # set epsilon = 1\n",
    "    delta = 1/len(X)**2  # set delta = 1/n^2\n",
    "\n",
    "    # Step 1: set beta\n",
    "    beta = epsilon / (2*np.log(2/delta))\n",
    "\n",
    "    # Step 2: compute smoothed-out sensitivity for various values of k\n",
    "    r = [np.exp(- beta * k) * ls_at_distance(X, u, k) for k in range(0,50)]\n",
    "    plt.plot(r);\n",
    "    plt.xlabel('Value of k')\n",
    "    plt.ylabel('Smoothed-out Local Sensitivity');\n",
    "\n",
    "    S = np.max(r)\n",
    "    sensitivity = 2*S\n",
    "    print(f'Final sensitivity: {sensitivity}')"
   ]
  },
  {
   "cell_type": "code",
   "execution_count": 6,
   "metadata": {},
   "outputs": [],
   "source": [
    "#u = np.max(plain_df).max()\n",
    "#calc_smooth_sensitivity(plain_df, u)\n",
    "#sensitivity = 0.507"
   ]
  },
  {
   "cell_type": "code",
   "execution_count": 7,
   "metadata": {},
   "outputs": [],
   "source": [
    "import numpy as np\n",
    "\n",
    "# [https://github.com/forestneo/sunPytools/blob/master/dplib/ldp_mechanisms/piecewise_mechanism.py](https://github.com/forestneo/sunPytools/blob/master/dplib/ldp_mechanisms/piecewise_mechanism.py)\n",
    "# Collecting and Analyzing Multidimensional Data with Local Differential Privacy\n",
    "def randomize_piece_wise(epsilon, value):\n",
    "    z = np.e ** (epsilon / 2)\n",
    "    C = (z + 1) / (z - 1)\n",
    "    P1 = (value + 1) / (2 + 2 * z)\n",
    "    P2 = z / (z + 1)\n",
    "    P3 = (1 - value) / (2 + 2 * z)\n",
    "\n",
    "    g1 = (C + 1) * value / 2 - (C - 1) / 2\n",
    "    g2 = (C + 1) * value / 2 + (C - 1) / 2\n",
    "\n",
    "    rnd = np.random.random()\n",
    "    if rnd < P1:\n",
    "        result = -C + np.random.random() * (g1 - (-C))\n",
    "    elif rnd < P1 + P2:\n",
    "        result = (g2 - g1) * np.random.random() + g1\n",
    "    else:\n",
    "        result = (C - g2) * np.random.random() + g2\n",
    "    return result\n"
   ]
  },
  {
   "cell_type": "code",
   "execution_count": 8,
   "metadata": {},
   "outputs": [
    {
     "data": {
      "text/plain": [
       "1.0037665280313193"
      ]
     },
     "execution_count": 8,
     "metadata": {},
     "output_type": "execute_result"
    }
   ],
   "source": [
    "from Helpers.pairwise import PMBase, PiecewiseMechanism\n",
    "pm_encoder = PMBase(epsilon=10)\n",
    "pm_encoder.randomise(1)"
   ]
  },
  {
   "attachments": {},
   "cell_type": "markdown",
   "metadata": {},
   "source": [
    "## Generate data"
   ]
  },
  {
   "cell_type": "code",
   "execution_count": 9,
   "metadata": {},
   "outputs": [],
   "source": [
    "def generate_pairwise_perturbation(plain_df, epsilon):\n",
    "    max = plain_df.max().max()\n",
    "    min = plain_df.min().min()\n",
    "    pm_encoder = PiecewiseMechanism(epsilon=epsilon,domain=(min, max))\n",
    "    perturbed_df = plain_df.copy()\n",
    "    for col in plain_df.columns:\n",
    "        perturbed_df[col] = plain_df[col].apply(pm_encoder.randomise)\n",
    "    return perturbed_df\n",
    "\n",
    "def generate_laplace_perturbation(plain_df, epsilon):\n",
    "    max = plain_df.max().max()\n",
    "    min = plain_df.min().min()\n",
    "    lp = laplace.Laplace(epsilon=epsilon, sensitivity=sensitivity)\n",
    "    perturbed_df = plain_df.copy()\n",
    "    for col in plain_df.columns:\n",
    "        perturbed_df[col] = plain_df[col].apply(lambda x: lp.randomise(x))\n",
    "    return perturbed_df\n",
    "\n",
    "def generate_gaussian_perturbation(plain_df, epsilon):\n",
    "    max = plain_df.max().max()\n",
    "    min = plain_df.min().min()\n",
    "    gs = gaussian.GaussianAnalytic(epsilon=epsilon, sensitivity=sensitivity, delta=0.1)\n",
    "    perturbed_df = plain_df.copy()\n",
    "    for col in plain_df.columns:\n",
    "        perturbed_df[col] = plain_df[col].apply(lambda x: gs.randomise(x))\n",
    "    return perturbed_df"
   ]
  },
  {
   "cell_type": "code",
   "execution_count": 10,
   "metadata": {},
   "outputs": [
    {
     "data": {
      "text/html": [
       "<div>\n",
       "<style scoped>\n",
       "    .dataframe tbody tr th:only-of-type {\n",
       "        vertical-align: middle;\n",
       "    }\n",
       "\n",
       "    .dataframe tbody tr th {\n",
       "        vertical-align: top;\n",
       "    }\n",
       "\n",
       "    .dataframe thead th {\n",
       "        text-align: right;\n",
       "    }\n",
       "</style>\n",
       "<table border=\"1\" class=\"dataframe\">\n",
       "  <thead>\n",
       "    <tr style=\"text-align: right;\">\n",
       "      <th></th>\n",
       "      <th>area</th>\n",
       "      <th>perimeter</th>\n",
       "      <th>class</th>\n",
       "    </tr>\n",
       "  </thead>\n",
       "  <tbody>\n",
       "    <tr>\n",
       "      <th>0</th>\n",
       "      <td>15.26</td>\n",
       "      <td>14.84</td>\n",
       "      <td>0</td>\n",
       "    </tr>\n",
       "    <tr>\n",
       "      <th>1</th>\n",
       "      <td>14.88</td>\n",
       "      <td>14.57</td>\n",
       "      <td>0</td>\n",
       "    </tr>\n",
       "    <tr>\n",
       "      <th>2</th>\n",
       "      <td>14.29</td>\n",
       "      <td>14.09</td>\n",
       "      <td>0</td>\n",
       "    </tr>\n",
       "    <tr>\n",
       "      <th>3</th>\n",
       "      <td>13.84</td>\n",
       "      <td>13.94</td>\n",
       "      <td>0</td>\n",
       "    </tr>\n",
       "    <tr>\n",
       "      <th>4</th>\n",
       "      <td>16.14</td>\n",
       "      <td>14.99</td>\n",
       "      <td>0</td>\n",
       "    </tr>\n",
       "  </tbody>\n",
       "</table>\n",
       "</div>"
      ],
      "text/plain": [
       "    area  perimeter  class\n",
       "0  15.26      14.84      0\n",
       "1  14.88      14.57      0\n",
       "2  14.29      14.09      0\n",
       "3  13.84      13.94      0\n",
       "4  16.14      14.99      0"
      ]
     },
     "execution_count": 10,
     "metadata": {},
     "output_type": "execute_result"
    }
   ],
   "source": [
    "plain_df.head()"
   ]
  },
  {
   "cell_type": "code",
   "execution_count": 11,
   "metadata": {},
   "outputs": [
    {
     "data": {
      "text/html": [
       "<div>\n",
       "<style scoped>\n",
       "    .dataframe tbody tr th:only-of-type {\n",
       "        vertical-align: middle;\n",
       "    }\n",
       "\n",
       "    .dataframe tbody tr th {\n",
       "        vertical-align: top;\n",
       "    }\n",
       "\n",
       "    .dataframe thead th {\n",
       "        text-align: right;\n",
       "    }\n",
       "</style>\n",
       "<table border=\"1\" class=\"dataframe\">\n",
       "  <thead>\n",
       "    <tr style=\"text-align: right;\">\n",
       "      <th></th>\n",
       "      <th>area</th>\n",
       "      <th>perimeter</th>\n",
       "      <th>class</th>\n",
       "    </tr>\n",
       "  </thead>\n",
       "  <tbody>\n",
       "    <tr>\n",
       "      <th>0</th>\n",
       "      <td>15.557955</td>\n",
       "      <td>14.857397</td>\n",
       "      <td>-0.502997</td>\n",
       "    </tr>\n",
       "    <tr>\n",
       "      <th>1</th>\n",
       "      <td>14.942890</td>\n",
       "      <td>14.838237</td>\n",
       "      <td>-0.554950</td>\n",
       "    </tr>\n",
       "    <tr>\n",
       "      <th>2</th>\n",
       "      <td>14.273005</td>\n",
       "      <td>14.369473</td>\n",
       "      <td>-0.001828</td>\n",
       "    </tr>\n",
       "    <tr>\n",
       "      <th>3</th>\n",
       "      <td>13.869258</td>\n",
       "      <td>14.275747</td>\n",
       "      <td>18.747712</td>\n",
       "    </tr>\n",
       "    <tr>\n",
       "      <th>4</th>\n",
       "      <td>16.319046</td>\n",
       "      <td>15.292638</td>\n",
       "      <td>-0.488706</td>\n",
       "    </tr>\n",
       "  </tbody>\n",
       "</table>\n",
       "</div>"
      ],
      "text/plain": [
       "        area  perimeter      class\n",
       "0  15.557955  14.857397  -0.502997\n",
       "1  14.942890  14.838237  -0.554950\n",
       "2  14.273005  14.369473  -0.001828\n",
       "3  13.869258  14.275747  18.747712\n",
       "4  16.319046  15.292638  -0.488706"
      ]
     },
     "execution_count": 11,
     "metadata": {},
     "output_type": "execute_result"
    }
   ],
   "source": [
    "generate_pairwise_perturbation(plain_df, epsilon=7).head()"
   ]
  },
  {
   "cell_type": "code",
   "execution_count": 12,
   "metadata": {},
   "outputs": [],
   "source": [
    "#generate_laplace_perturbation(plain_df=plain_df, epsilon=0.5).head()"
   ]
  },
  {
   "cell_type": "code",
   "execution_count": 13,
   "metadata": {},
   "outputs": [],
   "source": [
    "#generate_gaussian_perturbation(plain_df=plain_df, epsilon=0.5).head()"
   ]
  },
  {
   "cell_type": "code",
   "execution_count": 14,
   "metadata": {},
   "outputs": [],
   "source": [
    "import pandas as pd\n",
    "\n",
    "epsilons = [0.05, 0.1 , 0.5 , 1, 2, 3, 5, 7, 9]\n",
    "for epsilon in epsilons:\n",
    "    Z = generate_pairwise_perturbation(plain_df, epsilon)\n",
    "    #Z_gaussian = generate_gaussian_perturbation(plain_df, epsilon)\n",
    "    #Z_laplace = generate_laplace_perturbation(plain_df, epsilon)\n",
    "    Z_pd = pd.DataFrame(Z, columns=['area', 'perimeter'])\n",
    "    #Z_gaussian_pd = pd.DataFrame(Z_gaussian, columns=['X', 'Y'])\n",
    "    #Z_laplace_pd = pd.DataFrame(Z_laplace, columns=['X', 'Y'])\n",
    "    Z_pd.to_csv('../export/seeds_dataset/pairwise/perturbed_'+str(epsilon)+'.csv')\n",
    "   # Z_gaussian_pd.to_csv('../export/gaussian/perturbed_'+str(epsilon)+'.csv')\n",
    "    #Z_laplace_pd.to_csv('../export/laplace/perturbed_'+str(epsilon)+'.csv')"
   ]
  }
 ],
 "metadata": {
  "kernelspec": {
   "display_name": "base",
   "language": "python",
   "name": "python3"
  },
  "language_info": {
   "codemirror_mode": {
    "name": "ipython",
    "version": 3
   },
   "file_extension": ".py",
   "mimetype": "text/x-python",
   "name": "python",
   "nbconvert_exporter": "python",
   "pygments_lexer": "ipython3",
   "version": "3.9.13"
  },
  "orig_nbformat": 4
 },
 "nbformat": 4,
 "nbformat_minor": 2
}
