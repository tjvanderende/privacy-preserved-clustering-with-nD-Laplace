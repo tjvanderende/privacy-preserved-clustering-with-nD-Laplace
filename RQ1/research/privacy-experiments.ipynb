{
 "cells": [
  {
   "cell_type": "code",
   "execution_count": 1656,
   "metadata": {},
   "outputs": [],
   "source": [
    "import sys \n",
    "sys.path.append('../../')\n",
    "import_path = '../export/'"
   ]
  },
  {
   "cell_type": "code",
   "execution_count": 1657,
   "metadata": {},
   "outputs": [],
   "source": [
    "import pandas as pd\n",
    "import seaborn as sns\n",
    "\n",
    "def load_dataset(datasetname):\n",
    "    df = pd.read_csv(datasetname)\n",
    "    df = df.loc[:, ~df.columns.str.contains('^Unnamed')]\n",
    "    return df\n",
    "def load_plain_and_perturbed_dataset(epsilon):\n",
    "    dataset_name1 = import_path + 'plain.csv'\n",
    "    dataset_name2 = import_path + 'perturbed_' + str(epsilon) + '.csv'\n",
    "    dataset1 = load_dataset(dataset_name1)\n",
    "    dataset2 = load_dataset(dataset_name2)\n",
    "    return dataset1, dataset2\n",
    "\n",
    "def compare_datasets(dataset1, dataset2, epsilon):\n",
    "    sns.scatterplot(data=dataset1, x='X', y='Y', label='baseline')\n",
    "    sns.scatterplot(data=dataset2, x='X', y='Y', label='epsilon: {eps}'.format(eps=epsilon))\n",
    "\n",
    "def load_and_compare(epsilon):\n",
    "    dataset1, dataset2 = load_plain_and_perturbed_dataset(epsilon)\n",
    "    compare_datasets(dataset1, dataset2, epsilon)"
   ]
  },
  {
   "cell_type": "code",
   "execution_count": 1658,
   "metadata": {},
   "outputs": [
    {
     "data": {
      "image/png": "[encoded data removed]",
      "text/plain": [
       "<Figure size 640x480 with 1 Axes>"
      ]
     },
     "metadata": {},
     "output_type": "display_data"
    }
   ],
   "source": [
    "load_and_compare(2)"
   ]
  },
  {
   "attachments": {},
   "cell_type": "markdown",
   "metadata": {},
   "source": [
    "## Euclidean distance"
   ]
  },
  {
   "cell_type": "code",
   "execution_count": 1659,
   "metadata": {},
   "outputs": [],
   "source": [
    "epsilons = [0.05, 0.5, 1, 2, 3, 6]\n",
    "export_path = import_path + 'privacy_scores'"
   ]
  },
  {
   "cell_type": "code",
   "execution_count": 1660,
   "metadata": {},
   "outputs": [],
   "source": [
    "import numpy as np\n",
    "\n",
    "\n",
    "def Euclidean_Dist(df1, df2, cols=['X','Y']):\n",
    "    return np.average(np.linalg.norm(df1[cols] - df2[cols],\n",
    "                   axis=1))\n",
    "def calculate_avg_distance_between_datasets(epsilon):\n",
    "    plain_df, perturbed_df = load_plain_and_perturbed_dataset(epsilon)\n",
    "    return Euclidean_Dist(plain_df, perturbed_df)\n",
    "\n",
    "def calculate_avg_distance_for_epsilons(epsilons):\n",
    "    dict = {'epsilon': [], 'distance': []}\n",
    "    for epsilon in epsilons:\n",
    "        distance = calculate_avg_distance_between_datasets(epsilon)\n",
    "        dict['epsilon'].append(epsilon)\n",
    "        dict['distance'].append(distance)\n",
    "    pd.DataFrame(dict).to_csv(export_path + '/report.csv')\n"
   ]
  },
  {
   "cell_type": "code",
   "execution_count": 1661,
   "metadata": {},
   "outputs": [],
   "source": [
    "calculate_avg_distance_for_epsilons(epsilons)"
   ]
  },
  {
   "attachments": {},
   "cell_type": "markdown",
   "metadata": {},
   "source": [
    "### Plot"
   ]
  },
  {
   "cell_type": "code",
   "execution_count": 1662,
   "metadata": {},
   "outputs": [
    {
     "data": {
      "text/html": [
       "<div>\n",
       "<style scoped>\n",
       "    .dataframe tbody tr th:only-of-type {\n",
       "        vertical-align: middle;\n",
       "    }\n",
       "\n",
       "    .dataframe tbody tr th {\n",
       "        vertical-align: top;\n",
       "    }\n",
       "\n",
       "    .dataframe thead th {\n",
       "        text-align: right;\n",
       "    }\n",
       "</style>\n",
       "<table border=\"1\" class=\"dataframe\">\n",
       "  <thead>\n",
       "    <tr style=\"text-align: right;\">\n",
       "      <th></th>\n",
       "      <th>epsilon</th>\n",
       "      <th>distance</th>\n",
       "    </tr>\n",
       "  </thead>\n",
       "  <tbody>\n",
       "    <tr>\n",
       "      <th>0</th>\n",
       "      <td>0.05</td>\n",
       "      <td>3.606861</td>\n",
       "    </tr>\n",
       "    <tr>\n",
       "      <th>1</th>\n",
       "      <td>0.50</td>\n",
       "      <td>2.549153</td>\n",
       "    </tr>\n",
       "    <tr>\n",
       "      <th>2</th>\n",
       "      <td>1.00</td>\n",
       "      <td>1.756516</td>\n",
       "    </tr>\n",
       "    <tr>\n",
       "      <th>3</th>\n",
       "      <td>2.00</td>\n",
       "      <td>0.710469</td>\n",
       "    </tr>\n",
       "    <tr>\n",
       "      <th>4</th>\n",
       "      <td>3.00</td>\n",
       "      <td>0.638862</td>\n",
       "    </tr>\n",
       "  </tbody>\n",
       "</table>\n",
       "</div>"
      ],
      "text/plain": [
       "   epsilon  distance\n",
       "0     0.05  3.606861\n",
       "1     0.50  2.549153\n",
       "2     1.00  1.756516\n",
       "3     2.00  0.710469\n",
       "4     3.00  0.638862"
      ]
     },
     "execution_count": 1662,
     "metadata": {},
     "output_type": "execute_result"
    }
   ],
   "source": [
    "distances_per_epsilon = load_dataset(export_path + '/report.csv')\n",
    "distances_per_epsilon.head()"
   ]
  },
  {
   "cell_type": "code",
   "execution_count": 1663,
   "metadata": {},
   "outputs": [
    {
     "data": {
      "text/plain": [
       "<AxesSubplot:title={'center':'Average euclidean distance (privacy) of the perturbed dataset in comparison to the non-perturbed (plain) dataset'}, xlabel='Privacy budget ($\\\\epsilon$)', ylabel='Average euclidean distance'>"
      ]
     },
     "execution_count": 1663,
     "metadata": {},
     "output_type": "execute_result"
    },
    {
     "data": {
      "image/png": "[encoded data removed]",
      "text/plain": [
       "<Figure size 1000x500 with 1 Axes>"
      ]
     },
     "metadata": {},
     "output_type": "display_data"
    }
   ],
   "source": [
    "from matplotlib import pyplot as plt\n",
    "fig, ax = plt.subplots(figsize=(10, 5))\n",
    "ax.set_title('Average euclidean distance (privacy) of the perturbed dataset in comparison to the non-perturbed (plain) dataset')\n",
    "ax.set_ylabel('Average euclidean distance')\n",
    "ax.set_xlabel('Privacy budget ($\\epsilon$)')\n",
    "ax.set_xticks(epsilons, labels=epsilons)\n",
    "sns.lineplot(data=distances_per_epsilon, x='epsilon', y='distance', ax=ax, markers='True')"
   ]
  },
  {
   "attachments": {},
   "cell_type": "markdown",
   "metadata": {},
   "source": [
    "## Other"
   ]
  },
  {
   "cell_type": "code",
   "execution_count": 1664,
   "metadata": {},
   "outputs": [
    {
     "name": "stderr",
     "output_type": "stream",
     "text": [
      "Exception ignored on calling ctypes callback function: <function _ThreadpoolInfo._find_modules_with_dl_iterate_phdr.<locals>.match_module_callback at 0xffff17ed8ca0>\n",
      "Traceback (most recent call last):\n",
      "  File \"/opt/conda/lib/python3.9/site-packages/threadpoolctl.py\", line 400, in match_module_callback\n",
      "    self._make_module_from_path(filepath)\n",
      "  File \"/opt/conda/lib/python3.9/site-packages/threadpoolctl.py\", line 515, in _make_module_from_path\n",
      "    module = module_class(filepath, prefix, user_api, internal_api)\n",
      "  File \"/opt/conda/lib/python3.9/site-packages/threadpoolctl.py\", line 606, in __init__\n",
      "    self.version = self.get_version()\n",
      "  File \"/opt/conda/lib/python3.9/site-packages/threadpoolctl.py\", line 646, in get_version\n",
      "    config = get_config().split()\n",
      "AttributeError: 'NoneType' object has no attribute 'split'\n",
      "Exception ignored on calling ctypes callback function: <function _ThreadpoolInfo._find_modules_with_dl_iterate_phdr.<locals>.match_module_callback at 0xffff17ed8ca0>\n",
      "Traceback (most recent call last):\n",
      "  File \"/opt/conda/lib/python3.9/site-packages/threadpoolctl.py\", line 400, in match_module_callback\n",
      "    self._make_module_from_path(filepath)\n",
      "  File \"/opt/conda/lib/python3.9/site-packages/threadpoolctl.py\", line 515, in _make_module_from_path\n",
      "    module = module_class(filepath, prefix, user_api, internal_api)\n",
      "  File \"/opt/conda/lib/python3.9/site-packages/threadpoolctl.py\", line 606, in __init__\n",
      "    self.version = self.get_version()\n",
      "  File \"/opt/conda/lib/python3.9/site-packages/threadpoolctl.py\", line 646, in get_version\n",
      "    config = get_config().split()\n",
      "AttributeError: 'NoneType' object has no attribute 'split'\n",
      "Exception ignored on calling ctypes callback function: <function _ThreadpoolInfo._find_modules_with_dl_iterate_phdr.<locals>.match_module_callback at 0xffff17ed8ca0>\n",
      "Traceback (most recent call last):\n",
      "  File \"/opt/conda/lib/python3.9/site-packages/threadpoolctl.py\", line 400, in match_module_callback\n",
      "    self._make_module_from_path(filepath)\n",
      "  File \"/opt/conda/lib/python3.9/site-packages/threadpoolctl.py\", line 515, in _make_module_from_path\n",
      "    module = module_class(filepath, prefix, user_api, internal_api)\n",
      "  File \"/opt/conda/lib/python3.9/site-packages/threadpoolctl.py\", line 606, in __init__\n",
      "    self.version = self.get_version()\n",
      "  File \"/opt/conda/lib/python3.9/site-packages/threadpoolctl.py\", line 646, in get_version\n",
      "    config = get_config().split()\n",
      "AttributeError: 'NoneType' object has no attribute 'split'\n",
      "Exception ignored on calling ctypes callback function: <function _ThreadpoolInfo._find_modules_with_dl_iterate_phdr.<locals>.match_module_callback at 0xffff17ed8ca0>\n",
      "Traceback (most recent call last):\n",
      "  File \"/opt/conda/lib/python3.9/site-packages/threadpoolctl.py\", line 400, in match_module_callback\n",
      "    self._make_module_from_path(filepath)\n",
      "  File \"/opt/conda/lib/python3.9/site-packages/threadpoolctl.py\", line 515, in _make_module_from_path\n",
      "    module = module_class(filepath, prefix, user_api, internal_api)\n",
      "  File \"/opt/conda/lib/python3.9/site-packages/threadpoolctl.py\", line 606, in __init__\n",
      "    self.version = self.get_version()\n",
      "  File \"/opt/conda/lib/python3.9/site-packages/threadpoolctl.py\", line 646, in get_version\n",
      "    config = get_config().split()\n",
      "AttributeError: 'NoneType' object has no attribute 'split'\n",
      "Exception ignored on calling ctypes callback function: <function _ThreadpoolInfo._find_modules_with_dl_iterate_phdr.<locals>.match_module_callback at 0xffff17ed8ca0>\n",
      "Traceback (most recent call last):\n",
      "  File \"/opt/conda/lib/python3.9/site-packages/threadpoolctl.py\", line 400, in match_module_callback\n",
      "    self._make_module_from_path(filepath)\n",
      "  File \"/opt/conda/lib/python3.9/site-packages/threadpoolctl.py\", line 515, in _make_module_from_path\n",
      "    module = module_class(filepath, prefix, user_api, internal_api)\n",
      "  File \"/opt/conda/lib/python3.9/site-packages/threadpoolctl.py\", line 606, in __init__\n",
      "    self.version = self.get_version()\n",
      "  File \"/opt/conda/lib/python3.9/site-packages/threadpoolctl.py\", line 646, in get_version\n",
      "    config = get_config().split()\n",
      "AttributeError: 'NoneType' object has no attribute 'split'\n",
      "Exception ignored on calling ctypes callback function: <function _ThreadpoolInfo._find_modules_with_dl_iterate_phdr.<locals>.match_module_callback at 0xffff17ed8ca0>\n",
      "Traceback (most recent call last):\n",
      "  File \"/opt/conda/lib/python3.9/site-packages/threadpoolctl.py\", line 400, in match_module_callback\n",
      "    self._make_module_from_path(filepath)\n",
      "  File \"/opt/conda/lib/python3.9/site-packages/threadpoolctl.py\", line 515, in _make_module_from_path\n",
      "    module = module_class(filepath, prefix, user_api, internal_api)\n",
      "  File \"/opt/conda/lib/python3.9/site-packages/threadpoolctl.py\", line 606, in __init__\n",
      "    self.version = self.get_version()\n",
      "  File \"/opt/conda/lib/python3.9/site-packages/threadpoolctl.py\", line 646, in get_version\n",
      "    config = get_config().split()\n",
      "AttributeError: 'NoneType' object has no attribute 'split'\n",
      "Exception ignored on calling ctypes callback function: <function _ThreadpoolInfo._find_modules_with_dl_iterate_phdr.<locals>.match_module_callback at 0xffff17ed8ca0>\n",
      "Traceback (most recent call last):\n",
      "  File \"/opt/conda/lib/python3.9/site-packages/threadpoolctl.py\", line 400, in match_module_callback\n",
      "    self._make_module_from_path(filepath)\n",
      "  File \"/opt/conda/lib/python3.9/site-packages/threadpoolctl.py\", line 515, in _make_module_from_path\n",
      "    module = module_class(filepath, prefix, user_api, internal_api)\n",
      "  File \"/opt/conda/lib/python3.9/site-packages/threadpoolctl.py\", line 606, in __init__\n",
      "    self.version = self.get_version()\n",
      "  File \"/opt/conda/lib/python3.9/site-packages/threadpoolctl.py\", line 646, in get_version\n",
      "    config = get_config().split()\n",
      "AttributeError: 'NoneType' object has no attribute 'split'\n",
      "Exception ignored on calling ctypes callback function: <function _ThreadpoolInfo._find_modules_with_dl_iterate_phdr.<locals>.match_module_callback at 0xffff17ed8ca0>\n",
      "Traceback (most recent call last):\n",
      "  File \"/opt/conda/lib/python3.9/site-packages/threadpoolctl.py\", line 400, in match_module_callback\n",
      "    self._make_module_from_path(filepath)\n",
      "  File \"/opt/conda/lib/python3.9/site-packages/threadpoolctl.py\", line 515, in _make_module_from_path\n",
      "    module = module_class(filepath, prefix, user_api, internal_api)\n",
      "  File \"/opt/conda/lib/python3.9/site-packages/threadpoolctl.py\", line 606, in __init__\n",
      "    self.version = self.get_version()\n",
      "  File \"/opt/conda/lib/python3.9/site-packages/threadpoolctl.py\", line 646, in get_version\n",
      "    config = get_config().split()\n",
      "AttributeError: 'NoneType' object has no attribute 'split'\n",
      "Exception ignored on calling ctypes callback function: <function _ThreadpoolInfo._find_modules_with_dl_iterate_phdr.<locals>.match_module_callback at 0xffff17ed8ca0>\n",
      "Traceback (most recent call last):\n",
      "  File \"/opt/conda/lib/python3.9/site-packages/threadpoolctl.py\", line 400, in match_module_callback\n",
      "    self._make_module_from_path(filepath)\n",
      "  File \"/opt/conda/lib/python3.9/site-packages/threadpoolctl.py\", line 515, in _make_module_from_path\n",
      "    module = module_class(filepath, prefix, user_api, internal_api)\n",
      "  File \"/opt/conda/lib/python3.9/site-packages/threadpoolctl.py\", line 606, in __init__\n",
      "    self.version = self.get_version()\n",
      "  File \"/opt/conda/lib/python3.9/site-packages/threadpoolctl.py\", line 646, in get_version\n",
      "    config = get_config().split()\n",
      "AttributeError: 'NoneType' object has no attribute 'split'\n",
      "Exception ignored on calling ctypes callback function: <function _ThreadpoolInfo._find_modules_with_dl_iterate_phdr.<locals>.match_module_callback at 0xffff17ed8ca0>\n",
      "Traceback (most recent call last):\n",
      "  File \"/opt/conda/lib/python3.9/site-packages/threadpoolctl.py\", line 400, in match_module_callback\n",
      "    self._make_module_from_path(filepath)\n",
      "  File \"/opt/conda/lib/python3.9/site-packages/threadpoolctl.py\", line 515, in _make_module_from_path\n",
      "    module = module_class(filepath, prefix, user_api, internal_api)\n",
      "  File \"/opt/conda/lib/python3.9/site-packages/threadpoolctl.py\", line 606, in __init__\n",
      "    self.version = self.get_version()\n",
      "  File \"/opt/conda/lib/python3.9/site-packages/threadpoolctl.py\", line 646, in get_version\n",
      "    config = get_config().split()\n",
      "AttributeError: 'NoneType' object has no attribute 'split'\n",
      "Exception ignored on calling ctypes callback function: <function _ThreadpoolInfo._find_modules_with_dl_iterate_phdr.<locals>.match_module_callback at 0xffff17ed8ca0>\n",
      "Traceback (most recent call last):\n",
      "  File \"/opt/conda/lib/python3.9/site-packages/threadpoolctl.py\", line 400, in match_module_callback\n",
      "    self._make_module_from_path(filepath)\n",
      "  File \"/opt/conda/lib/python3.9/site-packages/threadpoolctl.py\", line 515, in _make_module_from_path\n",
      "    module = module_class(filepath, prefix, user_api, internal_api)\n",
      "  File \"/opt/conda/lib/python3.9/site-packages/threadpoolctl.py\", line 606, in __init__\n",
      "    self.version = self.get_version()\n",
      "  File \"/opt/conda/lib/python3.9/site-packages/threadpoolctl.py\", line 646, in get_version\n",
      "    config = get_config().split()\n",
      "AttributeError: 'NoneType' object has no attribute 'split'\n"
     ]
    }
   ],
   "source": [
    "from sklearn.cluster import KMeans\n",
    "from sklearn.datasets import make_blobs\n",
    "from Helpers import twod_laplace\n",
    "X, y_true = make_blobs(n_samples=1000, centers=4, n_features=2,\n",
    "                       cluster_std=0.60, random_state=0)\n",
    "\n",
    "_, _, Z = twod_laplace.generate_truncated_laplace_noise(X, 0.5)\n",
    "Z_pd = pd.DataFrame(Z, columns=['X', 'Y'])\n",
    "X_pd = pd.DataFrame(X, columns=['X', 'Y'])\n",
    "create_labels = KMeans(init='random', n_clusters=4)\n",
    "create_labels.fit(X_pd)\n",
    "Z_pd['target'] = create_labels.labels_\n",
    "X_pd['target'] = create_labels.labels_"
   ]
  },
  {
   "cell_type": "code",
   "execution_count": 1665,
   "metadata": {},
   "outputs": [],
   "source": [
    "## train classifier\n",
    "from sklearn.model_selection import train_test_split\n",
    "from sklearn.ensemble import RandomForestClassifier\n",
    "\n",
    "def train_model(X_train, y_train):\n",
    "    clf = RandomForestClassifier()\n",
    "    clf.fit(X_train, y_train)\n",
    "    # test data for attack model\n",
    "\n",
    "    return clf"
   ]
  },
  {
   "cell_type": "code",
   "execution_count": 1666,
   "metadata": {},
   "outputs": [
    {
     "name": "stdout",
     "output_type": "stream",
     "text": [
      "(250, 2) (750, 2)\n"
     ]
    }
   ],
   "source": [
    "train_ratio = 0.25\n",
    "shadow_ratio = 0.75\n",
    "dataset = train_test_split(Z_pd.iloc[:, 0:2], Z_pd['target'], test_size=shadow_ratio)\n",
    "\n",
    "# train is now 75% of the entire data set\n",
    "x_target, x_shadow, y_target, y_shadow = dataset\n",
    "# test is now 10% of the initial data set\n",
    "# validation is now 15% of the initial data set\n",
    "target_train_size = len(x_target) // 2\n",
    "x_target_train = x_target[:target_train_size]\n",
    "y_target_train = y_target[:target_train_size]\n",
    "x_target_test = x_target[target_train_size:]\n",
    "y_target_test = y_target[target_train_size:]\n",
    "\n",
    "print(x_target.shape, x_shadow.shape)"
   ]
  },
  {
   "cell_type": "code",
   "execution_count": 1667,
   "metadata": {},
   "outputs": [],
   "source": [
    "# dataset = train_test_split(X, Y, test_size=0.50)\n",
    "classifier = train_model(x_target_train, y_target_train)"
   ]
  },
  {
   "cell_type": "code",
   "execution_count": 1668,
   "metadata": {},
   "outputs": [
    {
     "name": "stdout",
     "output_type": "stream",
     "text": [
      "Base model accuracy: 0.496\n"
     ]
    },
    {
     "name": "stderr",
     "output_type": "stream",
     "text": [
      "/opt/conda/lib/python3.9/site-packages/sklearn/utils/deprecation.py:103: FutureWarning: Attribute `n_features_` was deprecated in version 1.0 and will be removed in 1.2. Use `n_features_in_` instead.\n",
      "  warnings.warn(msg, category=FutureWarning)\n"
     ]
    }
   ],
   "source": [
    "#shokri_mi_outputs = shokri_membership_inference(args, pred_y, membership, classes)\n",
    "from art.estimators.classification.scikitlearn import ScikitlearnRandomForestClassifier\n",
    "\n",
    "art_classifier = ScikitlearnRandomForestClassifier(classifier)\n",
    "print('Base model accuracy:', classifier.score(x_target_test, y_target_test))\n"
   ]
  },
  {
   "cell_type": "code",
   "execution_count": 1669,
   "metadata": {},
   "outputs": [],
   "source": [
    "x_shadow_np = X_pd.iloc[x_shadow.index, 0:2].to_numpy()\n",
    "y_shadow_np = X_pd.iloc[x_shadow.index, 2].to_numpy()"
   ]
  },
  {
   "cell_type": "code",
   "execution_count": 1670,
   "metadata": {},
   "outputs": [
    {
     "name": "stderr",
     "output_type": "stream",
     "text": [
      "/opt/conda/lib/python3.9/site-packages/sklearn/utils/deprecation.py:103: FutureWarning: Attribute `n_features_` was deprecated in version 1.0 and will be removed in 1.2. Use `n_features_in_` instead.\n",
      "  warnings.warn(msg, category=FutureWarning)\n",
      "/opt/conda/lib/python3.9/site-packages/sklearn/utils/deprecation.py:103: FutureWarning: Attribute `n_features_` was deprecated in version 1.0 and will be removed in 1.2. Use `n_features_in_` instead.\n",
      "  warnings.warn(msg, category=FutureWarning)\n",
      "/opt/conda/lib/python3.9/site-packages/sklearn/utils/deprecation.py:103: FutureWarning: Attribute `n_features_` was deprecated in version 1.0 and will be removed in 1.2. Use `n_features_in_` instead.\n",
      "  warnings.warn(msg, category=FutureWarning)\n",
      "/opt/conda/lib/python3.9/site-packages/sklearn/utils/deprecation.py:103: FutureWarning: Attribute `n_features_` was deprecated in version 1.0 and will be removed in 1.2. Use `n_features_in_` instead.\n",
      "  warnings.warn(msg, category=FutureWarning)\n"
     ]
    }
   ],
   "source": [
    "from art.utils import to_categorical\n",
    "from art.attacks.inference.membership_inference import ShadowModels\n",
    "\n",
    "shadow_models = ShadowModels(art_classifier, num_shadow_models=3)\n",
    "shadow_dataset = shadow_models.generate_shadow_dataset(x_shadow_np, to_categorical(y_shadow_np, 4))\n"
   ]
  },
  {
   "cell_type": "code",
   "execution_count": 1671,
   "metadata": {},
   "outputs": [
    {
     "name": "stdout",
     "output_type": "stream",
     "text": [
      "[0.568, 0.552, 0.576]\n"
     ]
    },
    {
     "name": "stderr",
     "output_type": "stream",
     "text": [
      "/opt/conda/lib/python3.9/site-packages/sklearn/base.py:443: UserWarning: X has feature names, but RandomForestClassifier was fitted without feature names\n",
      "  warnings.warn(\n",
      "/opt/conda/lib/python3.9/site-packages/sklearn/base.py:443: UserWarning: X has feature names, but RandomForestClassifier was fitted without feature names\n",
      "  warnings.warn(\n",
      "/opt/conda/lib/python3.9/site-packages/sklearn/base.py:443: UserWarning: X has feature names, but RandomForestClassifier was fitted without feature names\n",
      "  warnings.warn(\n"
     ]
    }
   ],
   "source": [
    "(member_x, member_y, member_predictions), (nonmember_x, nonmember_y, nonmember_predictions) = shadow_dataset\n",
    "print([sm.model.score(x_target_test, y_target_test) for sm in shadow_models.get_shadow_models()])"
   ]
  },
  {
   "cell_type": "code",
   "execution_count": 1672,
   "metadata": {},
   "outputs": [],
   "source": [
    "from art.attacks.inference.membership_inference import MembershipInferenceBlackBox\n",
    "\n",
    "attack = MembershipInferenceBlackBox(art_classifier, attack_model_type=\"rf\")\n",
    "attack.fit(member_x, member_y, nonmember_x, nonmember_y, member_predictions, nonmember_predictions)"
   ]
  },
  {
   "cell_type": "code",
   "execution_count": 1673,
   "metadata": {},
   "outputs": [
    {
     "name": "stdout",
     "output_type": "stream",
     "text": [
      "Attack Member Acc: 0.128\n",
      "Attack Non-Member Acc: 0.912\n",
      "Attack Accuracy: 0.52\n"
     ]
    },
    {
     "name": "stderr",
     "output_type": "stream",
     "text": [
      "/opt/conda/lib/python3.9/site-packages/sklearn/base.py:450: UserWarning: X does not have valid feature names, but RandomForestClassifier was fitted with feature names\n",
      "  warnings.warn(\n",
      "/opt/conda/lib/python3.9/site-packages/sklearn/base.py:450: UserWarning: X does not have valid feature names, but RandomForestClassifier was fitted with feature names\n",
      "  warnings.warn(\n"
     ]
    }
   ],
   "source": [
    "member_infer = attack.infer(x_target_train, y_target_train)\n",
    "nonmember_infer = attack.infer(x_target_test, y_target_test)\n",
    "member_acc = np.sum(member_infer) / len(x_target_train)\n",
    "nonmember_acc = 1 - np.sum(nonmember_infer) / len(x_target_test)\n",
    "acc = (member_acc * len(x_target_train) + nonmember_acc * len(x_target_test)) / (len(x_target_train) + len(x_target_test))\n",
    "print('Attack Member Acc:', member_acc)\n",
    "print('Attack Non-Member Acc:', nonmember_acc)\n",
    "print('Attack Accuracy:', acc)"
   ]
  },
  {
   "cell_type": "code",
   "execution_count": 1674,
   "metadata": {},
   "outputs": [],
   "source": [
    "def calc_precision_recall(predicted, actual, positive_value=1):\n",
    "    score = 0  # both predicted and actual are positive\n",
    "    num_positive_predicted = 0  # predicted positive\n",
    "    num_positive_actual = 0  # actual positive\n",
    "    for i in range(len(predicted)):\n",
    "        if predicted[i] == positive_value:\n",
    "            num_positive_predicted += 1\n",
    "        if actual[i] == positive_value:\n",
    "            num_positive_actual += 1\n",
    "        if predicted[i] == actual[i]:\n",
    "            if predicted[i] == positive_value:\n",
    "                score += 1\n",
    "    \n",
    "    if num_positive_predicted == 0:\n",
    "        precision = 1\n",
    "    else:\n",
    "        precision = score / num_positive_predicted  # the fraction of predicted “Yes” responses that are correct\n",
    "    if num_positive_actual == 0:\n",
    "        recall = 1\n",
    "    else:\n",
    "        recall = score / num_positive_actual  # the fraction of “Yes” responses that are predicted correctly\n",
    "\n",
    "    return precision, recall"
   ]
  },
  {
   "cell_type": "code",
   "execution_count": 1675,
   "metadata": {},
   "outputs": [
    {
     "name": "stdout",
     "output_type": "stream",
     "text": [
      "(0.5925925925925926, 0.128)\n"
     ]
    }
   ],
   "source": [
    "print(calc_precision_recall(np.concatenate((member_infer, nonmember_infer)), \n",
    "                            np.concatenate((np.ones(len(member_infer)), np.zeros(len(nonmember_infer))))))"
   ]
  },
  {
   "cell_type": "code",
   "execution_count": 1676,
   "metadata": {},
   "outputs": [],
   "source": [
    "predicted_y = np.concatenate((member_infer, nonmember_infer))\n",
    "actual_y = np.concatenate((np.ones(len(member_infer)), np.zeros(len(nonmember_infer))))"
   ]
  },
  {
   "cell_type": "code",
   "execution_count": 1677,
   "metadata": {},
   "outputs": [],
   "source": [
    "from sklearn.metrics import roc_curve\n",
    "\n",
    "\n",
    "fpr, tpr, thresholds = roc_curve(actual_y, predicted_y, pos_label=1)\n"
   ]
  },
  {
   "cell_type": "code",
   "execution_count": 1678,
   "metadata": {},
   "outputs": [
    {
     "name": "stdout",
     "output_type": "stream",
     "text": [
      "0.128 0.088\n"
     ]
    }
   ],
   "source": [
    "print(tpr[1], fpr[1])"
   ]
  },
  {
   "cell_type": "code",
   "execution_count": 1679,
   "metadata": {},
   "outputs": [
    {
     "data": {
      "text/plain": [
       "0.04000000000000001"
      ]
     },
     "execution_count": 1679,
     "metadata": {},
     "output_type": "execute_result"
    }
   ],
   "source": [
    "attack_adv = tpr[1] - fpr[1]\n",
    "attack_adv"
   ]
  },
  {
   "cell_type": "code",
   "execution_count": 1680,
   "metadata": {},
   "outputs": [
    {
     "data": {
      "text/plain": [
       "Text(0, 0.5, 'Privacy Leakage')"
      ]
     },
     "execution_count": 1680,
     "metadata": {},
     "output_type": "execute_result"
    },
    {
     "data": {
      "image/png": "[encoded data removed]",
      "text/plain": [
       "<Figure size 640x480 with 1 Axes>"
      ]
     },
     "metadata": {},
     "output_type": "display_data"
    }
   ],
   "source": [
    "def theoretical_limit(epsilons):\n",
    "\treturn [np.exp(eps) - 1 for eps in epsilons]\n",
    "\n",
    "def pretty_position(X, Y, pos):\n",
    "\treturn ((X[pos] + X[pos+1]) / 2, (Y[pos] + Y[pos+1]) / 2)\n",
    "\n",
    "\n",
    "\n",
    "bottom, top = plt.ylim()\n",
    "plt.errorbar(epsilons, theoretical_limit(epsilons), color='black', fmt='--', capsize=2, label='Theoretical Limit')\n",
    "plt.errorbar(epsilons, [attack_adv, attack_adv,attack_adv,attack_adv,attack_adv, attack_adv], yerr=0.1, fmt='.-', capsize=2)\n",
    "plt.ylim(bottom, 0.25)\n",
    "plt.annotate(\"$\\epsilon$-DP Bound\", pretty_position(epsilons, theoretical_limit(epsilons), 4), textcoords=\"offset points\", xytext=(5,0), ha='left')\n",
    "plt.yticks(np.arange(0, 0.26, step=0.05))\n",
    "plt.ylabel('Privacy Leakage')"
   ]
  },
  {
   "cell_type": "code",
   "execution_count": 1681,
   "metadata": {},
   "outputs": [
    {
     "name": "stderr",
     "output_type": "stream",
     "text": [
      "/opt/conda/lib/python3.9/site-packages/sklearn/base.py:450: UserWarning: X does not have valid feature names, but RandomForestClassifier was fitted with feature names\n",
      "  warnings.warn(\n",
      "/opt/conda/lib/python3.9/site-packages/sklearn/base.py:450: UserWarning: X does not have valid feature names, but RandomForestClassifier was fitted with feature names\n",
      "  warnings.warn(\n"
     ]
    }
   ],
   "source": [
    "import os\n",
    "import sys\n",
    "sys.path.insert(0, os.path.abspath('..'))\n",
    "\n",
    "import numpy as np\n",
    "\n",
    "from art.utils import load_nursery\n",
    "X, y_true = make_blobs(n_samples=1000, centers=4, n_features=2,\n",
    "                       cluster_std=0.60, random_state=0)\n",
    "\n",
    "_, _, Z = twod_laplace.generate_truncated_laplace_noise(X, 0.02)\n",
    "Z_pd = pd.DataFrame(Z, columns=['X', 'Y'])\n",
    "\n",
    "dataset = train_test_split(Z_pd, y_true, test_size=0.5)\n",
    "\n",
    "attack_train_ratio = 0.5\n",
    "# train is now 75% of the entire data set\n",
    "x_train, x_test, y_train, y_test = dataset\n",
    "\n",
    "attack_train_size = int(len(x_train) * attack_train_ratio)\n",
    "attack_test_size = int(len(x_test) * attack_train_ratio)\n",
    "\n",
    "bb_attack = MembershipInferenceBlackBox(art_classifier,attack_model_type=\"rf\")\n",
    "\n",
    "# train attack model\n",
    "bb_attack.fit(x_train[:attack_train_size], y_train[:attack_train_size],\n",
    "              x_test[:attack_test_size], y_test[:attack_test_size])"
   ]
  },
  {
   "cell_type": "code",
   "execution_count": 1682,
   "metadata": {},
   "outputs": [
    {
     "name": "stdout",
     "output_type": "stream",
     "text": [
      "Members Accuracy: 0.5040\n",
      "Non Members Accuracy 0.5400\n",
      "Attack Accuracy 0.5220\n"
     ]
    },
    {
     "name": "stderr",
     "output_type": "stream",
     "text": [
      "/opt/conda/lib/python3.9/site-packages/sklearn/base.py:450: UserWarning: X does not have valid feature names, but RandomForestClassifier was fitted with feature names\n",
      "  warnings.warn(\n",
      "/opt/conda/lib/python3.9/site-packages/sklearn/base.py:450: UserWarning: X does not have valid feature names, but RandomForestClassifier was fitted with feature names\n",
      "  warnings.warn(\n"
     ]
    }
   ],
   "source": [
    "# get inferred values\n",
    "inferred_train_bb = bb_attack.infer(x_train[attack_train_size:], y_train[attack_train_size:])\n",
    "inferred_test_bb = bb_attack.infer(x_test[attack_test_size:], y_test[attack_test_size:])\n",
    "# check accuracy\n",
    "train_acc = np.sum(inferred_train_bb) / len(inferred_train_bb)\n",
    "test_acc = 1 - (np.sum(inferred_test_bb) / len(inferred_test_bb))\n",
    "acc = (train_acc * len(inferred_train_bb) + test_acc * len(inferred_test_bb)) / (len(inferred_train_bb) + len(inferred_test_bb))\n",
    "print(f\"Members Accuracy: {train_acc:.4f}\")\n",
    "print(f\"Non Members Accuracy {test_acc:.4f}\")\n",
    "print(f\"Attack Accuracy {acc:.4f}\")"
   ]
  },
  {
   "cell_type": "code",
   "execution_count": 1683,
   "metadata": {},
   "outputs": [
    {
     "name": "stdout",
     "output_type": "stream",
     "text": [
      "(0.5228215767634855, 0.504)\n"
     ]
    }
   ],
   "source": [
    "# black-box\n",
    "y_pred = np.concatenate((inferred_train_bb, inferred_test_bb))\n",
    "y_actual = np.concatenate((np.ones(len(inferred_train_bb)), np.zeros(len(inferred_test_bb))))\n",
    "print(calc_precision_recall(y_pred, y_actual))"
   ]
  },
  {
   "cell_type": "code",
   "execution_count": 1684,
   "metadata": {},
   "outputs": [],
   "source": [
    "tpr, fpr, _ = roc_curve(y_actual, y_pred, pos_label=1)"
   ]
  },
  {
   "cell_type": "code",
   "execution_count": 1685,
   "metadata": {},
   "outputs": [
    {
     "data": {
      "text/plain": [
       "-0.043999999999999984"
      ]
     },
     "execution_count": 1685,
     "metadata": {},
     "output_type": "execute_result"
    }
   ],
   "source": [
    "tpr[1] - fpr[1]"
   ]
  },
  {
   "cell_type": "code",
   "execution_count": null,
   "metadata": {},
   "outputs": [],
   "source": []
  },
  {
   "cell_type": "code",
   "execution_count": 1686,
   "metadata": {},
   "outputs": [
    {
     "name": "stdout",
     "output_type": "stream",
     "text": [
      "rndf\n",
      "no_privacy\n",
      "Start Training model\n"
     ]
    },
    {
     "ename": "ValueError",
     "evalue": "Unknown label type: 'continuous-multioutput'",
     "output_type": "error",
     "traceback": [
      "\u001b[0;31m---------------------------------------------------------------------------\u001b[0m",
      "\u001b[0;31mValueError\u001b[0m                                Traceback (most recent call last)",
      "\u001b[0;32m/tmp/ipykernel_65485/2651005239.py\u001b[0m in \u001b[0;36m<module>\u001b[0;34m\u001b[0m\n\u001b[1;32m    188\u001b[0m     \u001b[0;32mreturn\u001b[0m \u001b[0mattack_x\u001b[0m\u001b[0;34m,\u001b[0m \u001b[0mattack_y\u001b[0m\u001b[0;34m,\u001b[0m \u001b[0mclasses\u001b[0m\u001b[0;34m,\u001b[0m \u001b[0mtrain_loss\u001b[0m\u001b[0;34m,\u001b[0m \u001b[0mclassifier\u001b[0m\u001b[0;34m,\u001b[0m \u001b[0mtrain_acc\u001b[0m\u001b[0;34m,\u001b[0m \u001b[0mtest_acc\u001b[0m\u001b[0;34m\u001b[0m\u001b[0;34m\u001b[0m\u001b[0m\n\u001b[1;32m    189\u001b[0m \u001b[0;34m\u001b[0m\u001b[0m\n\u001b[0;32m--> 190\u001b[0;31m pred_y, membership, test_classes, train_loss, classifier, train_acc, test_acc = train_classic_target_model(\n\u001b[0m\u001b[1;32m    191\u001b[0m             \u001b[0mdataset\u001b[0m\u001b[0;34m=\u001b[0m\u001b[0mdataset\u001b[0m\u001b[0;34m,\u001b[0m\u001b[0;34m\u001b[0m\u001b[0;34m\u001b[0m\u001b[0m\n\u001b[1;32m    192\u001b[0m             model='rndf')\n",
      "\u001b[0;32m/tmp/ipykernel_65485/2651005239.py\u001b[0m in \u001b[0;36mtrain_classic_target_model\u001b[0;34m(dataset, l2_ratio, model, save, privacy, preprocess, dp, epsilon, delta, resource_tracker)\u001b[0m\n\u001b[1;32m    152\u001b[0m     \u001b[0mtrain_x\u001b[0m\u001b[0;34m,\u001b[0m \u001b[0mtrain_y\u001b[0m\u001b[0;34m,\u001b[0m \u001b[0mtest_x\u001b[0m\u001b[0;34m,\u001b[0m \u001b[0mtest_y\u001b[0m \u001b[0;34m=\u001b[0m \u001b[0mdataset\u001b[0m\u001b[0;34m\u001b[0m\u001b[0;34m\u001b[0m\u001b[0m\n\u001b[1;32m    153\u001b[0m     \u001b[0mn_classes\u001b[0m \u001b[0;34m=\u001b[0m \u001b[0;36m4\u001b[0m\u001b[0;34m\u001b[0m\u001b[0;34m\u001b[0m\u001b[0m\n\u001b[0;32m--> 154\u001b[0;31m     a = train_classic(dataset, model=model, silent=False,\n\u001b[0m\u001b[1;32m    155\u001b[0m                             \u001b[0mprivacy\u001b[0m\u001b[0;34m=\u001b[0m\u001b[0mprivacy\u001b[0m\u001b[0;34m,\u001b[0m \u001b[0mpreprocess\u001b[0m\u001b[0;34m=\u001b[0m\u001b[0mpreprocess\u001b[0m\u001b[0;34m,\u001b[0m \u001b[0mdp\u001b[0m\u001b[0;34m=\u001b[0m\u001b[0mdp\u001b[0m\u001b[0;34m,\u001b[0m \u001b[0mepsilon\u001b[0m\u001b[0;34m=\u001b[0m\u001b[0mepsilon\u001b[0m\u001b[0;34m,\u001b[0m \u001b[0mdelta\u001b[0m\u001b[0;34m=\u001b[0m\u001b[0mdelta\u001b[0m\u001b[0;34m,\u001b[0m\u001b[0;34m\u001b[0m\u001b[0;34m\u001b[0m\u001b[0m\n\u001b[1;32m    156\u001b[0m                             resource_tracker=resource_tracker)\n",
      "\u001b[0;32m/tmp/ipykernel_65485/2651005239.py\u001b[0m in \u001b[0;36mtrain_classic\u001b[0;34m(dataset, model, silent, privacy, preprocess, dp, epsilon, delta, resource_tracker)\u001b[0m\n\u001b[1;32m     55\u001b[0m             \u001b[0mresource_tracker\u001b[0m\u001b[0;34m.\u001b[0m\u001b[0mcreate_checkpoint\u001b[0m\u001b[0;34m(\u001b[0m\u001b[0;34m'start_training'\u001b[0m\u001b[0;34m)\u001b[0m\u001b[0;34m\u001b[0m\u001b[0;34m\u001b[0m\u001b[0m\n\u001b[1;32m     56\u001b[0m         \u001b[0;31m##\u001b[0m\u001b[0;34m\u001b[0m\u001b[0;34m\u001b[0m\u001b[0m\n\u001b[0;32m---> 57\u001b[0;31m         \u001b[0mclassifier\u001b[0m\u001b[0;34m.\u001b[0m\u001b[0mfit\u001b[0m\u001b[0;34m(\u001b[0m\u001b[0mtrain_x\u001b[0m\u001b[0;34m,\u001b[0m \u001b[0mtrain_y\u001b[0m\u001b[0;34m)\u001b[0m\u001b[0;34m\u001b[0m\u001b[0;34m\u001b[0m\u001b[0m\n\u001b[0m\u001b[1;32m     58\u001b[0m         \u001b[0;31m##\u001b[0m\u001b[0;34m\u001b[0m\u001b[0;34m\u001b[0m\u001b[0m\n\u001b[1;32m     59\u001b[0m         \u001b[0;32mif\u001b[0m \u001b[0mresource_tracker\u001b[0m \u001b[0;32mis\u001b[0m \u001b[0;32mnot\u001b[0m \u001b[0;32mNone\u001b[0m\u001b[0;34m:\u001b[0m\u001b[0;34m\u001b[0m\u001b[0;34m\u001b[0m\u001b[0m\n",
      "\u001b[0;32m/opt/conda/lib/python3.9/site-packages/sklearn/ensemble/_forest.py\u001b[0m in \u001b[0;36mfit\u001b[0;34m(self, X, y, sample_weight)\u001b[0m\n\u001b[1;32m    369\u001b[0m         \u001b[0mself\u001b[0m\u001b[0;34m.\u001b[0m\u001b[0mn_outputs_\u001b[0m \u001b[0;34m=\u001b[0m \u001b[0my\u001b[0m\u001b[0;34m.\u001b[0m\u001b[0mshape\u001b[0m\u001b[0;34m[\u001b[0m\u001b[0;36m1\u001b[0m\u001b[0;34m]\u001b[0m\u001b[0;34m\u001b[0m\u001b[0;34m\u001b[0m\u001b[0m\n\u001b[1;32m    370\u001b[0m \u001b[0;34m\u001b[0m\u001b[0m\n\u001b[0;32m--> 371\u001b[0;31m         \u001b[0my\u001b[0m\u001b[0;34m,\u001b[0m \u001b[0mexpanded_class_weight\u001b[0m \u001b[0;34m=\u001b[0m \u001b[0mself\u001b[0m\u001b[0;34m.\u001b[0m\u001b[0m_validate_y_class_weight\u001b[0m\u001b[0;34m(\u001b[0m\u001b[0my\u001b[0m\u001b[0;34m)\u001b[0m\u001b[0;34m\u001b[0m\u001b[0;34m\u001b[0m\u001b[0m\n\u001b[0m\u001b[1;32m    372\u001b[0m \u001b[0;34m\u001b[0m\u001b[0m\n\u001b[1;32m    373\u001b[0m         \u001b[0;32mif\u001b[0m \u001b[0mgetattr\u001b[0m\u001b[0;34m(\u001b[0m\u001b[0my\u001b[0m\u001b[0;34m,\u001b[0m \u001b[0;34m\"dtype\"\u001b[0m\u001b[0;34m,\u001b[0m \u001b[0;32mNone\u001b[0m\u001b[0;34m)\u001b[0m \u001b[0;34m!=\u001b[0m \u001b[0mDOUBLE\u001b[0m \u001b[0;32mor\u001b[0m \u001b[0;32mnot\u001b[0m \u001b[0my\u001b[0m\u001b[0;34m.\u001b[0m\u001b[0mflags\u001b[0m\u001b[0;34m.\u001b[0m\u001b[0mcontiguous\u001b[0m\u001b[0;34m:\u001b[0m\u001b[0;34m\u001b[0m\u001b[0;34m\u001b[0m\u001b[0m\n",
      "\u001b[0;32m/opt/conda/lib/python3.9/site-packages/sklearn/ensemble/_forest.py\u001b[0m in \u001b[0;36m_validate_y_class_weight\u001b[0;34m(self, y)\u001b[0m\n\u001b[1;32m    756\u001b[0m \u001b[0;34m\u001b[0m\u001b[0m\n\u001b[1;32m    757\u001b[0m     \u001b[0;32mdef\u001b[0m \u001b[0m_validate_y_class_weight\u001b[0m\u001b[0;34m(\u001b[0m\u001b[0mself\u001b[0m\u001b[0;34m,\u001b[0m \u001b[0my\u001b[0m\u001b[0;34m)\u001b[0m\u001b[0;34m:\u001b[0m\u001b[0;34m\u001b[0m\u001b[0;34m\u001b[0m\u001b[0m\n\u001b[0;32m--> 758\u001b[0;31m         \u001b[0mcheck_classification_targets\u001b[0m\u001b[0;34m(\u001b[0m\u001b[0my\u001b[0m\u001b[0;34m)\u001b[0m\u001b[0;34m\u001b[0m\u001b[0;34m\u001b[0m\u001b[0m\n\u001b[0m\u001b[1;32m    759\u001b[0m \u001b[0;34m\u001b[0m\u001b[0m\n\u001b[1;32m    760\u001b[0m         \u001b[0my\u001b[0m \u001b[0;34m=\u001b[0m \u001b[0mnp\u001b[0m\u001b[0;34m.\u001b[0m\u001b[0mcopy\u001b[0m\u001b[0;34m(\u001b[0m\u001b[0my\u001b[0m\u001b[0;34m)\u001b[0m\u001b[0;34m\u001b[0m\u001b[0;34m\u001b[0m\u001b[0m\n",
      "\u001b[0;32m/opt/conda/lib/python3.9/site-packages/sklearn/utils/multiclass.py\u001b[0m in \u001b[0;36mcheck_classification_targets\u001b[0;34m(y)\u001b[0m\n\u001b[1;32m    198\u001b[0m         \u001b[0;34m\"multilabel-sequences\"\u001b[0m\u001b[0;34m,\u001b[0m\u001b[0;34m\u001b[0m\u001b[0;34m\u001b[0m\u001b[0m\n\u001b[1;32m    199\u001b[0m     ]:\n\u001b[0;32m--> 200\u001b[0;31m         \u001b[0;32mraise\u001b[0m \u001b[0mValueError\u001b[0m\u001b[0;34m(\u001b[0m\u001b[0;34m\"Unknown label type: %r\"\u001b[0m \u001b[0;34m%\u001b[0m \u001b[0my_type\u001b[0m\u001b[0;34m)\u001b[0m\u001b[0;34m\u001b[0m\u001b[0;34m\u001b[0m\u001b[0m\n\u001b[0m\u001b[1;32m    201\u001b[0m \u001b[0;34m\u001b[0m\u001b[0m\n\u001b[1;32m    202\u001b[0m \u001b[0;34m\u001b[0m\u001b[0m\n",
      "\u001b[0;31mValueError\u001b[0m: Unknown label type: 'continuous-multioutput'"
     ]
    }
   ],
   "source": [
    "import warnings\n",
    "from sklearn.metrics import accuracy_score, log_loss\n",
    "\n",
    "from sklearn.naive_bayes import GaussianNB\n",
    "\n",
    "    \n",
    "def train_classic(dataset, model, silent=True, privacy='no_privacy', preprocess=None, dp='dp', epsilon=0.5, delta=1e-5, resource_tracker=None):\n",
    "\n",
    "    train_x, train_y, test_x, test_y = dataset\n",
    "    n_out = 4\n",
    "    n_in = train_x.shape[1]\n",
    "\n",
    "    permissible_models = {\n",
    "        'rndf': RandomForestClassifier,\n",
    "        'nb': GaussianNB,\n",
    "    }\n",
    "    \n",
    "    model_params = {\n",
    "        'rndf': {'n_estimators': 100, 'max_depth': 15},\n",
    "        'nb': {'var_smoothing': 1e-9},\n",
    "        'lr': {'solver':'lbfgs', 'multi_class':'ovr', 'penalty':'l2', 'max_iter':1000, 'n_jobs':-1},\n",
    "        'dp-rndf': {'epsilon': epsilon,\n",
    "                    'n_labels': len(set(train_y)),\n",
    "                    'num_trees': 100,\n",
    "                    'MULTI_THREAD': True,\n",
    "                    'pool_size': 20},\n",
    "    }\n",
    "    \n",
    "    # Check that our input data is valid\n",
    "    #assert (np.isfinite(train_x).all())\n",
    "    #assert (np.isfinite(test_x).all())\n",
    "    \n",
    "    print(model)\n",
    "    print(privacy)\n",
    "    \n",
    "    if (model == 'ibmNB') and (privacy == 'no_privacy'):\n",
    "        print('Substituting regular NB for no-privacy IBM-NB')\n",
    "        classifier = permissible_models['nb'](**model_params['nb'])\n",
    "    elif (model == 'ibmLR') and (privacy == 'no_privacy'):\n",
    "        print('Substituting regular LR for no-privacy IBM-LR')\n",
    "        classifier =  permissible_models['lr'](**model_params['lr'])\n",
    "    elif (model == 'dp-rndf') and (privacy == 'no_privacy'):\n",
    "        print('Substituting regular RNDF for no-privacy DP-RNDF')\n",
    "        params = model_params['rndf'].copy()\n",
    "        # Fixed max depth due to DP implementation having a max depth of 15.\n",
    "        params['max_depth'] = 15\n",
    "        classifier = permissible_models['rndf'](**params)\n",
    "    else:\n",
    "        classifier = permissible_models[model](**model_params[model])\n",
    "\n",
    "    print(\"Start Training model\")\n",
    "        \n",
    "    if preprocess is None:\n",
    "        if resource_tracker is not None:\n",
    "            resource_tracker.create_checkpoint('start_training')\n",
    "        ##\n",
    "        classifier.fit(train_x, train_y)\n",
    "        ##\n",
    "        if resource_tracker is not None:\n",
    "            resource_tracker.create_checkpoint('end_training')\n",
    "\n",
    "    else:\n",
    "        def preprocess_data(preprocess, x, eps):\n",
    "            # Transform x, or y, but ensure the shape and datastructure is maintained\n",
    "            if preprocess == 'dp-noise':\n",
    "                # assert False, 'Not implemented'\n",
    "                S = x.max(axis=0) - x.min(axis=0)\n",
    "                B = S/(eps/x.shape[1])\n",
    "                noise = np.random.laplace(0, B, (x.shape))\n",
    "                assert x.shape == noise.shape\n",
    "                x_dash = x + noise\n",
    "                assert x_dash.shape == x.shape\n",
    "            else:\n",
    "                assert False, 'Invalid Preprocess'\n",
    "                pass\n",
    "            assert(x.shape == (x_dash.shape)), 'Pre-processing has not preserved shape of datastructure'\n",
    "\n",
    "            return x_dash\n",
    "        \n",
    "        if resource_tracker is not None:\n",
    "            resource_tracker.create_checkpoint('start_preprocess')\n",
    "        ##\n",
    "        train_x_dash = preprocess_data(preprocess, train_x, epsilon)\n",
    "        ##\n",
    "        if resource_tracker is not None:\n",
    "            resource_tracker.create_checkpoint('end_process')\n",
    "\n",
    "        if resource_tracker is not None:\n",
    "            resource_tracker.create_checkpoint('start_training')\n",
    "        ##\n",
    "        classifier.fit(train_x_dash, train_y)\n",
    "        ##\n",
    "        if resource_tracker is not None:\n",
    "            resource_tracker.create_checkpoint('end_training')\n",
    "\n",
    "\n",
    "    \n",
    "    print(\"Start finding Train Accuracy\")\n",
    "    # predict and process the training data\n",
    "    predict_x_labels = classifier.predict(train_x)\n",
    "    train_acc = accuracy_score(train_y, predict_x_labels)\n",
    "    predict_x_probs = classifier.predict_proba(train_x)\n",
    "\n",
    "    print(\"compute train log-loss\")\n",
    "    try:\n",
    "        train_loss = log_loss(train_y, predict_x_probs)\n",
    "    except:\n",
    "        warnings.warn(\"nan confidence values encountered, values have been filled with 1.0/n_classes\", RuntimeWarning)\n",
    "        wher_isnan = np.isnan(predict_x_probs)\n",
    "        predict_x_probs[wher_isnan] = 1.0/n_out\n",
    "        train_loss = log_loss(train_y, predict_x_probs)\n",
    "\n",
    "    if not silent:\n",
    "        print('Train accuracy is: %.3f' % (train_acc))\n",
    "\n",
    "    print(\"Start finding Test Accuracy\")\n",
    "        \n",
    "    # predict and process the testing data\n",
    "    predict_x_labels = classifier.predict(test_x)\n",
    "    test_acc = accuracy_score(test_y, predict_x_labels)\n",
    "    if not silent:\n",
    "        print('Test accuracy is: %.3f' % (test_acc))\n",
    "\n",
    "    if resource_tracker is not None:\n",
    "        resource_tracker.create_checkpoint('end_predictions')\n",
    "        \n",
    "#     predict_x_probs = classifier.predict_proba(test_x)\n",
    "\n",
    "#     print(\"compute test log-loss\")\n",
    "#     try:\n",
    "#         test_loss = log_loss(test_y, predict_x_probs)\n",
    "#     except:\n",
    "#         warnings.warn(\"nan confidence values encountered, values have been filled with 1.0/n_classes\", RuntimeWarning)\n",
    "#         wher_isnan = np.isnan(predict_x_probs)\n",
    "#         print(wher_isnan)\n",
    "#         predict_x_probs[wher_isnan] = 1.0/n_out\n",
    "#         test_loss = log_loss(test_y, predict_x_probs)\n",
    "\n",
    "\n",
    "#     # pred_scores contains the confidence values.\n",
    "#     pred_scores = predict_x_probs\n",
    "#     # pred_y contains the predicted label\n",
    "#     pred_y = predict_x_labels\n",
    "\n",
    "    return classifier, None, None, train_loss, train_acc, test_acc\n",
    "    \n",
    "\n",
    "\n",
    "def train_classic_target_model(dataset, l2_ratio=1e-7, model='nn', save=True,\n",
    "                               privacy='no_privacy', preprocess=None, dp='dp', epsilon=0.5, delta=1e-5, resource_tracker=None):\n",
    "\n",
    "    train_x, train_y, test_x, test_y = dataset\n",
    "    n_classes = 4\n",
    "    a = train_classic(dataset, model=model, silent=False,\n",
    "                            privacy=privacy, preprocess=preprocess, dp=dp, epsilon=epsilon, delta=delta,         \n",
    "                            resource_tracker=resource_tracker)\n",
    "    classifier, _, _, train_loss, train_acc, test_acc = a\n",
    "\n",
    "    # test data for attack model\n",
    "    attack_x, attack_y = [], []\n",
    "\n",
    "    # data used in training, label is 1\n",
    "    pred_scores = classifier.predict_proba(train_x)\n",
    "    nan_vals = np.isnan(pred_scores)\n",
    "    if nan_vals.any():\n",
    "        warnings.warn(\"nan confidence values encountered, values have been filled with 1.0/n_classes\", RuntimeWarning)\n",
    "        pred_scores[nan_vals] = 1.0/n_classes\n",
    "    attack_x.append(pred_scores)\n",
    "    attack_y.append(np.ones(train_x.shape[0]))\n",
    "\n",
    "    # data not used in training, label is 0\n",
    "    pred_scores = classifier.predict_proba(test_x)\n",
    "    nan_vals = np.isnan(pred_scores)\n",
    "    if nan_vals.any():\n",
    "        warnings.warn(\"nan confidence values encountered, values have been filled with 1.0/n_classes\", RuntimeWarning)\n",
    "        pred_scores[nan_vals] = 1.0/n_classes\n",
    "    attack_x.append(pred_scores)\n",
    "    attack_y.append(np.zeros(test_x.shape[0]))\n",
    "\n",
    "    attack_x = np.vstack(attack_x)\n",
    "    attack_y = np.concatenate(attack_y)\n",
    "    attack_x = attack_x.astype('float32')\n",
    "    attack_y = attack_y.astype('int32')\n",
    "\n",
    "    assert save == False, \"Defunct option\"\n",
    "\n",
    "    classes = np.concatenate([train_y, test_y])\n",
    "    return attack_x, attack_y, classes, train_loss, classifier, train_acc, test_acc\n",
    "    \n",
    "pred_y, membership, test_classes, train_loss, classifier, train_acc, test_acc = train_classic_target_model(\n",
    "            dataset=dataset,\n",
    "            model='rndf')\n"
   ]
  }
 ],
 "metadata": {
  "kernelspec": {
   "display_name": "base",
   "language": "python",
   "name": "python3"
  },
  "language_info": {
   "codemirror_mode": {
    "name": "ipython",
    "version": 3
   },
   "file_extension": ".py",
   "mimetype": "text/x-python",
   "name": "python",
   "nbconvert_exporter": "python",
   "pygments_lexer": "ipython3",
   "version": "3.9.13"
  },
  "orig_nbformat": 4
 },
 "nbformat": 4,
 "nbformat_minor": 2
}
