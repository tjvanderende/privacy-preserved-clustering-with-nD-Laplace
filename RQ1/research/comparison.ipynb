{
 "cells": [
  {
   "cell_type": "code",
   "execution_count": 28,
   "metadata": {},
   "outputs": [],
   "source": [
    "import sys \n",
    "sys.path.append('../../')"
   ]
  },
  {
   "cell_type": "code",
   "execution_count": 29,
   "metadata": {},
   "outputs": [
    {
     "data": {
      "text/html": [
       "<div>\n",
       "<style scoped>\n",
       "    .dataframe tbody tr th:only-of-type {\n",
       "        vertical-align: middle;\n",
       "    }\n",
       "\n",
       "    .dataframe tbody tr th {\n",
       "        vertical-align: top;\n",
       "    }\n",
       "\n",
       "    .dataframe thead th {\n",
       "        text-align: right;\n",
       "    }\n",
       "</style>\n",
       "<table border=\"1\" class=\"dataframe\">\n",
       "  <thead>\n",
       "    <tr style=\"text-align: right;\">\n",
       "      <th></th>\n",
       "      <th>X</th>\n",
       "      <th>Y</th>\n",
       "    </tr>\n",
       "  </thead>\n",
       "  <tbody>\n",
       "    <tr>\n",
       "      <th>0</th>\n",
       "      <td>0.914339</td>\n",
       "      <td>4.550146</td>\n",
       "    </tr>\n",
       "    <tr>\n",
       "      <th>1</th>\n",
       "      <td>-1.930380</td>\n",
       "      <td>2.702150</td>\n",
       "    </tr>\n",
       "    <tr>\n",
       "      <th>2</th>\n",
       "      <td>1.872718</td>\n",
       "      <td>4.180692</td>\n",
       "    </tr>\n",
       "    <tr>\n",
       "      <th>3</th>\n",
       "      <td>-0.555524</td>\n",
       "      <td>4.695958</td>\n",
       "    </tr>\n",
       "    <tr>\n",
       "      <th>4</th>\n",
       "      <td>-1.034436</td>\n",
       "      <td>8.259404</td>\n",
       "    </tr>\n",
       "  </tbody>\n",
       "</table>\n",
       "</div>"
      ],
      "text/plain": [
       "          X         Y\n",
       "0  0.914339  4.550146\n",
       "1 -1.930380  2.702150\n",
       "2  1.872718  4.180692\n",
       "3 -0.555524  4.695958\n",
       "4 -1.034436  8.259404"
      ]
     },
     "execution_count": 29,
     "metadata": {},
     "output_type": "execute_result"
    }
   ],
   "source": [
    "import Helpers.helpers as helpers\n",
    "\n",
    "plain_df = helpers.load_dataset('../export/plain.csv')\n",
    "plain_df.head()"
   ]
  },
  {
   "cell_type": "code",
   "execution_count": 30,
   "metadata": {},
   "outputs": [
    {
     "data": {
      "text/plain": [
       "2.0770944922123693"
      ]
     },
     "execution_count": 30,
     "metadata": {},
     "output_type": "execute_result"
    }
   ],
   "source": [
    "from diffprivlib.mechanisms import laplace, gaussian\n",
    "\n",
    "lp = laplace.Laplace(epsilon=3, sensitivity=1)\n",
    "lp.randomise(2)"
   ]
  },
  {
   "cell_type": "code",
   "execution_count": 31,
   "metadata": {},
   "outputs": [
    {
     "data": {
      "text/plain": [
       "0.8504247475497433"
      ]
     },
     "execution_count": 31,
     "metadata": {},
     "output_type": "execute_result"
    }
   ],
   "source": [
    "gs = gaussian.GaussianAnalytic(epsilon=3, sensitivity=1, delta=0.1)\n",
    "gs.randomise(1)"
   ]
  },
  {
   "cell_type": "code",
   "execution_count": 32,
   "metadata": {},
   "outputs": [],
   "source": [
    "import numpy as np\n",
    "\n",
    "# [https://github.com/forestneo/sunPytools/blob/master/dplib/ldp_mechanisms/piecewise_mechanism.py](https://github.com/forestneo/sunPytools/blob/master/dplib/ldp_mechanisms/piecewise_mechanism.py)\n",
    "# Collecting and Analyzing Multidimensional Data with Local Differential Privacy\n",
    "def randomize_piece_wise(epsilon, value):\n",
    "    z = np.e ** (epsilon / 2)\n",
    "    C = (z + 1) / (z - 1)\n",
    "    P1 = (value + 1) / (2 + 2 * z)\n",
    "    P2 = z / (z + 1)\n",
    "    P3 = (1 - value) / (2 + 2 * z)\n",
    "\n",
    "    g1 = (C + 1) * value / 2 - (C - 1) / 2\n",
    "    g2 = (C + 1) * value / 2 + (C - 1) / 2\n",
    "\n",
    "    rnd = np.random.random()\n",
    "    if rnd < P1:\n",
    "        result = -C + np.random.random() * (g1 - (-C))\n",
    "    elif rnd < P1 + P2:\n",
    "        result = (g2 - g1) * np.random.random() + g1\n",
    "    else:\n",
    "        result = (C - g2) * np.random.random() + g2\n",
    "    return result\n"
   ]
  },
  {
   "cell_type": "code",
   "execution_count": 33,
   "metadata": {},
   "outputs": [
    {
     "data": {
      "text/plain": [
       "1.0102101097850413"
      ]
     },
     "execution_count": 33,
     "metadata": {},
     "output_type": "execute_result"
    }
   ],
   "source": [
    "from Helpers.pairwise import PMBase, PiecewiseMechanism\n",
    "pm_encoder = PMBase(epsilon=10)\n",
    "pm_encoder.randomise(1)"
   ]
  },
  {
   "attachments": {},
   "cell_type": "markdown",
   "metadata": {},
   "source": [
    "## Generate data"
   ]
  },
  {
   "cell_type": "code",
   "execution_count": 34,
   "metadata": {},
   "outputs": [],
   "source": [
    "def generate_pairwise_perturbation(plain_df, epsilon):\n",
    "    max = plain_df.max().max()\n",
    "    min = plain_df.min().min()\n",
    "    pm_encoder = PiecewiseMechanism(epsilon=epsilon,domain=(min, max))\n",
    "    perturbed_df = plain_df.copy()\n",
    "    for col in plain_df.columns:\n",
    "        perturbed_df[col] = plain_df[col].apply(pm_encoder.randomise)\n",
    "    return perturbed_df\n",
    "\n",
    "def generate_laplace_perturbation(plain_df, epsilon):\n",
    "    max = plain_df.max().max()\n",
    "    min = plain_df.min().min()\n",
    "    lp = laplace.Laplace(epsilon=epsilon, sensitivity=1/plain_df.size)\n",
    "    perturbed_df = plain_df.copy()\n",
    "    for col in plain_df.columns:\n",
    "        perturbed_df[col] = plain_df[col].apply(lambda x: lp.randomise(x))\n",
    "    return perturbed_df\n",
    "\n",
    "def generate_gaussian_perturbation(plain_df, epsilon):\n",
    "    max = plain_df.max().max()\n",
    "    min = plain_df.min().min()\n",
    "    gs = gaussian.GaussianAnalytic(epsilon=epsilon, sensitivity=1/plain_df.size, delta=0.1)\n",
    "    perturbed_df = plain_df.copy()\n",
    "    for col in plain_df.columns:\n",
    "        perturbed_df[col] = plain_df[col].apply(lambda x: gs.randomise(x))\n",
    "    return perturbed_df"
   ]
  },
  {
   "cell_type": "code",
   "execution_count": 35,
   "metadata": {},
   "outputs": [
    {
     "data": {
      "text/html": [
       "<div>\n",
       "<style scoped>\n",
       "    .dataframe tbody tr th:only-of-type {\n",
       "        vertical-align: middle;\n",
       "    }\n",
       "\n",
       "    .dataframe tbody tr th {\n",
       "        vertical-align: top;\n",
       "    }\n",
       "\n",
       "    .dataframe thead th {\n",
       "        text-align: right;\n",
       "    }\n",
       "</style>\n",
       "<table border=\"1\" class=\"dataframe\">\n",
       "  <thead>\n",
       "    <tr style=\"text-align: right;\">\n",
       "      <th></th>\n",
       "      <th>X</th>\n",
       "      <th>Y</th>\n",
       "    </tr>\n",
       "  </thead>\n",
       "  <tbody>\n",
       "    <tr>\n",
       "      <th>0</th>\n",
       "      <td>0.914339</td>\n",
       "      <td>4.550146</td>\n",
       "    </tr>\n",
       "    <tr>\n",
       "      <th>1</th>\n",
       "      <td>-1.930380</td>\n",
       "      <td>2.702150</td>\n",
       "    </tr>\n",
       "    <tr>\n",
       "      <th>2</th>\n",
       "      <td>1.872718</td>\n",
       "      <td>4.180692</td>\n",
       "    </tr>\n",
       "    <tr>\n",
       "      <th>3</th>\n",
       "      <td>-0.555524</td>\n",
       "      <td>4.695958</td>\n",
       "    </tr>\n",
       "    <tr>\n",
       "      <th>4</th>\n",
       "      <td>-1.034436</td>\n",
       "      <td>8.259404</td>\n",
       "    </tr>\n",
       "  </tbody>\n",
       "</table>\n",
       "</div>"
      ],
      "text/plain": [
       "          X         Y\n",
       "0  0.914339  4.550146\n",
       "1 -1.930380  2.702150\n",
       "2  1.872718  4.180692\n",
       "3 -0.555524  4.695958\n",
       "4 -1.034436  8.259404"
      ]
     },
     "execution_count": 35,
     "metadata": {},
     "output_type": "execute_result"
    }
   ],
   "source": [
    "plain_df.head()"
   ]
  },
  {
   "cell_type": "code",
   "execution_count": 36,
   "metadata": {},
   "outputs": [
    {
     "data": {
      "text/html": [
       "<div>\n",
       "<style scoped>\n",
       "    .dataframe tbody tr th:only-of-type {\n",
       "        vertical-align: middle;\n",
       "    }\n",
       "\n",
       "    .dataframe tbody tr th {\n",
       "        vertical-align: top;\n",
       "    }\n",
       "\n",
       "    .dataframe thead th {\n",
       "        text-align: right;\n",
       "    }\n",
       "</style>\n",
       "<table border=\"1\" class=\"dataframe\">\n",
       "  <thead>\n",
       "    <tr style=\"text-align: right;\">\n",
       "      <th></th>\n",
       "      <th>X</th>\n",
       "      <th>Y</th>\n",
       "    </tr>\n",
       "  </thead>\n",
       "  <tbody>\n",
       "    <tr>\n",
       "      <th>0</th>\n",
       "      <td>0.850220</td>\n",
       "      <td>4.508680</td>\n",
       "    </tr>\n",
       "    <tr>\n",
       "      <th>1</th>\n",
       "      <td>-2.025055</td>\n",
       "      <td>2.736012</td>\n",
       "    </tr>\n",
       "    <tr>\n",
       "      <th>2</th>\n",
       "      <td>2.006749</td>\n",
       "      <td>4.174110</td>\n",
       "    </tr>\n",
       "    <tr>\n",
       "      <th>3</th>\n",
       "      <td>-0.692603</td>\n",
       "      <td>4.736974</td>\n",
       "    </tr>\n",
       "    <tr>\n",
       "      <th>4</th>\n",
       "      <td>-1.072991</td>\n",
       "      <td>8.426809</td>\n",
       "    </tr>\n",
       "  </tbody>\n",
       "</table>\n",
       "</div>"
      ],
      "text/plain": [
       "          X         Y\n",
       "0  0.850220  4.508680\n",
       "1 -2.025055  2.736012\n",
       "2  2.006749  4.174110\n",
       "3 -0.692603  4.736974\n",
       "4 -1.072991  8.426809"
      ]
     },
     "execution_count": 36,
     "metadata": {},
     "output_type": "execute_result"
    }
   ],
   "source": [
    "generate_pairwise_perturbation(plain_df, epsilon=7).head()"
   ]
  },
  {
   "cell_type": "code",
   "execution_count": 37,
   "metadata": {},
   "outputs": [
    {
     "data": {
      "text/html": [
       "<div>\n",
       "<style scoped>\n",
       "    .dataframe tbody tr th:only-of-type {\n",
       "        vertical-align: middle;\n",
       "    }\n",
       "\n",
       "    .dataframe tbody tr th {\n",
       "        vertical-align: top;\n",
       "    }\n",
       "\n",
       "    .dataframe thead th {\n",
       "        text-align: right;\n",
       "    }\n",
       "</style>\n",
       "<table border=\"1\" class=\"dataframe\">\n",
       "  <thead>\n",
       "    <tr style=\"text-align: right;\">\n",
       "      <th></th>\n",
       "      <th>X</th>\n",
       "      <th>Y</th>\n",
       "    </tr>\n",
       "  </thead>\n",
       "  <tbody>\n",
       "    <tr>\n",
       "      <th>0</th>\n",
       "      <td>0.904561</td>\n",
       "      <td>4.550796</td>\n",
       "    </tr>\n",
       "    <tr>\n",
       "      <th>1</th>\n",
       "      <td>-1.889332</td>\n",
       "      <td>2.702357</td>\n",
       "    </tr>\n",
       "    <tr>\n",
       "      <th>2</th>\n",
       "      <td>1.909471</td>\n",
       "      <td>4.194915</td>\n",
       "    </tr>\n",
       "    <tr>\n",
       "      <th>3</th>\n",
       "      <td>-0.539499</td>\n",
       "      <td>4.694549</td>\n",
       "    </tr>\n",
       "    <tr>\n",
       "      <th>4</th>\n",
       "      <td>-1.046246</td>\n",
       "      <td>8.219261</td>\n",
       "    </tr>\n",
       "  </tbody>\n",
       "</table>\n",
       "</div>"
      ],
      "text/plain": [
       "          X         Y\n",
       "0  0.904561  4.550796\n",
       "1 -1.889332  2.702357\n",
       "2  1.909471  4.194915\n",
       "3 -0.539499  4.694549\n",
       "4 -1.046246  8.219261"
      ]
     },
     "execution_count": 37,
     "metadata": {},
     "output_type": "execute_result"
    }
   ],
   "source": [
    "generate_laplace_perturbation(plain_df=plain_df, epsilon=0.5).head()"
   ]
  },
  {
   "cell_type": "code",
   "execution_count": 38,
   "metadata": {},
   "outputs": [
    {
     "data": {
      "text/html": [
       "<div>\n",
       "<style scoped>\n",
       "    .dataframe tbody tr th:only-of-type {\n",
       "        vertical-align: middle;\n",
       "    }\n",
       "\n",
       "    .dataframe tbody tr th {\n",
       "        vertical-align: top;\n",
       "    }\n",
       "\n",
       "    .dataframe thead th {\n",
       "        text-align: right;\n",
       "    }\n",
       "</style>\n",
       "<table border=\"1\" class=\"dataframe\">\n",
       "  <thead>\n",
       "    <tr style=\"text-align: right;\">\n",
       "      <th></th>\n",
       "      <th>X</th>\n",
       "      <th>Y</th>\n",
       "    </tr>\n",
       "  </thead>\n",
       "  <tbody>\n",
       "    <tr>\n",
       "      <th>0</th>\n",
       "      <td>0.926470</td>\n",
       "      <td>4.542446</td>\n",
       "    </tr>\n",
       "    <tr>\n",
       "      <th>1</th>\n",
       "      <td>-1.912501</td>\n",
       "      <td>2.699781</td>\n",
       "    </tr>\n",
       "    <tr>\n",
       "      <th>2</th>\n",
       "      <td>1.896978</td>\n",
       "      <td>4.188605</td>\n",
       "    </tr>\n",
       "    <tr>\n",
       "      <th>3</th>\n",
       "      <td>-0.585508</td>\n",
       "      <td>4.684620</td>\n",
       "    </tr>\n",
       "    <tr>\n",
       "      <th>4</th>\n",
       "      <td>-1.017901</td>\n",
       "      <td>8.247705</td>\n",
       "    </tr>\n",
       "  </tbody>\n",
       "</table>\n",
       "</div>"
      ],
      "text/plain": [
       "          X         Y\n",
       "0  0.926470  4.542446\n",
       "1 -1.912501  2.699781\n",
       "2  1.896978  4.188605\n",
       "3 -0.585508  4.684620\n",
       "4 -1.017901  8.247705"
      ]
     },
     "execution_count": 38,
     "metadata": {},
     "output_type": "execute_result"
    }
   ],
   "source": [
    "generate_gaussian_perturbation(plain_df=plain_df, epsilon=0.5).head()"
   ]
  },
  {
   "cell_type": "code",
   "execution_count": 39,
   "metadata": {},
   "outputs": [],
   "source": [
    "import pandas as pd\n",
    "\n",
    "epsilons = [0.05, 0.1 , 0.5 , 1, 2, 3, 5, 7, 9]\n",
    "for epsilon in epsilons:\n",
    "    Z = generate_pairwise_perturbation(plain_df, epsilon)\n",
    "    Z_gaussian = generate_gaussian_perturbation(plain_df, epsilon)\n",
    "    Z_laplace = generate_laplace_perturbation(plain_df, epsilon)\n",
    "    Z_pd = pd.DataFrame(Z, columns=['X', 'Y'])\n",
    "    Z_gaussian_pd = pd.DataFrame(Z_gaussian, columns=['X', 'Y'])\n",
    "    Z_laplace_pd = pd.DataFrame(Z_laplace, columns=['X', 'Y'])\n",
    "    Z_pd.to_csv('../export/pairwise/perturbed_'+str(epsilon)+'.csv')\n",
    "    Z_gaussian_pd.to_csv('../export/gaussian/perturbed_'+str(epsilon)+'.csv')\n",
    "    Z_laplace_pd.to_csv('../export/laplace/perturbed_'+str(epsilon)+'.csv')"
   ]
  }
 ],
 "metadata": {
  "kernelspec": {
   "display_name": "base",
   "language": "python",
   "name": "python3"
  },
  "language_info": {
   "codemirror_mode": {
    "name": "ipython",
    "version": 3
   },
   "file_extension": ".py",
   "mimetype": "text/x-python",
   "name": "python",
   "nbconvert_exporter": "python",
   "pygments_lexer": "ipython3",
   "version": "3.9.13"
  },
  "orig_nbformat": 4
 },
 "nbformat": 4,
 "nbformat_minor": 2
}
