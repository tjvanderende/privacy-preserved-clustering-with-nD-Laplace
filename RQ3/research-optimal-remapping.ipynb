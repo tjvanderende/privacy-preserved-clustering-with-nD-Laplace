{
 "cells": [
  {
   "cell_type": "code",
   "execution_count": 294,
   "metadata": {},
   "outputs": [],
   "source": [
    "import pandas as pd\n",
    "import numpy as np\n",
    "import matplotlib.pyplot as plt\n",
    "import seaborn as sns\n",
    "import scipy.spatial as spatial\n",
    "from Helpers import helpers, twod_laplace"
   ]
  },
  {
   "cell_type": "code",
   "execution_count": 295,
   "metadata": {},
   "outputs": [],
   "source": [
    "plain_df, perturbed_df = helpers.load_plain_and_perturbed_dataset(0.5, import_path=\"../data/heart-dataset/heart_numerical.csv\", perturbed_path=\"../ExperimentRunners/data/nd-laplace-truncated/heart-dataset/\")"
   ]
  },
  {
   "cell_type": "code",
   "execution_count": 296,
   "metadata": {},
   "outputs": [
    {
     "data": {
      "text/html": [
       "<div>\n",
       "<style scoped>\n",
       "    .dataframe tbody tr th:only-of-type {\n",
       "        vertical-align: middle;\n",
       "    }\n",
       "\n",
       "    .dataframe tbody tr th {\n",
       "        vertical-align: top;\n",
       "    }\n",
       "\n",
       "    .dataframe thead th {\n",
       "        text-align: right;\n",
       "    }\n",
       "</style>\n",
       "<table border=\"1\" class=\"dataframe\">\n",
       "  <thead>\n",
       "    <tr style=\"text-align: right;\">\n",
       "      <th></th>\n",
       "      <th>baseline value</th>\n",
       "      <th>accelerations</th>\n",
       "      <th>fetal_movement</th>\n",
       "      <th>uterine_contractions</th>\n",
       "      <th>light_decelerations</th>\n",
       "      <th>histogram_width</th>\n",
       "      <th>histogram_min</th>\n",
       "      <th>histogram_max</th>\n",
       "      <th>histogram_number_of_peaks</th>\n",
       "    </tr>\n",
       "  </thead>\n",
       "  <tbody>\n",
       "    <tr>\n",
       "      <th>0</th>\n",
       "      <td>120.0</td>\n",
       "      <td>0.0</td>\n",
       "      <td>0.0</td>\n",
       "      <td>0.0</td>\n",
       "      <td>0.0</td>\n",
       "      <td>64.0</td>\n",
       "      <td>62.0</td>\n",
       "      <td>126.0</td>\n",
       "      <td>2.0</td>\n",
       "    </tr>\n",
       "    <tr>\n",
       "      <th>1</th>\n",
       "      <td>132.0</td>\n",
       "      <td>4.0</td>\n",
       "      <td>0.0</td>\n",
       "      <td>4.0</td>\n",
       "      <td>2.0</td>\n",
       "      <td>130.0</td>\n",
       "      <td>68.0</td>\n",
       "      <td>198.0</td>\n",
       "      <td>6.0</td>\n",
       "    </tr>\n",
       "    <tr>\n",
       "      <th>2</th>\n",
       "      <td>133.0</td>\n",
       "      <td>2.0</td>\n",
       "      <td>0.0</td>\n",
       "      <td>5.0</td>\n",
       "      <td>2.0</td>\n",
       "      <td>130.0</td>\n",
       "      <td>68.0</td>\n",
       "      <td>198.0</td>\n",
       "      <td>5.0</td>\n",
       "    </tr>\n",
       "    <tr>\n",
       "      <th>3</th>\n",
       "      <td>134.0</td>\n",
       "      <td>2.0</td>\n",
       "      <td>0.0</td>\n",
       "      <td>6.0</td>\n",
       "      <td>2.0</td>\n",
       "      <td>117.0</td>\n",
       "      <td>53.0</td>\n",
       "      <td>170.0</td>\n",
       "      <td>11.0</td>\n",
       "    </tr>\n",
       "    <tr>\n",
       "      <th>4</th>\n",
       "      <td>132.0</td>\n",
       "      <td>4.0</td>\n",
       "      <td>0.0</td>\n",
       "      <td>5.0</td>\n",
       "      <td>0.0</td>\n",
       "      <td>117.0</td>\n",
       "      <td>53.0</td>\n",
       "      <td>170.0</td>\n",
       "      <td>9.0</td>\n",
       "    </tr>\n",
       "  </tbody>\n",
       "</table>\n",
       "</div>"
      ],
      "text/plain": [
       "   baseline value  accelerations  fetal_movement  uterine_contractions  \\\n",
       "0           120.0            0.0             0.0                   0.0   \n",
       "1           132.0            4.0             0.0                   4.0   \n",
       "2           133.0            2.0             0.0                   5.0   \n",
       "3           134.0            2.0             0.0                   6.0   \n",
       "4           132.0            4.0             0.0                   5.0   \n",
       "\n",
       "   light_decelerations  histogram_width  histogram_min  histogram_max  \\\n",
       "0                  0.0             64.0           62.0          126.0   \n",
       "1                  2.0            130.0           68.0          198.0   \n",
       "2                  2.0            130.0           68.0          198.0   \n",
       "3                  2.0            117.0           53.0          170.0   \n",
       "4                  0.0            117.0           53.0          170.0   \n",
       "\n",
       "   histogram_number_of_peaks  \n",
       "0                        2.0  \n",
       "1                        6.0  \n",
       "2                        5.0  \n",
       "3                       11.0  \n",
       "4                        9.0  "
      ]
     },
     "execution_count": 296,
     "metadata": {},
     "output_type": "execute_result"
    }
   ],
   "source": [
    "plain_df = plain_df.drop(columns=['class'])\n",
    "plain_df.head()"
   ]
  },
  {
   "cell_type": "code",
   "execution_count": 297,
   "metadata": {},
   "outputs": [
    {
     "data": {
      "text/html": [
       "<div>\n",
       "<style scoped>\n",
       "    .dataframe tbody tr th:only-of-type {\n",
       "        vertical-align: middle;\n",
       "    }\n",
       "\n",
       "    .dataframe tbody tr th {\n",
       "        vertical-align: top;\n",
       "    }\n",
       "\n",
       "    .dataframe thead th {\n",
       "        text-align: right;\n",
       "    }\n",
       "</style>\n",
       "<table border=\"1\" class=\"dataframe\">\n",
       "  <thead>\n",
       "    <tr style=\"text-align: right;\">\n",
       "      <th></th>\n",
       "      <th>baseline value</th>\n",
       "      <th>histogram_min</th>\n",
       "    </tr>\n",
       "  </thead>\n",
       "  <tbody>\n",
       "    <tr>\n",
       "      <th>0</th>\n",
       "      <td>120.0</td>\n",
       "      <td>62.0</td>\n",
       "    </tr>\n",
       "    <tr>\n",
       "      <th>1</th>\n",
       "      <td>132.0</td>\n",
       "      <td>68.0</td>\n",
       "    </tr>\n",
       "    <tr>\n",
       "      <th>2</th>\n",
       "      <td>133.0</td>\n",
       "      <td>68.0</td>\n",
       "    </tr>\n",
       "    <tr>\n",
       "      <th>3</th>\n",
       "      <td>134.0</td>\n",
       "      <td>53.0</td>\n",
       "    </tr>\n",
       "    <tr>\n",
       "      <th>4</th>\n",
       "      <td>132.0</td>\n",
       "      <td>53.0</td>\n",
       "    </tr>\n",
       "  </tbody>\n",
       "</table>\n",
       "</div>"
      ],
      "text/plain": [
       "   baseline value  histogram_min\n",
       "0           120.0           62.0\n",
       "1           132.0           68.0\n",
       "2           133.0           68.0\n",
       "3           134.0           53.0\n",
       "4           132.0           53.0"
      ]
     },
     "execution_count": 297,
     "metadata": {},
     "output_type": "execute_result"
    }
   ],
   "source": [
    "plain_df_2d = plain_df.loc[:, ['baseline value', 'histogram_min']]\n",
    "perturbed_df_2d = perturbed_df.loc[:, ['baseline value', 'histogram_min']]\n",
    "plain_df_2d.head()"
   ]
  },
  {
   "cell_type": "code",
   "execution_count": 298,
   "metadata": {},
   "outputs": [],
   "source": [
    "import random\n",
    "from sklearn.preprocessing import MinMaxScaler\n",
    "\n",
    "def get_Z_outside_domain_X(plain_df, perturbed_df):\n",
    "    tree = spatial.KDTree(plain_df)\n",
    "    # Query the KDTree with dataset1 to find the closest points in dataset2\n",
    "    _, closest_indices = tree.query(perturbed_df)\n",
    "    # Check if each point in dataset1 is within the domain of dataset2\n",
    "    in_domain = np.logical_and.reduce([np.logical_and(perturbed_df[:, dim] >= plain_df[:, dim].min(), perturbed_df[:, dim] <= plain_df[:, dim].max()) for dim in range(perturbed_df.shape[1])])\n",
    "\n",
    "    # Create a mask for points outside the domain of dataset2\n",
    "    outside_domain_mask = np.logical_not(in_domain)\n",
    "    return outside_domain_mask\n",
    "\n",
    "def get_radius_and_perturbation(plain_df, epsilon):\n",
    "    data = {'r': [], 'x': [], 'y': []}\n",
    "    # loop through each record\n",
    "    for row in plain_df.values:\n",
    "        p = random.random()\n",
    "        theta = np.random.rand()*np.pi*2\n",
    "        r = twod_laplace.inverseCumulativeGamma(epsilon, p) # draw radius distance\n",
    "        private_point = twod_laplace.addVectorToPoint(row, r, theta)\n",
    "        data['r'].append(r)\n",
    "        data['x'].append(private_point[0])\n",
    "        data['y'].append(private_point[1])\n",
    "\n",
    "    return pd.DataFrame(data)\n",
    "\n",
    "def transform(dataframe: pd.DataFrame, scaler: MinMaxScaler):\n",
    "    return pd.DataFrame(scaler.fit_transform(dataframe), columns=dataframe.columns)\n",
    "\n",
    "def inverse_transform(dataframe: pd.DataFrame, scaler: MinMaxScaler):\n",
    "    return pd.DataFrame(scaler.inverse_transform(dataframe), columns=dataframe.columns)\n",
    "\n"
   ]
  },
  {
   "cell_type": "code",
   "execution_count": 299,
   "metadata": {},
   "outputs": [
    {
     "data": {
      "text/html": [
       "<div>\n",
       "<style scoped>\n",
       "    .dataframe tbody tr th:only-of-type {\n",
       "        vertical-align: middle;\n",
       "    }\n",
       "\n",
       "    .dataframe tbody tr th {\n",
       "        vertical-align: top;\n",
       "    }\n",
       "\n",
       "    .dataframe thead th {\n",
       "        text-align: right;\n",
       "    }\n",
       "</style>\n",
       "<table border=\"1\" class=\"dataframe\">\n",
       "  <thead>\n",
       "    <tr style=\"text-align: right;\">\n",
       "      <th></th>\n",
       "      <th>baseline value</th>\n",
       "      <th>histogram_min</th>\n",
       "    </tr>\n",
       "  </thead>\n",
       "  <tbody>\n",
       "  </tbody>\n",
       "</table>\n",
       "</div>"
      ],
      "text/plain": [
       "Empty DataFrame\n",
       "Columns: [baseline value, histogram_min]\n",
       "Index: []"
      ]
     },
     "execution_count": 299,
     "metadata": {},
     "output_type": "execute_result"
    }
   ],
   "source": [
    "tree = spatial.KDTree(plain_df_2d)\n",
    "query_data = tree.query_ball_point([132.0,4.0], r=0.3)\n",
    "plain_df_2d.iloc[query_data]"
   ]
  },
  {
   "cell_type": "code",
   "execution_count": 300,
   "metadata": {},
   "outputs": [],
   "source": [
    "min_max_scaler = MinMaxScaler(feature_range=[-1,1])\n",
    "min_max_scaler_perturbed = MinMaxScaler(feature_range=[-1,1])\n"
   ]
  },
  {
   "cell_type": "code",
   "execution_count": 301,
   "metadata": {},
   "outputs": [
    {
     "data": {
      "text/html": [
       "<div>\n",
       "<style scoped>\n",
       "    .dataframe tbody tr th:only-of-type {\n",
       "        vertical-align: middle;\n",
       "    }\n",
       "\n",
       "    .dataframe tbody tr th {\n",
       "        vertical-align: top;\n",
       "    }\n",
       "\n",
       "    .dataframe thead th {\n",
       "        text-align: right;\n",
       "    }\n",
       "</style>\n",
       "<table border=\"1\" class=\"dataframe\">\n",
       "  <thead>\n",
       "    <tr style=\"text-align: right;\">\n",
       "      <th></th>\n",
       "      <th>r</th>\n",
       "      <th>x</th>\n",
       "      <th>y</th>\n",
       "    </tr>\n",
       "  </thead>\n",
       "  <tbody>\n",
       "    <tr>\n",
       "      <th>0</th>\n",
       "      <td>6.599488</td>\n",
       "      <td>115.023866</td>\n",
       "      <td>66.334897</td>\n",
       "    </tr>\n",
       "    <tr>\n",
       "      <th>1</th>\n",
       "      <td>5.801842</td>\n",
       "      <td>126.378774</td>\n",
       "      <td>69.436379</td>\n",
       "    </tr>\n",
       "    <tr>\n",
       "      <th>2</th>\n",
       "      <td>2.367228</td>\n",
       "      <td>133.751674</td>\n",
       "      <td>70.244717</td>\n",
       "    </tr>\n",
       "    <tr>\n",
       "      <th>3</th>\n",
       "      <td>1.867280</td>\n",
       "      <td>135.106552</td>\n",
       "      <td>51.495913</td>\n",
       "    </tr>\n",
       "    <tr>\n",
       "      <th>4</th>\n",
       "      <td>4.254116</td>\n",
       "      <td>131.724742</td>\n",
       "      <td>57.245202</td>\n",
       "    </tr>\n",
       "  </tbody>\n",
       "</table>\n",
       "</div>"
      ],
      "text/plain": [
       "          r           x          y\n",
       "0  6.599488  115.023866  66.334897\n",
       "1  5.801842  126.378774  69.436379\n",
       "2  2.367228  133.751674  70.244717\n",
       "3  1.867280  135.106552  51.495913\n",
       "4  4.254116  131.724742  57.245202"
      ]
     },
     "execution_count": 301,
     "metadata": {},
     "output_type": "execute_result"
    }
   ],
   "source": [
    "perturbed_data_with_r = get_radius_and_perturbation(plain_df_2d, 0.5)\n",
    "perturbed_data_with_r.head()"
   ]
  },
  {
   "cell_type": "code",
   "execution_count": 302,
   "metadata": {},
   "outputs": [],
   "source": [
    "outside_domain_mask = get_Z_outside_domain_X(plain_df_2d.values, perturbed_data_with_r.drop(columns=['r']).values)\n",
    "perturbed_data_with_r_outside_domain = perturbed_data_with_r.drop(columns=['r'])[outside_domain_mask]\n",
    "perturbed_data_with_r_outside_domain = pd.concat([perturbed_data_with_r['r'][outside_domain_mask], perturbed_data_with_r_outside_domain], axis=1)"
   ]
  },
  {
   "cell_type": "code",
   "execution_count": 303,
   "metadata": {},
   "outputs": [
    {
     "data": {
      "text/html": [
       "<div>\n",
       "<style scoped>\n",
       "    .dataframe tbody tr th:only-of-type {\n",
       "        vertical-align: middle;\n",
       "    }\n",
       "\n",
       "    .dataframe tbody tr th {\n",
       "        vertical-align: top;\n",
       "    }\n",
       "\n",
       "    .dataframe thead th {\n",
       "        text-align: right;\n",
       "    }\n",
       "</style>\n",
       "<table border=\"1\" class=\"dataframe\">\n",
       "  <thead>\n",
       "    <tr style=\"text-align: right;\">\n",
       "      <th></th>\n",
       "      <th>r</th>\n",
       "      <th>x</th>\n",
       "      <th>y</th>\n",
       "    </tr>\n",
       "  </thead>\n",
       "  <tbody>\n",
       "    <tr>\n",
       "      <th>6</th>\n",
       "      <td>2.050528</td>\n",
       "      <td>133.040932</td>\n",
       "      <td>48.187583</td>\n",
       "    </tr>\n",
       "    <tr>\n",
       "      <th>11</th>\n",
       "      <td>11.649848</td>\n",
       "      <td>147.155985</td>\n",
       "      <td>44.702631</td>\n",
       "    </tr>\n",
       "    <tr>\n",
       "      <th>28</th>\n",
       "      <td>6.087742</td>\n",
       "      <td>138.000026</td>\n",
       "      <td>48.970297</td>\n",
       "    </tr>\n",
       "    <tr>\n",
       "      <th>29</th>\n",
       "      <td>4.009004</td>\n",
       "      <td>135.615738</td>\n",
       "      <td>48.268367</td>\n",
       "    </tr>\n",
       "    <tr>\n",
       "      <th>32</th>\n",
       "      <td>2.551832</td>\n",
       "      <td>134.254042</td>\n",
       "      <td>48.803697</td>\n",
       "    </tr>\n",
       "  </tbody>\n",
       "</table>\n",
       "</div>"
      ],
      "text/plain": [
       "            r           x          y\n",
       "6    2.050528  133.040932  48.187583\n",
       "11  11.649848  147.155985  44.702631\n",
       "28   6.087742  138.000026  48.970297\n",
       "29   4.009004  135.615738  48.268367\n",
       "32   2.551832  134.254042  48.803697"
      ]
     },
     "execution_count": 303,
     "metadata": {},
     "output_type": "execute_result"
    }
   ],
   "source": [
    "perturbed_data_with_r_outside_domain.head()"
   ]
  },
  {
   "cell_type": "code",
   "execution_count": 304,
   "metadata": {},
   "outputs": [],
   "source": [
    "# perturbed_data_with_r_outside_domain_scaled = pd.DataFrame(min_max_scaler.fit_transform(perturbed_data_with_r_outside_domain), columns=perturbed_data_with_r_outside_domain.columns)\n"
   ]
  },
  {
   "cell_type": "code",
   "execution_count": 310,
   "metadata": {},
   "outputs": [],
   "source": [
    "random_point = perturbed_data_with_r_outside_domain.iloc[2]\n",
    "plain_tree = spatial.KDTree(plain_df_2d)\n",
    "perturbed_query_data = plain_tree.query_ball_point([random_point['x'], random_point['y']], r=random_point['r'])"
   ]
  },
  {
   "cell_type": "code",
   "execution_count": 326,
   "metadata": {},
   "outputs": [
    {
     "data": {
      "text/plain": [
       "<matplotlib.collections.PathCollection at 0xffff504ff280>"
      ]
     },
     "execution_count": 326,
     "metadata": {},
     "output_type": "execute_result"
    },
    {
     "data": {
      "image/png": "[encoded data removed]",
      "text/plain": [
       "<Figure size 640x480 with 1 Axes>"
      ]
     },
     "metadata": {},
     "output_type": "display_data"
    }
   ],
   "source": [
    "fig, ax = plt.subplots()\n",
    "plain_df_2d.plot(kind='scatter', x='baseline value', y='histogram_min', color='blue', ax=ax)\n",
    "plain_df_2d.iloc[perturbed_query_data].plot(kind='scatter', x='baseline value', y='histogram_min', color='red', ax=ax)\n",
    "perturbed_data_with_r_outside_domain.plot(kind='scatter', x='x', y='y', color='green', ax=ax)\n",
    "ax.add_patch(plt.Circle((random_point['x'], random_point['y']), random_point['r'], color='black', fill=False))\n",
    "ax.scatter(random_point['x'], random_point['y'], color='black')"
   ]
  },
  {
   "cell_type": "code",
   "execution_count": 323,
   "metadata": {},
   "outputs": [],
   "source": [
    "def find_new_r_for_perturbed_datas_outside_domain(perturbed_data: pd.DataFrame, plain_df: pd.DataFrame):\n",
    "    tree = spatial.KDTree(plain_df)\n",
    "    perturbed_data_with_Q = perturbed_data.copy()\n",
    "    for index, point in perturbed_data.iterrows():\n",
    "        query_data = tree.query_ball_point([point['x'], point['y']], r=point['r'])\n",
    "        perturbed_data_with_Q.loc[index, 'Q'] = len(query_data)\n",
    "        \n",
    "    return perturbed_data_with_Q;"
   ]
  },
  {
   "cell_type": "code",
   "execution_count": 324,
   "metadata": {},
   "outputs": [
    {
     "data": {
      "text/html": [
       "<div>\n",
       "<style scoped>\n",
       "    .dataframe tbody tr th:only-of-type {\n",
       "        vertical-align: middle;\n",
       "    }\n",
       "\n",
       "    .dataframe tbody tr th {\n",
       "        vertical-align: top;\n",
       "    }\n",
       "\n",
       "    .dataframe thead th {\n",
       "        text-align: right;\n",
       "    }\n",
       "</style>\n",
       "<table border=\"1\" class=\"dataframe\">\n",
       "  <thead>\n",
       "    <tr style=\"text-align: right;\">\n",
       "      <th></th>\n",
       "      <th>r</th>\n",
       "      <th>x</th>\n",
       "      <th>y</th>\n",
       "      <th>Q</th>\n",
       "    </tr>\n",
       "  </thead>\n",
       "  <tbody>\n",
       "    <tr>\n",
       "      <th>6</th>\n",
       "      <td>2.050528</td>\n",
       "      <td>133.040932</td>\n",
       "      <td>48.187583</td>\n",
       "      <td>7.0</td>\n",
       "    </tr>\n",
       "    <tr>\n",
       "      <th>11</th>\n",
       "      <td>11.649848</td>\n",
       "      <td>147.155985</td>\n",
       "      <td>44.702631</td>\n",
       "      <td>49.0</td>\n",
       "    </tr>\n",
       "    <tr>\n",
       "      <th>28</th>\n",
       "      <td>6.087742</td>\n",
       "      <td>138.000026</td>\n",
       "      <td>48.970297</td>\n",
       "      <td>73.0</td>\n",
       "    </tr>\n",
       "    <tr>\n",
       "      <th>29</th>\n",
       "      <td>4.009004</td>\n",
       "      <td>135.615738</td>\n",
       "      <td>48.268367</td>\n",
       "      <td>28.0</td>\n",
       "    </tr>\n",
       "    <tr>\n",
       "      <th>32</th>\n",
       "      <td>2.551832</td>\n",
       "      <td>134.254042</td>\n",
       "      <td>48.803697</td>\n",
       "      <td>14.0</td>\n",
       "    </tr>\n",
       "  </tbody>\n",
       "</table>\n",
       "</div>"
      ],
      "text/plain": [
       "            r           x          y     Q\n",
       "6    2.050528  133.040932  48.187583   7.0\n",
       "11  11.649848  147.155985  44.702631  49.0\n",
       "28   6.087742  138.000026  48.970297  73.0\n",
       "29   4.009004  135.615738  48.268367  28.0\n",
       "32   2.551832  134.254042  48.803697  14.0"
      ]
     },
     "execution_count": 324,
     "metadata": {},
     "output_type": "execute_result"
    }
   ],
   "source": [
    "counts = find_new_r_for_perturbed_datas_outside_domain(perturbed_data_with_r_outside_domain, plain_df_2d)\n",
    "counts.head()"
   ]
  }
 ],
 "metadata": {
  "kernelspec": {
   "display_name": "base",
   "language": "python",
   "name": "python3"
  },
  "language_info": {
   "codemirror_mode": {
    "name": "ipython",
    "version": 3
   },
   "file_extension": ".py",
   "mimetype": "text/x-python",
   "name": "python",
   "nbconvert_exporter": "python",
   "pygments_lexer": "ipython3",
   "version": "3.9.13"
  },
  "orig_nbformat": 4
 },
 "nbformat": 4,
 "nbformat_minor": 2
}
