{
 "cells": [
  {
   "cell_type": "code",
   "execution_count": 21,
   "metadata": {
    "collapsed": true,
    "ExecuteTime": {
     "end_time": "2023-08-14T14:03:23.107792Z",
     "start_time": "2023-08-14T14:03:23.102446Z"
    }
   },
   "outputs": [],
   "source": [
    "import yellowbrick as yb\n"
   ]
  },
  {
   "cell_type": "code",
   "execution_count": 22,
   "outputs": [],
   "source": [
    "from yellowbrick.cluster import kelbow_visualizer\n",
    "from yellowbrick.datasets import load_nfl\n",
    "from sklearn.cluster import KMeans, AgglomerativeClustering\n",
    "import matplotlib\n",
    "matplotlib.use('WebAgg')\n",
    "X, y = load_nfl()\n",
    "\n",
    "model1 = AgglomerativeClustering()\n",
    "vis = kelbow_visualizer(model1, X, k=(2,10), timings=False, distance_metric='euclidean', metric='distortion', show=False)\n",
    "vis.fit(X)\n",
    "vis.finalize()\n",
    "vis.ax.set_xlabel('Squared distances')\n",
    "vis.fig.tight_layout()\n",
    "vis.fig.show()"
   ],
   "metadata": {
    "collapsed": false,
    "ExecuteTime": {
     "end_time": "2023-08-14T14:03:23.206928Z",
     "start_time": "2023-08-14T14:03:23.107064Z"
    }
   }
  },
  {
   "cell_type": "code",
   "execution_count": 23,
   "outputs": [],
   "source": [
    "from yellowbrick.cluster import KElbowVisualizer\n",
    "import numpy as np\n",
    "from sklearn.cluster import KMeans, AgglomerativeClustering\n",
    "from sklearn.metrics import pairwise_distances\n",
    "from yellowbrick.cluster.base import ClusteringScoreVisualizer\n",
    "from sklearn.datasets import make_blobs\n",
    "import matplotlib.pyplot as plt\n",
    "\n",
    "class GapStatisticVisualizer(ClusteringScoreVisualizer):\n",
    "    def __init__(self, estimator, k_range=(2,10), n_references=100, ax=None, title=\"Gap Statistic for Optimal Number of Clusters\", **kwargs):\n",
    "        super().__init__(estimator, ax=ax, **kwargs)\n",
    "        self.k_range = k_range\n",
    "        self.n_references = n_references\n",
    "        self.title = title\n",
    "\n",
    "\n",
    "    def draw(self):\n",
    "        vis = KElbowVisualizer(model, k=(2,10), timings=False, distance_metric='euclidean', metric='distortion', ax=self.ax)\n",
    "        vis.show()\n",
    "        plt.clf()\n",
    "        \n",
    "# Generate synthetic dataset\n",
    "\n"
   ],
   "metadata": {
    "collapsed": false,
    "ExecuteTime": {
     "end_time": "2023-08-14T14:03:23.310574Z",
     "start_time": "2023-08-14T14:03:23.208386Z"
    }
   }
  },
  {
   "cell_type": "code",
   "execution_count": 24,
   "outputs": [
    {
     "name": "stderr",
     "output_type": "stream",
     "text": [
      "/Users/tjibbevanderende/anaconda3/envs/notebook-thesis/lib/python3.8/site-packages/yellowbrick/base.py:236: YellowbrickWarning: GapStatisticVisualizer does not have a reference to a matplotlib.Axes the figure may not render as expected!\n",
      "  warnings.warn(\n"
     ]
    },
    {
     "data": {
      "text/plain": "<Axes: title={'center': 'Distortion Score Elbow for AgglomerativeClustering Clustering'}, xlabel='Squared distances', ylabel='distortion score'>"
     },
     "execution_count": 24,
     "metadata": {},
     "output_type": "execute_result"
    }
   ],
   "source": [
    "data, _ = make_blobs(n_samples=1000, centers=4, random_state=42)\n",
    "\n",
    "# Instantiate the clustering model and visualizer for AgglomerativeClustering\n",
    "model = AgglomerativeClustering()\n",
    "visualizer = GapStatisticVisualizer(model, k_range=(2,10))\n",
    "\n",
    "# Fit the data and visualize\n",
    "visualizer.fit(data)\n",
    "visualizer.show()"
   ],
   "metadata": {
    "collapsed": false,
    "ExecuteTime": {
     "end_time": "2023-08-14T14:03:23.457516Z",
     "start_time": "2023-08-14T14:03:23.313299Z"
    }
   }
  },
  {
   "cell_type": "code",
   "execution_count": 25,
   "outputs": [
    {
     "name": "stderr",
     "output_type": "stream",
     "text": [
      "/Users/tjibbevanderende/anaconda3/envs/notebook-thesis/lib/python3.8/site-packages/yellowbrick/base.py:236: YellowbrickWarning: GapStatisticVisualizer does not have a reference to a matplotlib.Axes the figure may not render as expected!\n",
      "  warnings.warn(\n"
     ]
    },
    {
     "data": {
      "text/plain": "<Axes: title={'center': 'Distortion Score Elbow for AgglomerativeClustering Clustering'}, xlabel='Squared distances', ylabel='distortion score'>"
     },
     "execution_count": 25,
     "metadata": {},
     "output_type": "execute_result"
    }
   ],
   "source": [
    "data, _ = make_blobs(n_samples=1000, centers=4, random_state=42)\n",
    "\n",
    "# Instantiate the clustering model and visualizer for AgglomerativeClustering\n",
    "model = KMeans(n_init='auto')\n",
    "visualizer = GapStatisticVisualizer(model, k_range=(2,10))\n",
    "\n",
    "# Fit the data and visualize\n",
    "visualizer.fit(data)\n",
    "visualizer.show()"
   ],
   "metadata": {
    "collapsed": false,
    "ExecuteTime": {
     "end_time": "2023-08-14T14:03:23.711701Z",
     "start_time": "2023-08-14T14:03:23.464552Z"
    }
   }
  },
  {
   "cell_type": "code",
   "execution_count": 26,
   "outputs": [],
   "source": [
    "experiments_and_data = {\n",
    "    'seeds-dataset':  {\n",
    "        'loc': '../data/seeds-dataset/rq2-nd.csv',\n",
    "        '2': ['area', 'perimeter'],\n",
    "        '3': ['area', 'perimeter', 'length of kernel'],\n",
    "        'n': ['area', 'perimeter', 'length of kernel', 'compactness', 'width of kernel', 'asymmetry coefficient', 'length of kernel groove'],\n",
    "    },\n",
    "    'heart-dataset': {\n",
    "        'loc': '../data/heart-dataset/heart_numerical.csv',\n",
    "        '2': ['baseline value', 'histogram_min'],\n",
    "        '3': ['baseline value', 'histogram_min', 'accelerations'],\n",
    "        'n': ['baseline value', 'histogram_min', 'accelerations', 'fetal_movement', 'uterine_contractions', 'light_decelerations', 'histogram_width', 'histogram_max', 'histogram_number_of_peaks']\n",
    "    },\n",
    "    'circle-dataset': {\n",
    "        'loc': './data/circle_1000_3d.csv',\n",
    "        '2': ['x1', 'x2'],\n",
    "        '3': ['x1', 'x2', 'x3']\n",
    "    },\n",
    "    'line-dataset': {\n",
    "        'loc': './data/line_1000_3d.csv',\n",
    "        '2': ['x1', 'x2'],\n",
    "        '3': ['x1', 'x2', 'x3'],\n",
    "    },\n",
    "    'skewed-dataset': {\n",
    "        'loc': './data/skewed_1000_3d_.csv',\n",
    "        '2': ['x1', 'x2'],\n",
    "        '3': ['x1', 'x2', 'x3'],\n",
    "    }\n",
    "}"
   ],
   "metadata": {
    "collapsed": false,
    "ExecuteTime": {
     "end_time": "2023-08-14T14:03:23.719129Z",
     "start_time": "2023-08-14T14:03:23.712739Z"
    }
   }
  },
  {
   "cell_type": "code",
   "execution_count": 30,
   "outputs": [],
   "source": [
    "from Helpers import helpers\n",
    "def run_for_all_experiments():\n",
    "    for dataset in ['seeds-dataset', 'heart-dataset', 'circle-dataset', 'line-dataset', 'skewed-dataset']:\n",
    "        dataset_obj = experiments_and_data[dataset]\n",
    "        for dimension in ['2', '3', 'n']:\n",
    "            if dimension in dataset_obj:\n",
    "                dataset_df = helpers.load_dataset(dataset_obj['loc'])\n",
    "                dataset_df_columns = dataset_obj[dimension]\n",
    "                model_kmeans = KMeans(n_init='auto')\n",
    "                model_agglomerative = AgglomerativeClustering(metric='euclidean', linkage='ward')\n",
    "                vis_algglomerative = KElbowVisualizer(model_agglomerative, k=(2,10), timings=False, distance_metric='euclidean', locate_elbow=False, metric='silhouette', title=f\"Elbow for Optimal Number of Clusters for Agglomerative Clustering: {dataset} with {dimension} dimensions\")\n",
    "                vis_algglomerative.fit(dataset_df[dataset_df_columns])\n",
    "                vis_algglomerative.ax.set_xlabel('Squared distances')\n",
    "                vis_algglomerative.show(outpath=f\"./results/test/{dataset}-{dimension}-agglomerative.png\", clear_figure=True)\n",
    "                #vis_algglomerative.finalize()\n",
    "                vis_kmeans = KElbowVisualizer(model_kmeans, k=(2,10), timings=False,distance_metric='euclidean', metric='silhouette', locate_elbow=False, title=f\"Elbow for Optimal Number of Clusters for KMeans: {dataset} with {dimension} dimensions\")\n",
    "                vis_kmeans.fit(dataset_df[dataset_df_columns])\n",
    "                vis_kmeans.show(outpath=f\"./results/test/{dataset}-{dimension}-kmeans.png\", clear_figure=True)\n",
    "                #vis_kmeans.ax.set_xlabel('Squared distances')\n",
    "                #vis_kmeans.finalize()\n",
    "                \n",
    "        "
   ],
   "metadata": {
    "collapsed": false,
    "ExecuteTime": {
     "end_time": "2023-08-14T14:28:29.479175Z",
     "start_time": "2023-08-14T14:28:29.477030Z"
    }
   }
  },
  {
   "cell_type": "code",
   "execution_count": 31,
   "outputs": [],
   "source": [
    "run_for_all_experiments()"
   ],
   "metadata": {
    "collapsed": false,
    "ExecuteTime": {
     "end_time": "2023-08-14T14:28:43.632818Z",
     "start_time": "2023-08-14T14:28:32.740928Z"
    }
   }
  },
  {
   "cell_type": "code",
   "execution_count": 17,
   "outputs": [],
   "source": [],
   "metadata": {
    "collapsed": false,
    "ExecuteTime": {
     "end_time": "2023-08-13T19:01:50.174650Z",
     "start_time": "2023-08-13T19:01:50.173236Z"
    }
   }
  }
 ],
 "metadata": {
  "kernelspec": {
   "display_name": "Python 3",
   "language": "python",
   "name": "python3"
  },
  "language_info": {
   "codemirror_mode": {
    "name": "ipython",
    "version": 2
   },
   "file_extension": ".py",
   "mimetype": "text/x-python",
   "name": "python",
   "nbconvert_exporter": "python",
   "pygments_lexer": "ipython2",
   "version": "2.7.6"
  }
 },
 "nbformat": 4,
 "nbformat_minor": 0
}
