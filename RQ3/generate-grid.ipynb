{
 "cells": [
  {
   "cell_type": "code",
   "execution_count": 78,
   "id": "initial_id",
   "metadata": {
    "collapsed": true,
    "ExecuteTime": {
     "end_time": "2023-08-16T17:43:59.835721Z",
     "start_time": "2023-08-16T17:43:59.833754Z"
    }
   },
   "outputs": [],
   "source": [
    "import numpy as np\n",
    "from Helpers import helpers\n",
    "\n",
    "def validate_q (u, r_max, epsilon, n_dimensions=2):\n",
    "    q = u / r_max\n",
    "    print( n_dimensions* np.exp(epsilon * u), q)\n",
    "    if r_max < u: \n",
    "        print(\"holds for r_max\")\n",
    "    else:\n",
    "        print(\"does not hold for r_max\")\n",
    "\n",
    "    if q > n_dimensions * np.exp(epsilon * u):\n",
    "        print(\"The inequality holds.\")\n",
    "    else:\n",
    "        print(\"The inequality does not hold.\")\n",
    "        \n",
    "def compute_diameter(data):\n",
    "    \"\"\"\n",
    "    Compute the diameter of the dataset using Euclidean distance.\n",
    "    \n",
    "    Parameters:\n",
    "    - data: A 2D numpy array where each row is a data point and each column is a feature.\n",
    "    \n",
    "    Returns:\n",
    "    - diameter: The maximum Euclidean distance between any two points in the dataset.\n",
    "    \"\"\"\n",
    "    if not isinstance(data, np.ndarray):\n",
    "        raise ValueError(\"Input data must be a numpy array\")\n",
    "    \n",
    "    max_distance = 0\n",
    "    for i in range(data.shape[0]):\n",
    "        for j in range(i+1, data.shape[0]):\n",
    "            distance = np.linalg.norm(data[i] - data[j])\n",
    "            max_distance = max(max_distance, distance)\n",
    "    return max_distance"
   ]
  },
  {
   "cell_type": "code",
   "execution_count": 105,
   "outputs": [
    {
     "name": "stdout",
     "output_type": "stream",
     "text": [
      "1.8922954828929255\n"
     ]
    }
   ],
   "source": [
    "from sklearn.preprocessing import MinMaxScaler\n",
    "\n",
    "data = helpers.load_dataset('../data/heart-dataset/heart_numerical.csv')\n",
    "n_dimensions = 9\n",
    "# find diameter of the dataset with custom function (does not exist)\n",
    "test_normization = MinMaxScaler().fit_transform(X=data.iloc[:, :n_dimensions])\n",
    "dia = compute_diameter(test_normization)\n",
    "print(dia)"
   ],
   "metadata": {
    "collapsed": false,
    "ExecuteTime": {
     "end_time": "2023-08-16T17:47:15.584589Z",
     "start_time": "2023-08-16T17:47:11.847384Z"
    }
   },
   "id": "4b8d99eae1dd9dac"
  },
  {
   "cell_type": "code",
   "execution_count": 120,
   "outputs": [
    {
     "name": "stdout",
     "output_type": "stream",
     "text": [
      "80.35498454166647 11.569173884738216\n",
      "holds for r_max\n",
      "The inequality does not hold.\n"
     ]
    }
   ],
   "source": [
    "u = dia + 20\n",
    "r_max = dia\n",
    "\n",
    "epsilon = 0.1\n",
    "\n",
    "validate_q(u, r_max, epsilon, n_dimensions=n_dimensions)"
   ],
   "metadata": {
    "collapsed": false,
    "ExecuteTime": {
     "end_time": "2023-08-16T17:48:34.135333Z",
     "start_time": "2023-08-16T17:48:34.131158Z"
    }
   },
   "id": "ea4e96f81b43b3cb"
  },
  {
   "cell_type": "code",
   "execution_count": 15,
   "outputs": [
    {
     "data": {
      "text/plain": "-1.5442425994626316"
     },
     "execution_count": 15,
     "metadata": {},
     "output_type": "execute_result"
    }
   ],
   "source": [
    "from Helpers import twod_laplace\n",
    "\n",
    "twod_laplace.LambertW(0.99)"
   ],
   "metadata": {
    "collapsed": false,
    "ExecuteTime": {
     "end_time": "2023-08-16T17:29:33.011909Z",
     "start_time": "2023-08-16T17:29:33.009254Z"
    }
   },
   "id": "7dc42e18e872c5d3"
  },
  {
   "cell_type": "code",
   "execution_count": 5,
   "outputs": [
    {
     "data": {
      "text/plain": "True"
     },
     "execution_count": 5,
     "metadata": {},
     "output_type": "execute_result"
    }
   ],
   "source": [
    "0.99 > -1/np.e"
   ],
   "metadata": {
    "collapsed": false,
    "ExecuteTime": {
     "end_time": "2023-08-16T17:23:52.007436Z",
     "start_time": "2023-08-16T17:23:52.003392Z"
    }
   },
   "id": "72ba5da6d9acc941"
  },
  {
   "cell_type": "code",
   "execution_count": 6,
   "outputs": [
    {
     "data": {
      "text/plain": "-1.5442425994626316"
     },
     "execution_count": 6,
     "metadata": {},
     "output_type": "execute_result"
    }
   ],
   "source": [
    "from scipy.special import lambertw\n",
    "\n",
    "lambertw(0.99, k=-1).real\n"
   ],
   "metadata": {
    "collapsed": false,
    "ExecuteTime": {
     "end_time": "2023-08-16T17:23:52.010634Z",
     "start_time": "2023-08-16T17:23:52.005300Z"
    }
   },
   "id": "1fef273561336781"
  },
  {
   "cell_type": "code",
   "execution_count": 197,
   "outputs": [
    {
     "name": "stderr",
     "output_type": "stream",
     "text": [
      "/var/folders/x3/k4hl686x0jb6bj0ky2fbhwlw0000gn/T/ipykernel_6775/529453449.py:7: RuntimeWarning: invalid value encountered in log\n",
      "  return (1/u) * np.log((q + 2 * np.exp(epsilon * u)) / (q - 2 * np.exp(epsilon * u)))\n"
     ]
    },
    {
     "data": {
      "text/plain": "<Figure size 640x480 with 1 Axes>",
      "image/png": "[encoded data removed]"
     },
     "metadata": {},
     "output_type": "display_data"
    }
   ],
   "source": [
    "import numpy as np\n",
    "import matplotlib.pyplot as plt\n",
    "\n",
    "def evaluate_function(R_m, epsilon, h):\n",
    "    u = R_m / h\n",
    "    q = np.exp(epsilon * u)\n",
    "    return (1/u) * np.log((q + 2 * np.exp(epsilon * u)) / (q - 2 * np.exp(epsilon * u)))\n",
    "\n",
    "# Parameters\n",
    "R_m = 5.0\n",
    "epsilon = 0.5\n",
    "h_values = np.linspace(0.01, 10.0, 1000)\n",
    "y_values = [evaluate_function(R_m, epsilon, h) for h in h_values]\n",
    "\n",
    "# Filter out extreme values\n",
    "y_values = [y if np.abs(y) < 1e10 else 0 for y in y_values]\n",
    "\n",
    "# Plot\n",
    "plt.plot(h_values, y_values, label='Function Value')\n",
    "plt.axhline(0, color='red', linestyle='--', label='y=0')\n",
    "plt.xlabel('h')\n",
    "plt.ylabel('Function Value')\n",
    "plt.legend()\n",
    "plt.title('Function Value vs. h')\n",
    "plt.show()\n"
   ],
   "metadata": {
    "collapsed": false,
    "ExecuteTime": {
     "end_time": "2023-08-16T18:12:53.332336Z",
     "start_time": "2023-08-16T18:12:53.269294Z"
    }
   },
   "id": "5512eeeb270edc20"
  },
  {
   "cell_type": "code",
   "execution_count": 145,
   "outputs": [],
   "source": [],
   "metadata": {
    "collapsed": false,
    "ExecuteTime": {
     "end_time": "2023-08-16T17:59:20.023922Z",
     "start_time": "2023-08-16T17:59:20.016420Z"
    }
   },
   "id": "10b11e1d76be151a"
  },
  {
   "cell_type": "code",
   "execution_count": null,
   "outputs": [],
   "source": [],
   "metadata": {
    "collapsed": false
   },
   "id": "7e264b764c17cfb4"
  }
 ],
 "metadata": {
  "kernelspec": {
   "display_name": "Python 3",
   "language": "python",
   "name": "python3"
  },
  "language_info": {
   "codemirror_mode": {
    "name": "ipython",
    "version": 2
   },
   "file_extension": ".py",
   "mimetype": "text/x-python",
   "name": "python",
   "nbconvert_exporter": "python",
   "pygments_lexer": "ipython2",
   "version": "2.7.6"
  }
 },
 "nbformat": 4,
 "nbformat_minor": 5
}
